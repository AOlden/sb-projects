{
 "cells": [
  {
   "cell_type": "markdown",
   "metadata": {},
   "source": [
    "# XML example and exercise\n",
    "****\n",
    "+ study examples of accessing nodes in XML tree structure  \n",
    "+ work on exercise to be completed and submitted\n",
    "****\n",
    "+ reference: https://docs.python.org/2.7/library/xml.etree.elementtree.html\n",
    "+ data source: http://www.dbis.informatik.uni-goettingen.de/Mondial\n",
    "****"
   ]
  },
  {
   "cell_type": "code",
   "execution_count": 1,
   "metadata": {
    "collapsed": true
   },
   "outputs": [],
   "source": [
    "from xml.etree import ElementTree as ET"
   ]
  },
  {
   "cell_type": "markdown",
   "metadata": {},
   "source": [
    "## XML example\n",
    "\n",
    "+ for details about tree traversal and iterators, see https://docs.python.org/2.7/library/xml.etree.elementtree.html"
   ]
  },
  {
   "cell_type": "code",
   "execution_count": 12,
   "metadata": {
    "collapsed": true
   },
   "outputs": [],
   "source": [
    "document_tree = ET.parse( './data/mondial_database_less.xml' )"
   ]
  },
  {
   "cell_type": "code",
   "execution_count": 13,
   "metadata": {
    "collapsed": false
   },
   "outputs": [
    {
     "name": "stdout",
     "output_type": "stream",
     "text": [
      "Albania\n",
      "Greece\n",
      "Macedonia\n",
      "Serbia\n",
      "Montenegro\n",
      "Kosovo\n",
      "Andorra\n"
     ]
    }
   ],
   "source": [
    "# print names of all countries\n",
    "for child in document_tree.getroot():\n",
    "    print(child.find('name').text)"
   ]
  },
  {
   "cell_type": "code",
   "execution_count": 14,
   "metadata": {
    "collapsed": false
   },
   "outputs": [
    {
     "name": "stdout",
     "output_type": "stream",
     "text": [
      "* Albania:\n",
      "Tirana, Shkodër, Durrës, Vlorë, Elbasan, Korçë\n",
      "* Greece:\n",
      "Komotini, Kavala, Athina, Peiraias, Peristeri, Acharnes, Patra, Kozani, Kerkyra, Ioannina, Thessaloniki, Iraklio, Chania, Ermoupoli, Rhodes, Tripoli, Lamia, Chalkida, Larissa, Volos, Mytilini, Karyes\n",
      "* Macedonia:\n",
      "Skopje, Kumanovo\n",
      "* Serbia:\n",
      "Beograd, Novi Sad, Niš\n",
      "* Montenegro:\n",
      "Podgorica\n",
      "* Kosovo:\n",
      "Prishtine\n",
      "* Andorra:\n",
      "Andorra la Vella\n"
     ]
    }
   ],
   "source": [
    "# print names of all countries and their cities\n",
    "for element in document_tree.iterfind('country'):\n",
    "    print('* ' + element.find('name').text + ':')\n",
    "    capitals_string = ''\n",
    "    for subelement in element.getiterator('city'):\n",
    "        capitals_string += subelement.find('name').text + ', '\n",
    "    print(capitals_string[:-2])"
   ]
  },
  {
   "cell_type": "markdown",
   "metadata": {},
   "source": [
    "****\n",
    "## XML exercise\n",
    "\n",
    "Using data in 'data/mondial_database.xml', the examples above, and refering to https://docs.python.org/2.7/library/xml.etree.elementtree.html, find\n",
    "\n",
    "1. 10 countries with the lowest infant mortality rates\n",
    "2. 10 cities with the largest population\n",
    "3. 10 ethnic groups with the largest overall populations (sum of best/latest estimates over all countries)\n",
    "4. name and country of a) longest river, b) largest lake and c) airport at highest elevation"
   ]
  },
  {
   "cell_type": "code",
   "execution_count": 1,
   "metadata": {
    "collapsed": false
   },
   "outputs": [],
   "source": [
    "from xml.etree import ElementTree as ET\n",
    "import pandas as pd\n",
    "\n",
    "countries_tree = ET.parse('./data/mondial_database.xml')\n",
    "countries_root = countries_tree.getroot()"
   ]
  },
  {
   "cell_type": "code",
   "execution_count": 17,
   "metadata": {
    "collapsed": false
   },
   "outputs": [],
   "source": [
    "#1. Find the 10 countries with the lowest infant mortality rates.\n",
    "\n",
    " #create dictionary, set country names as keys and infant mortality rate as values\n",
    "IM_dict = {}\n",
    "for element in countries_tree.iterfind('country'):\n",
    "    try: IM_dict[element.find('name').text] = [float(element.find('infant_mortality').text)]\n",
    "    except: pass \n",
    "    \n",
    " #use dictionary to construct df\n",
    "IM_df = pd.DataFrame([[key, value] for key, value in IM_dict.items()], columns = ['country', 'IM_rate'])\n",
    "IM_df.sort_values(by = 'IM_rate').head(10)"
   ]
  },
  {
   "cell_type": "code",
   "execution_count": null,
   "metadata": {
    "collapsed": true
   },
   "outputs": [],
   "source": []
  },
  {
   "cell_type": "code",
   "execution_count": 18,
   "metadata": {
    "collapsed": false
   },
   "outputs": [],
   "source": [
    "#2. Find the 10 cities with the largest population.\n",
    "\n",
    " #create dictionary, set city names as keys and population as values\n",
    "city_popn_dict = {}\n",
    "for element in countries_tree.iterfind('country'):\n",
    "    for city in element.iterfind('city'):\n",
    "        try: city_popn_dict[city.find('name').text] = [int(city.find('population').text)]\n",
    "        except: pass \n",
    "    \n",
    " #use dictionary to construct df, \n",
    "city_popn_df = pd.DataFrame([[key, value] for key, value in city_popn_dict.items()], \n",
    "                            columns = ['city', 'population'])\n",
    "city_popn_df.sort_values(by = 'population', ascending = False).head(10)"
   ]
  },
  {
   "cell_type": "code",
   "execution_count": null,
   "metadata": {
    "collapsed": true
   },
   "outputs": [],
   "source": []
  },
  {
   "cell_type": "code",
   "execution_count": 51,
   "metadata": {
    "collapsed": false
   },
   "outputs": [
    {
     "data": {
      "text/html": [
       "<div>\n",
       "<table border=\"1\" class=\"dataframe\">\n",
       "  <thead>\n",
       "    <tr style=\"text-align: right;\">\n",
       "      <th></th>\n",
       "      <th>country_popn</th>\n",
       "      <th>percentage</th>\n",
       "      <th>EG_popn</th>\n",
       "    </tr>\n",
       "    <tr>\n",
       "      <th>ethnic_group</th>\n",
       "      <th></th>\n",
       "      <th></th>\n",
       "      <th></th>\n",
       "    </tr>\n",
       "  </thead>\n",
       "  <tbody>\n",
       "    <tr>\n",
       "      <th>Han Chinese</th>\n",
       "      <td>543776080</td>\n",
       "      <td>0.9150</td>\n",
       "      <td>4.975551e+08</td>\n",
       "    </tr>\n",
       "    <tr>\n",
       "      <th>European</th>\n",
       "      <td>362717873</td>\n",
       "      <td>9.7082</td>\n",
       "      <td>1.928658e+08</td>\n",
       "    </tr>\n",
       "    <tr>\n",
       "      <th>Indo-Aryan</th>\n",
       "      <td>238396327</td>\n",
       "      <td>0.7200</td>\n",
       "      <td>1.716454e+08</td>\n",
       "    </tr>\n",
       "    <tr>\n",
       "      <th>Russian</th>\n",
       "      <td>202263854</td>\n",
       "      <td>2.2410</td>\n",
       "      <td>9.275844e+07</td>\n",
       "    </tr>\n",
       "    <tr>\n",
       "      <th>African</th>\n",
       "      <td>357529690</td>\n",
       "      <td>18.6855</td>\n",
       "      <td>8.632937e+07</td>\n",
       "    </tr>\n",
       "    <tr>\n",
       "      <th>Japanese</th>\n",
       "      <td>82199470</td>\n",
       "      <td>0.9940</td>\n",
       "      <td>8.170627e+07</td>\n",
       "    </tr>\n",
       "    <tr>\n",
       "      <th>German</th>\n",
       "      <td>145710759</td>\n",
       "      <td>1.6560</td>\n",
       "      <td>6.623219e+07</td>\n",
       "    </tr>\n",
       "    <tr>\n",
       "      <th>Dravidian</th>\n",
       "      <td>238396327</td>\n",
       "      <td>0.2500</td>\n",
       "      <td>5.959908e+07</td>\n",
       "    </tr>\n",
       "    <tr>\n",
       "      <th>English</th>\n",
       "      <td>50616012</td>\n",
       "      <td>0.8360</td>\n",
       "      <td>4.231499e+07</td>\n",
       "    </tr>\n",
       "    <tr>\n",
       "      <th>Mestizo</th>\n",
       "      <td>67185932</td>\n",
       "      <td>8.7070</td>\n",
       "      <td>3.554233e+07</td>\n",
       "    </tr>\n",
       "  </tbody>\n",
       "</table>\n",
       "</div>"
      ],
      "text/plain": [
       "              country_popn  percentage       EG_popn\n",
       "ethnic_group                                        \n",
       "Han Chinese      543776080      0.9150  4.975551e+08\n",
       "European         362717873      9.7082  1.928658e+08\n",
       "Indo-Aryan       238396327      0.7200  1.716454e+08\n",
       "Russian          202263854      2.2410  9.275844e+07\n",
       "African          357529690     18.6855  8.632937e+07\n",
       "Japanese          82199470      0.9940  8.170627e+07\n",
       "German           145710759      1.6560  6.623219e+07\n",
       "Dravidian        238396327      0.2500  5.959908e+07\n",
       "English           50616012      0.8360  4.231499e+07\n",
       "Mestizo           67185932      8.7070  3.554233e+07"
      ]
     },
     "execution_count": 51,
     "metadata": {},
     "output_type": "execute_result"
    }
   ],
   "source": [
    "#3. Find the 10 ethnic groups with the largest overall populations (sum of best/latest estimates over all countries).\n",
    "\n",
    " #create list, add country, ethnic group, and percentage\n",
    "EG_list = []\n",
    "for element in countries_root.iterfind('country'):\n",
    "    country_name = element.find('name').text\n",
    "    country_popn = element.find('population').text\n",
    "    for EG in element.iterfind('ethnicgroup'):\n",
    "        EG_name = EG.text\n",
    "        EG_pct = EG.attrib['percentage']\n",
    "        EG_list.append([country_name, country_popn, EG_name, EG_pct])\n",
    "\n",
    " #create df, convert percentage to decimal and country population to numeric\n",
    "EG_df = pd.DataFrame(EG_list, columns = ['country', 'country_popn', 'ethnic_group', 'percentage'])\n",
    "EG_df['percentage'] = pd.to_numeric(EG_df['percentage']) / 100\n",
    "EG_df['country_popn'] = pd.to_numeric(EG_df['country_popn'])\n",
    "\n",
    " #add column capturing populations of ethnic groups, group, sort, and show top 10\n",
    "EG_df['EG_popn'] = EG_df['country_popn'] * EG_df['percentage'] \n",
    "EG_df_group = EG_df.groupby('ethnic_group').sum()\n",
    "EG_df_group.sort_values(by = 'EG_popn', ascending = False).head(10)\n"
   ]
  },
  {
   "cell_type": "code",
   "execution_count": null,
   "metadata": {
    "collapsed": true
   },
   "outputs": [],
   "source": []
  },
  {
   "cell_type": "code",
   "execution_count": 24,
   "metadata": {
    "collapsed": false
   },
   "outputs": [
    {
     "data": {
      "text/html": [
       "<div>\n",
       "<table border=\"1\" class=\"dataframe\">\n",
       "  <thead>\n",
       "    <tr style=\"text-align: right;\">\n",
       "      <th></th>\n",
       "      <th>name</th>\n",
       "      <th>country</th>\n",
       "      <th>length</th>\n",
       "    </tr>\n",
       "  </thead>\n",
       "  <tbody>\n",
       "    <tr>\n",
       "      <th>174</th>\n",
       "      <td>Amazonas</td>\n",
       "      <td>CO BR PE</td>\n",
       "      <td>6448</td>\n",
       "    </tr>\n",
       "  </tbody>\n",
       "</table>\n",
       "</div>"
      ],
      "text/plain": [
       "         name   country length\n",
       "174  Amazonas  CO BR PE   6448"
      ]
     },
     "execution_count": 24,
     "metadata": {},
     "output_type": "execute_result"
    }
   ],
   "source": [
    "#4a) Find the name and country of the longest river.\n",
    "\n",
    " #pull name, country, and length for rivers and add to relevant lists\n",
    "r_name_list = []\n",
    "r_country_list = []\n",
    "r_length_list = []\n",
    "\n",
    "for river in countries_root.findall('river'):\n",
    "    r_name = river.find('name').text\n",
    "    r_name_list.append(r_name)\n",
    "    r_country = river.get('country')\n",
    "    r_country_list.append(r_country)\n",
    "    \n",
    "for river in countries_root.findall('river'):\n",
    "    try: length = int(river.find('length').text)\n",
    "    except: pass\n",
    "    r_length_list.append(length)\n",
    "\n",
    " #check length of each list (commented out in final) and create master list\n",
    "#len(name_list)\n",
    "#len(country_list)\n",
    "#len(length_list)\n",
    "rivers_list = [r_name_list, r_country_list, r_length_list]\n",
    "\n",
    " #create df and sort for longest \n",
    "rivers_df = pd.DataFrame(rivers_list).T\n",
    "rivers_df.columns = ['name', 'country', 'length']\n",
    "rivers_df.sort_values(by = 'length', ascending = False).head(1)"
   ]
  },
  {
   "cell_type": "code",
   "execution_count": 22,
   "metadata": {
    "collapsed": false
   },
   "outputs": [
    {
     "data": {
      "text/html": [
       "<div>\n",
       "<table border=\"1\" class=\"dataframe\">\n",
       "  <thead>\n",
       "    <tr style=\"text-align: right;\">\n",
       "      <th></th>\n",
       "      <th>name</th>\n",
       "      <th>country</th>\n",
       "      <th>area</th>\n",
       "    </tr>\n",
       "  </thead>\n",
       "  <tbody>\n",
       "    <tr>\n",
       "      <th>54</th>\n",
       "      <td>Caspian Sea</td>\n",
       "      <td>R AZ KAZ IR TM</td>\n",
       "      <td>386400</td>\n",
       "    </tr>\n",
       "  </tbody>\n",
       "</table>\n",
       "</div>"
      ],
      "text/plain": [
       "           name         country    area\n",
       "54  Caspian Sea  R AZ KAZ IR TM  386400"
      ]
     },
     "execution_count": 22,
     "metadata": {},
     "output_type": "execute_result"
    }
   ],
   "source": [
    "#4b) Find the name and country of largest lake.\n",
    "\n",
    " #pull name, country, and size for lakes and add to relevant lists\n",
    "l_name_list = []\n",
    "l_country_list = []\n",
    "l_area_list = []\n",
    "\n",
    "for lake in countries_root.findall('lake'):\n",
    "    l_name = lake.find('name').text\n",
    "    l_name_list.append(l_name)\n",
    "    l_country = lake.get('country')\n",
    "    l_country_list.append(l_country)\n",
    "    \n",
    "for lake in countries_root.findall('lake'):\n",
    "    try: area = int(lake.find('area').text)\n",
    "    except: pass\n",
    "    l_area_list.append(area) \n",
    "    \n",
    " #check length of each list (commented out in final) and create master list\n",
    "#len(name_list)\n",
    "#len(country_list)\n",
    "#len(area_list)\n",
    "lakes_list = [l_name_list, l_country_list, l_area_list]\n",
    "\n",
    " #create df and sort for largest (by area) \n",
    "lakes_df = pd.DataFrame(lakes_list).T\n",
    "lakes_df.columns = ['name', 'country', 'area']\n",
    "lakes_df.sort_values(by = 'area', ascending = False).head(1)"
   ]
  },
  {
   "cell_type": "code",
   "execution_count": 20,
   "metadata": {
    "collapsed": false
   },
   "outputs": [
    {
     "data": {
      "text/html": [
       "<div>\n",
       "<table border=\"1\" class=\"dataframe\">\n",
       "  <thead>\n",
       "    <tr style=\"text-align: right;\">\n",
       "      <th></th>\n",
       "      <th>name</th>\n",
       "      <th>country</th>\n",
       "      <th>elevation</th>\n",
       "    </tr>\n",
       "  </thead>\n",
       "  <tbody>\n",
       "    <tr>\n",
       "      <th>80</th>\n",
       "      <td>El Alto Intl</td>\n",
       "      <td>BOL</td>\n",
       "      <td>4063</td>\n",
       "    </tr>\n",
       "  </tbody>\n",
       "</table>\n",
       "</div>"
      ],
      "text/plain": [
       "            name country elevation\n",
       "80  El Alto Intl     BOL      4063"
      ]
     },
     "execution_count": 20,
     "metadata": {},
     "output_type": "execute_result"
    }
   ],
   "source": [
    "#4c) Find the name and country of airport at highest elevation.\n",
    "\n",
    " #pull name, country, and elevation for airports and add to relevant lists\n",
    "a_name_list = []\n",
    "a_country_list = []\n",
    "a_elevation_list = []\n",
    "\n",
    "for airport in countries_root.findall('airport'):\n",
    "    a_name = airport.find('name').text\n",
    "    a_name_list.append(a_name)\n",
    "    a_country = airport.get('country')\n",
    "    a_country_list.append(a_country)\n",
    "    \n",
    "for airport in countries_root.findall('airport'):\n",
    "    try: elevation = int(airport.find('elevation').text)\n",
    "    except: pass\n",
    "    a_elevation_list.append(elevation) \n",
    "    \n",
    " #check length of each list (commented out in final) and create master list\n",
    "#len(a_name_list)\n",
    "#len(a_country_list)\n",
    "#len(a_elevation_list)\n",
    "airports_list = [a_name_list, a_country_list, a_elevation_list]\n",
    "\n",
    " #create df and sort for largest (by area) \n",
    "airports_df = pd.DataFrame(airports_list).T\n",
    "airports_df.columns = ['name', 'country', 'elevation']\n",
    "airports_df.sort_values(by = 'elevation', ascending = False).head(1)"
   ]
  },
  {
   "cell_type": "code",
   "execution_count": null,
   "metadata": {
    "collapsed": true
   },
   "outputs": [],
   "source": []
  },
  {
   "cell_type": "code",
   "execution_count": null,
   "metadata": {
    "collapsed": true
   },
   "outputs": [],
   "source": []
  },
  {
   "cell_type": "code",
   "execution_count": null,
   "metadata": {
    "collapsed": true
   },
   "outputs": [],
   "source": []
  }
 ],
 "metadata": {
  "kernelspec": {
   "display_name": "Python 3",
   "language": "python",
   "name": "python3"
  },
  "language_info": {
   "codemirror_mode": {
    "name": "ipython",
    "version": 3
   },
   "file_extension": ".py",
   "mimetype": "text/x-python",
   "name": "python",
   "nbconvert_exporter": "python",
   "pygments_lexer": "ipython3",
   "version": "3.6.0"
  }
 },
 "nbformat": 4,
 "nbformat_minor": 0
}
