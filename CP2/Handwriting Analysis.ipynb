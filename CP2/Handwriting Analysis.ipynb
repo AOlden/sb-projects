{
 "cells": [
  {
   "cell_type": "markdown",
   "metadata": {},
   "source": [
    "## Introduction\n",
    "\n",
    "Image detection is a good entry point for learning about the use of neural networks, which I aim to learn more about in this project. The problem to be solved in my project is image detection (of handwritten digits, in this case) by using the branch of machine learning that deals with image detection. "
   ]
  },
  {
   "cell_type": "markdown",
   "metadata": {},
   "source": [
    "## Data Wrangling\n",
    "\n",
    "I'll first read in the data and then check for any anomalies. Reading in the data entails a series of functions, the first of which loads in raw gzip file and serializes it from a hierarchy to a series of bytes. That adjustment will make the data easier to vectorize and put into arrays afterward."
   ]
  },
  {
   "cell_type": "code",
   "execution_count": 10,
   "metadata": {
    "collapsed": false
   },
   "outputs": [],
   "source": [
    "import numpy as np\n",
    "import gzip\n",
    "import pickle #converts object hierarchy into byte stream\n",
    "\n",
    "def load_mnist():\n",
    "    file = gzip.open('mnist.pkl.gz', 'rb') #read in in binary mode\n",
    "    train, test = pickle.load(file)\n",
    "    file.close()\n",
    "    return (train, test)"
   ]
  },
  {
   "cell_type": "markdown",
   "metadata": {},
   "source": [
    "The next function creates training and test datasets that will be easier to process. The initial training data is a list of 50,000 (x, y) tuples, where x is 784-dimensional (from 28x28 pixels) array of input image and y is a ten-dimensional array capturing the corresponding classification (digit value). The initial test data has the same structure but is a list of 10,000 tuples. "
   ]
  },
  {
   "cell_type": "code",
   "execution_count": 11,
   "metadata": {
    "collapsed": true
   },
   "outputs": [],
   "source": [
    "def data_wrapper():\n",
    "    train, test = load_mnist()\n",
    "     #reshape first value (x) in each training tuple into 784D (28x28 pixels) vector\n",
    "    train_inputs = [np.reshape(x, (784, 1)) for x in train[0]] \n",
    "    train_results = [vectorized_result(y) for y in train[1]]\n",
    "    train_data = zip(train_inputs, train_results)\n",
    "#validation_inputs = [np.reshape(x, (784, 1)) for x in va_d[0]]\n",
    "#validation_data = zip(validation_inputs, va_d[1])\n",
    "    test_inputs = [np.reshape(x, (784, 1)) for x in test[0]]\n",
    "    test_data = zip(test_inputs, test[1])\n",
    "    return (train_data, test_data) #validation_data,"
   ]
  },
  {
   "cell_type": "markdown",
   "metadata": {},
   "source": [
    "The third formula converts a 0-9 digit into a corresponding desired output from the neural network using 1 as a binary marker among zeroes otherwise."
   ]
  },
  {
   "cell_type": "code",
   "execution_count": 12,
   "metadata": {
    "collapsed": true
   },
   "outputs": [],
   "source": [
    "def vectorized_result(j):\n",
    "    tenD_uv = np.zeros((10, 1)) #create 10D unit vector\n",
    "    tenD_uv[j] = 1.0 #put 1 in jth position\n",
    "    return tenD_uv"
   ]
  },
  {
   "cell_type": "code",
   "execution_count": null,
   "metadata": {
    "collapsed": true
   },
   "outputs": [],
   "source": []
  },
  {
   "cell_type": "code",
   "execution_count": null,
   "metadata": {
    "collapsed": true
   },
   "outputs": [],
   "source": []
  }
 ],
 "metadata": {
  "kernelspec": {
   "display_name": "Python 3",
   "language": "python",
   "name": "python3"
  },
  "language_info": {
   "codemirror_mode": {
    "name": "ipython",
    "version": 3
   },
   "file_extension": ".py",
   "mimetype": "text/x-python",
   "name": "python",
   "nbconvert_exporter": "python",
   "pygments_lexer": "ipython3",
   "version": "3.6.0"
  }
 },
 "nbformat": 4,
 "nbformat_minor": 2
}
