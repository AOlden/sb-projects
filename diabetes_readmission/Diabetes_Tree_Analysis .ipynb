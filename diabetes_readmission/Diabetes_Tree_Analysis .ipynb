{
 "cells": [
  {
   "cell_type": "markdown",
   "metadata": {
    "collapsed": true
   },
   "source": [
    "# Tree-based Analyses\n",
    "\n",
    "Decision trees work kind of like a game of 20 Questions. They work by considering each variable in a dataset and finding its \"split point.\" Variables with more predictive power will be used earlier in the splitting process. For example, imagine a set of data showing the freshness of various vegetables, and we want to predict whether they have spoiled or not. If one of the features is the farm of origin, and 80% of spoiled vegetables come from one particular farm, then the farm-of-origin feature will have high predictive value and be used early on in the tree-building process. From there, additional features would be considered to determine their value in predicting freshness. \n",
    "\n",
    "## Decision Trees\n",
    "When using a simple tree, it is easy to produce a visualization (with a tree shape, of course) that shows splits and features in decreasing order of importance moving down the \"tree.\" However, in this particular instance, I'm using AdaBoost, which is version of boosted trees that offers more powerful predictions. The output in this case is a bit different."
   ]
  },
  {
   "cell_type": "code",
   "execution_count": 1,
   "metadata": {
    "collapsed": false
   },
   "outputs": [],
   "source": [
    "from sklearn.ensemble import AdaBoostClassifier \n",
    "from sklearn.tree import DecisionTreeClassifier, export_graphviz\n",
    "from sklearn.model_selection import train_test_split\n",
    "from sklearn.ensemble import RandomForestClassifier\n",
    "from sklearn.metrics import recall_score\n",
    "import pandas as pd\n",
    "\n",
    "#import mapped version of data set here\n",
    "readmit = pd.read_csv('diabetes_readmission_onehot.csv') "
   ]
  },
  {
   "cell_type": "code",
   "execution_count": 2,
   "metadata": {
    "collapsed": false
   },
   "outputs": [],
   "source": [
    "# capture independent variables in list\n",
    "features = list(readmit)\n",
    "features = [e for e in features if e not in ('Unnamed: 0', 'readmit30')]"
   ]
  },
  {
   "cell_type": "code",
   "execution_count": 4,
   "metadata": {
    "collapsed": false
   },
   "outputs": [],
   "source": [
    "# split the data into a training and test set\n",
    "X = readmit[features].values\n",
    "y = readmit.readmit30.values\n",
    "Xtrain, Xtest, Ytrain, Ytest = train_test_split(X, y, test_size = .2, \n",
    "                                                random_state = 31, stratify = y)"
   ]
  },
  {
   "cell_type": "code",
   "execution_count": 11,
   "metadata": {
    "collapsed": false
   },
   "outputs": [
    {
     "name": "stdout",
     "output_type": "stream",
     "text": [
      "0.847856982572\n"
     ]
    }
   ],
   "source": [
    "# build model on training data\n",
    "dt = DecisionTreeClassifier() \n",
    "clf = AdaBoostClassifier(base_estimator = dt, n_estimators = 50, learning_rate = 1, random_state = 7)\n",
    "model = clf.fit(Xtrain, Ytrain)\n",
    "\n",
    "# check performance (model accuracy) on test data\n",
    "print(model.score(Xtest, Ytest))"
   ]
  },
  {
   "cell_type": "code",
   "execution_count": 6,
   "metadata": {
    "collapsed": false
   },
   "outputs": [
    {
     "data": {
      "text/html": [
       "<div>\n",
       "<table border=\"1\" class=\"dataframe\">\n",
       "  <thead>\n",
       "    <tr style=\"text-align: right;\">\n",
       "      <th></th>\n",
       "      <th>feature</th>\n",
       "      <th>importance</th>\n",
       "    </tr>\n",
       "  </thead>\n",
       "  <tbody>\n",
       "    <tr>\n",
       "      <th>7</th>\n",
       "      <td>num_visits</td>\n",
       "      <td>0.119798</td>\n",
       "    </tr>\n",
       "    <tr>\n",
       "      <th>2</th>\n",
       "      <td>num_medications</td>\n",
       "      <td>0.100397</td>\n",
       "    </tr>\n",
       "    <tr>\n",
       "      <th>0</th>\n",
       "      <td>days_in_hospital</td>\n",
       "      <td>0.063651</td>\n",
       "    </tr>\n",
       "    <tr>\n",
       "      <th>6</th>\n",
       "      <td>number_diagnoses</td>\n",
       "      <td>0.043483</td>\n",
       "    </tr>\n",
       "    <tr>\n",
       "      <th>1</th>\n",
       "      <td>num_procedures</td>\n",
       "      <td>0.029324</td>\n",
       "    </tr>\n",
       "    <tr>\n",
       "      <th>5</th>\n",
       "      <td>number_inpatient</td>\n",
       "      <td>0.020059</td>\n",
       "    </tr>\n",
       "    <tr>\n",
       "      <th>3</th>\n",
       "      <td>number_outpatient</td>\n",
       "      <td>0.019957</td>\n",
       "    </tr>\n",
       "    <tr>\n",
       "      <th>12</th>\n",
       "      <td>gender_Male</td>\n",
       "      <td>0.014830</td>\n",
       "    </tr>\n",
       "    <tr>\n",
       "      <th>20</th>\n",
       "      <td>age_[70-80)</td>\n",
       "      <td>0.014345</td>\n",
       "    </tr>\n",
       "    <tr>\n",
       "      <th>148</th>\n",
       "      <td>num_lab_procs_[41-50]</td>\n",
       "      <td>0.014087</td>\n",
       "    </tr>\n",
       "    <tr>\n",
       "      <th>109</th>\n",
       "      <td>insulin_Steady</td>\n",
       "      <td>0.013089</td>\n",
       "    </tr>\n",
       "    <tr>\n",
       "      <th>139</th>\n",
       "      <td>third_diag_neoplasms</td>\n",
       "      <td>0.012987</td>\n",
       "    </tr>\n",
       "    <tr>\n",
       "      <th>131</th>\n",
       "      <td>second_diag_neoplasms</td>\n",
       "      <td>0.012907</td>\n",
       "    </tr>\n",
       "    <tr>\n",
       "      <th>149</th>\n",
       "      <td>num_lab_procs_[51-60]</td>\n",
       "      <td>0.012771</td>\n",
       "    </tr>\n",
       "    <tr>\n",
       "      <th>134</th>\n",
       "      <td>third_diag_diabetes</td>\n",
       "      <td>0.011971</td>\n",
       "    </tr>\n",
       "    <tr>\n",
       "      <th>19</th>\n",
       "      <td>age_[60-70)</td>\n",
       "      <td>0.011730</td>\n",
       "    </tr>\n",
       "    <tr>\n",
       "      <th>116</th>\n",
       "      <td>change_No</td>\n",
       "      <td>0.010882</td>\n",
       "    </tr>\n",
       "    <tr>\n",
       "      <th>150</th>\n",
       "      <td>num_lab_procs_[61-70]</td>\n",
       "      <td>0.010813</td>\n",
       "    </tr>\n",
       "    <tr>\n",
       "      <th>123</th>\n",
       "      <td>first_diag_neoplasms</td>\n",
       "      <td>0.010472</td>\n",
       "    </tr>\n",
       "    <tr>\n",
       "      <th>9</th>\n",
       "      <td>race_Caucasian</td>\n",
       "      <td>0.010117</td>\n",
       "    </tr>\n",
       "    <tr>\n",
       "      <th>126</th>\n",
       "      <td>second_diag_diabetes</td>\n",
       "      <td>0.009973</td>\n",
       "    </tr>\n",
       "    <tr>\n",
       "      <th>147</th>\n",
       "      <td>num_lab_procs_[31-40]</td>\n",
       "      <td>0.009709</td>\n",
       "    </tr>\n",
       "    <tr>\n",
       "      <th>128</th>\n",
       "      <td>second_diag_genitourinary</td>\n",
       "      <td>0.009584</td>\n",
       "    </tr>\n",
       "    <tr>\n",
       "      <th>132</th>\n",
       "      <td>second_diag_other</td>\n",
       "      <td>0.009560</td>\n",
       "    </tr>\n",
       "    <tr>\n",
       "      <th>4</th>\n",
       "      <td>number_emergency</td>\n",
       "      <td>0.009325</td>\n",
       "    </tr>\n",
       "    <tr>\n",
       "      <th>110</th>\n",
       "      <td>insulin_Up</td>\n",
       "      <td>0.009191</td>\n",
       "    </tr>\n",
       "    <tr>\n",
       "      <th>21</th>\n",
       "      <td>age_[80-90)</td>\n",
       "      <td>0.009123</td>\n",
       "    </tr>\n",
       "    <tr>\n",
       "      <th>55</th>\n",
       "      <td>admission_source_id_7</td>\n",
       "      <td>0.009100</td>\n",
       "    </tr>\n",
       "    <tr>\n",
       "      <th>140</th>\n",
       "      <td>third_diag_other</td>\n",
       "      <td>0.009076</td>\n",
       "    </tr>\n",
       "    <tr>\n",
       "      <th>133</th>\n",
       "      <td>second_diag_respiratory</td>\n",
       "      <td>0.009030</td>\n",
       "    </tr>\n",
       "    <tr>\n",
       "      <th>...</th>\n",
       "      <td>...</td>\n",
       "      <td>...</td>\n",
       "    </tr>\n",
       "    <tr>\n",
       "      <th>104</th>\n",
       "      <td>miglitol_Steady</td>\n",
       "      <td>0.000147</td>\n",
       "    </tr>\n",
       "    <tr>\n",
       "      <th>46</th>\n",
       "      <td>discharge_disposition_id_24</td>\n",
       "      <td>0.000132</td>\n",
       "    </tr>\n",
       "    <tr>\n",
       "      <th>25</th>\n",
       "      <td>admission_type_id_4</td>\n",
       "      <td>0.000065</td>\n",
       "    </tr>\n",
       "    <tr>\n",
       "      <th>13</th>\n",
       "      <td>gender_Unknown/Invalid</td>\n",
       "      <td>0.000000</td>\n",
       "    </tr>\n",
       "    <tr>\n",
       "      <th>38</th>\n",
       "      <td>discharge_disposition_id_10</td>\n",
       "      <td>0.000000</td>\n",
       "    </tr>\n",
       "    <tr>\n",
       "      <th>145</th>\n",
       "      <td>num_lab_procs_[121-132]</td>\n",
       "      <td>0.000000</td>\n",
       "    </tr>\n",
       "    <tr>\n",
       "      <th>144</th>\n",
       "      <td>num_lab_procs_[111-120]</td>\n",
       "      <td>0.000000</td>\n",
       "    </tr>\n",
       "    <tr>\n",
       "      <th>39</th>\n",
       "      <td>discharge_disposition_id_12</td>\n",
       "      <td>0.000000</td>\n",
       "    </tr>\n",
       "    <tr>\n",
       "      <th>41</th>\n",
       "      <td>discharge_disposition_id_16</td>\n",
       "      <td>0.000000</td>\n",
       "    </tr>\n",
       "    <tr>\n",
       "      <th>42</th>\n",
       "      <td>discharge_disposition_id_17</td>\n",
       "      <td>0.000000</td>\n",
       "    </tr>\n",
       "    <tr>\n",
       "      <th>48</th>\n",
       "      <td>discharge_disposition_id_27</td>\n",
       "      <td>0.000000</td>\n",
       "    </tr>\n",
       "    <tr>\n",
       "      <th>56</th>\n",
       "      <td>admission_source_id_8</td>\n",
       "      <td>0.000000</td>\n",
       "    </tr>\n",
       "    <tr>\n",
       "      <th>114</th>\n",
       "      <td>glipizide_metformin_Steady</td>\n",
       "      <td>0.000000</td>\n",
       "    </tr>\n",
       "    <tr>\n",
       "      <th>58</th>\n",
       "      <td>admission_source_id_10</td>\n",
       "      <td>0.000000</td>\n",
       "    </tr>\n",
       "    <tr>\n",
       "      <th>83</th>\n",
       "      <td>chlorpropamide_Up</td>\n",
       "      <td>0.000000</td>\n",
       "    </tr>\n",
       "    <tr>\n",
       "      <th>113</th>\n",
       "      <td>glyburide_metformin_Up</td>\n",
       "      <td>0.000000</td>\n",
       "    </tr>\n",
       "    <tr>\n",
       "      <th>106</th>\n",
       "      <td>troglitazone_Steady</td>\n",
       "      <td>0.000000</td>\n",
       "    </tr>\n",
       "    <tr>\n",
       "      <th>105</th>\n",
       "      <td>miglitol_Up</td>\n",
       "      <td>0.000000</td>\n",
       "    </tr>\n",
       "    <tr>\n",
       "      <th>103</th>\n",
       "      <td>miglitol_No</td>\n",
       "      <td>0.000000</td>\n",
       "    </tr>\n",
       "    <tr>\n",
       "      <th>94</th>\n",
       "      <td>tolbutamide_Steady</td>\n",
       "      <td>0.000000</td>\n",
       "    </tr>\n",
       "    <tr>\n",
       "      <th>87</th>\n",
       "      <td>acetohexamide_Steady</td>\n",
       "      <td>0.000000</td>\n",
       "    </tr>\n",
       "    <tr>\n",
       "      <th>82</th>\n",
       "      <td>chlorpropamide_Steady</td>\n",
       "      <td>0.000000</td>\n",
       "    </tr>\n",
       "    <tr>\n",
       "      <th>115</th>\n",
       "      <td>metformin_pioglitazone_Steady</td>\n",
       "      <td>0.000000</td>\n",
       "    </tr>\n",
       "    <tr>\n",
       "      <th>81</th>\n",
       "      <td>chlorpropamide_No</td>\n",
       "      <td>0.000000</td>\n",
       "    </tr>\n",
       "    <tr>\n",
       "      <th>80</th>\n",
       "      <td>nateglinide_Up</td>\n",
       "      <td>0.000000</td>\n",
       "    </tr>\n",
       "    <tr>\n",
       "      <th>65</th>\n",
       "      <td>admission_source_id_25</td>\n",
       "      <td>0.000000</td>\n",
       "    </tr>\n",
       "    <tr>\n",
       "      <th>64</th>\n",
       "      <td>admission_source_id_22</td>\n",
       "      <td>0.000000</td>\n",
       "    </tr>\n",
       "    <tr>\n",
       "      <th>61</th>\n",
       "      <td>admission_source_id_14</td>\n",
       "      <td>0.000000</td>\n",
       "    </tr>\n",
       "    <tr>\n",
       "      <th>60</th>\n",
       "      <td>admission_source_id_13</td>\n",
       "      <td>0.000000</td>\n",
       "    </tr>\n",
       "    <tr>\n",
       "      <th>59</th>\n",
       "      <td>admission_source_id_11</td>\n",
       "      <td>0.000000</td>\n",
       "    </tr>\n",
       "  </tbody>\n",
       "</table>\n",
       "<p>154 rows × 2 columns</p>\n",
       "</div>"
      ],
      "text/plain": [
       "                           feature  importance\n",
       "7                       num_visits    0.119798\n",
       "2                  num_medications    0.100397\n",
       "0                 days_in_hospital    0.063651\n",
       "6                 number_diagnoses    0.043483\n",
       "1                   num_procedures    0.029324\n",
       "5                 number_inpatient    0.020059\n",
       "3                number_outpatient    0.019957\n",
       "12                     gender_Male    0.014830\n",
       "20                     age_[70-80)    0.014345\n",
       "148          num_lab_procs_[41-50]    0.014087\n",
       "109                 insulin_Steady    0.013089\n",
       "139           third_diag_neoplasms    0.012987\n",
       "131          second_diag_neoplasms    0.012907\n",
       "149          num_lab_procs_[51-60]    0.012771\n",
       "134            third_diag_diabetes    0.011971\n",
       "19                     age_[60-70)    0.011730\n",
       "116                      change_No    0.010882\n",
       "150          num_lab_procs_[61-70]    0.010813\n",
       "123           first_diag_neoplasms    0.010472\n",
       "9                   race_Caucasian    0.010117\n",
       "126           second_diag_diabetes    0.009973\n",
       "147          num_lab_procs_[31-40]    0.009709\n",
       "128      second_diag_genitourinary    0.009584\n",
       "132              second_diag_other    0.009560\n",
       "4                 number_emergency    0.009325\n",
       "110                     insulin_Up    0.009191\n",
       "21                     age_[80-90)    0.009123\n",
       "55           admission_source_id_7    0.009100\n",
       "140               third_diag_other    0.009076\n",
       "133        second_diag_respiratory    0.009030\n",
       "..                             ...         ...\n",
       "104                miglitol_Steady    0.000147\n",
       "46     discharge_disposition_id_24    0.000132\n",
       "25             admission_type_id_4    0.000065\n",
       "13          gender_Unknown/Invalid    0.000000\n",
       "38     discharge_disposition_id_10    0.000000\n",
       "145        num_lab_procs_[121-132]    0.000000\n",
       "144        num_lab_procs_[111-120]    0.000000\n",
       "39     discharge_disposition_id_12    0.000000\n",
       "41     discharge_disposition_id_16    0.000000\n",
       "42     discharge_disposition_id_17    0.000000\n",
       "48     discharge_disposition_id_27    0.000000\n",
       "56           admission_source_id_8    0.000000\n",
       "114     glipizide_metformin_Steady    0.000000\n",
       "58          admission_source_id_10    0.000000\n",
       "83               chlorpropamide_Up    0.000000\n",
       "113         glyburide_metformin_Up    0.000000\n",
       "106            troglitazone_Steady    0.000000\n",
       "105                    miglitol_Up    0.000000\n",
       "103                    miglitol_No    0.000000\n",
       "94              tolbutamide_Steady    0.000000\n",
       "87            acetohexamide_Steady    0.000000\n",
       "82           chlorpropamide_Steady    0.000000\n",
       "115  metformin_pioglitazone_Steady    0.000000\n",
       "81               chlorpropamide_No    0.000000\n",
       "80                  nateglinide_Up    0.000000\n",
       "65          admission_source_id_25    0.000000\n",
       "64          admission_source_id_22    0.000000\n",
       "61          admission_source_id_14    0.000000\n",
       "60          admission_source_id_13    0.000000\n",
       "59          admission_source_id_11    0.000000\n",
       "\n",
       "[154 rows x 2 columns]"
      ]
     },
     "execution_count": 6,
     "metadata": {},
     "output_type": "execute_result"
    }
   ],
   "source": [
    "# results summary (won't be a tree b/c boosting used -- explain?)\n",
    "importance = model.feature_importances_\n",
    "importance_df = pd.DataFrame({'feature': features, 'importance': importance})\n",
    "importance_df.sort_values('importance', ascending = False)"
   ]
  },
  {
   "cell_type": "code",
   "execution_count": null,
   "metadata": {
    "collapsed": true
   },
   "outputs": [],
   "source": [
    "# importance = expected fraction of samples that feature can contribute to\n",
    "# if line above is accurate, this model seems not great despite accuracy score of 85%"
   ]
  },
  {
   "cell_type": "markdown",
   "metadata": {
    "collapsed": true
   },
   "source": [
    "## Confusion Matrix and Recall Score\n",
    "\n",
    "Another way to evaluate model performance is a confustion matrix, which puts our model's predictions into four categories:\n",
    "\n",
    "- In the top-left quadrant is the number of observations classified as not readmitted within 30 days that were in fact not readmitted within 30 days. This is the true negative count. \n",
    "- In the top-right quadrant is the number of observations classified as readmitted within 30 days that were in fact not readmitted within 30 days. This is the false positive count. \n",
    "- In the lower left quadrant is the number of observations classified as not readmitted within 30 days that were in fact not readmitted within 30 days. This is the false negative count. \n",
    "- In the lower right quadrant is the number of observations classified as readmitted within 30 days that were in fact  readmitted within 30 days. This is the true negative count. "
   ]
  },
  {
   "cell_type": "code",
   "execution_count": 26,
   "metadata": {
    "collapsed": false
   },
   "outputs": [
    {
     "name": "stdout",
     "output_type": "stream",
     "text": [
      "Predicted      0     1    All\n",
      "Actual                       \n",
      "0          11062  1092  12154\n",
      "1            942   273   1215\n",
      "All        12004  1365  13369\n"
     ]
    }
   ],
   "source": [
    "# set actual and predicted vectors; generate confusion matrix for test data\n",
    "actual = pd.Series(Ytest, name = 'Actual')\n",
    "predicted = pd.Series(clf.predict(Xtest), name = 'Predicted')\n",
    "train_ct = pd.crosstab(actual, predicted, margins = True)\n",
    "print(train_ct)"
   ]
  },
  {
   "cell_type": "code",
   "execution_count": 35,
   "metadata": {
    "collapsed": false
   },
   "outputs": [
    {
     "name": "stdout",
     "output_type": "stream",
     "text": [
      "Accuracy for not readmitted: 0.910\n",
      "Accuracy for readmitted: 0.225\n"
     ]
    }
   ],
   "source": [
    " # as percentages\n",
    "TN = train_ct.iloc[0,0] / train_ct.iloc[0,2]\n",
    "TP = train_ct.iloc[1,1] / train_ct.iloc[1,2]\n",
    "print('Accuracy for not readmitted: {}'.format('%0.3f' % TN))\n",
    "print('Accuracy for readmitted: {}'.format('%0.3f' % TP))"
   ]
  },
  {
   "cell_type": "markdown",
   "metadata": {},
   "source": [
    "Finally, we can consider the model's recall score. Recall is a (percentage) measure of how many positive cases were identified correctly. In the context of this analysis, if 100 patients were readmitted within thirty days and the model detected 81 of them, then the model's recall would be .23 (or 23%). "
   ]
  },
  {
   "cell_type": "code",
   "execution_count": 30,
   "metadata": {
    "collapsed": false
   },
   "outputs": [
    {
     "data": {
      "text/plain": [
       "0.22469135802469137"
      ]
     },
     "execution_count": 30,
     "metadata": {},
     "output_type": "execute_result"
    }
   ],
   "source": [
    "# find recall for AdaBoost tree model\n",
    "recall_score(actual, predicted)"
   ]
  },
  {
   "cell_type": "markdown",
   "metadata": {
    "collapsed": true
   },
   "source": [
    "## Random Forest\n",
    "\n",
    "Individual decision trees are weak learners, meaning that their accuracy is limited (often not much higher than 50%). In order to improve accuracy, we can take an ensemble approach, random forest, that combines multiple trees. The idea is that many weak learners combine their \"knowledge\" to create a strong learner, which is much more accurate. "
   ]
  },
  {
   "cell_type": "code",
   "execution_count": 31,
   "metadata": {
    "collapsed": true
   },
   "outputs": [],
   "source": [
    "# build and fit model with random forest\n",
    "clf_rf = RandomForestClassifier(random_state = 7, class_weight = {0: .1, 1: .9})\n",
    "model_rf = clf_rf.fit(Xtrain, Ytrain)"
   ]
  },
  {
   "cell_type": "code",
   "execution_count": 32,
   "metadata": {
    "collapsed": false
   },
   "outputs": [
    {
     "name": "stdout",
     "output_type": "stream",
     "text": [
      "0.906350512379\n"
     ]
    }
   ],
   "source": [
    "# model accuracy on test data\n",
    "print(model_rf.score(Xtest, Ytest))"
   ]
  },
  {
   "cell_type": "code",
   "execution_count": 33,
   "metadata": {
    "collapsed": false
   },
   "outputs": [
    {
     "name": "stdout",
     "output_type": "stream",
     "text": [
      "Predicted      0   1    All\n",
      "Actual                     \n",
      "0          12098  56  12154\n",
      "1           1196  19   1215\n",
      "All        13294  75  13369\n"
     ]
    }
   ],
   "source": [
    "# confusion matrix\n",
    "actual_rf = pd.Series(Ytest, name = 'Actual')\n",
    "predicted_rf = pd.Series(clf_rf.predict(Xtest), name = 'Predicted')\n",
    "rf_ct = pd.crosstab(actual_rf, predicted_rf, margins = True)\n",
    "print(rf_ct)"
   ]
  },
  {
   "cell_type": "code",
   "execution_count": 37,
   "metadata": {
    "collapsed": false
   },
   "outputs": [
    {
     "name": "stdout",
     "output_type": "stream",
     "text": [
      "Accuracy for not readmitted: 0.995\n",
      "Accuracy for readmitted: 0.016\n"
     ]
    }
   ],
   "source": [
    "# confusion matrix with percentages\n",
    "TN_rf = rf_ct.iloc[0,0] / rf_ct.iloc[0,2]\n",
    "TP_rf = rf_ct.iloc[1,1] / rf_ct.iloc[1,2]\n",
    "print('Accuracy for not readmitted: {}'.format('%0.3f' % TN_rf))\n",
    "print('Accuracy for readmitted: {}'.format('%0.3f' % TP_rf))"
   ]
  },
  {
   "cell_type": "code",
   "execution_count": 38,
   "metadata": {
    "collapsed": false
   },
   "outputs": [
    {
     "data": {
      "text/plain": [
       "0.015637860082304528"
      ]
     },
     "execution_count": 38,
     "metadata": {},
     "output_type": "execute_result"
    }
   ],
   "source": [
    "# recall\n",
    "recall_score(actual_rf, predicted_rf)"
   ]
  },
  {
   "cell_type": "code",
   "execution_count": null,
   "metadata": {
    "collapsed": true
   },
   "outputs": [],
   "source": []
  },
  {
   "cell_type": "code",
   "execution_count": null,
   "metadata": {
    "collapsed": true
   },
   "outputs": [],
   "source": []
  },
  {
   "cell_type": "code",
   "execution_count": null,
   "metadata": {
    "collapsed": true
   },
   "outputs": [],
   "source": []
  },
  {
   "cell_type": "code",
   "execution_count": null,
   "metadata": {
    "collapsed": true
   },
   "outputs": [],
   "source": [
    "# read in under-sampled df and try rf again\n",
    "# add markdown cell to explain what's up\n",
    "# may want to try with other algorithms if metrics indicate appropriate after fixing maths"
   ]
  },
  {
   "cell_type": "code",
   "execution_count": 61,
   "metadata": {
    "collapsed": false
   },
   "outputs": [
    {
     "name": "stdout",
     "output_type": "stream",
     "text": [
      "0.916666666667\n"
     ]
    }
   ],
   "source": [
    "# run random forest again w/ under-sampled dataset\n",
    "clf_rus = RandomForestClassifier(random_state = 7)\n",
    "model_rus = clf_rus.fit(Xtrain, Ytrain)\n",
    "print(model_rus.score(X_res, y_res))"
   ]
  },
  {
   "cell_type": "code",
   "execution_count": 62,
   "metadata": {
    "collapsed": false
   },
   "outputs": [
    {
     "name": "stdout",
     "output_type": "stream",
     "text": [
      "Predicted  False  True    All\n",
      "Actual                       \n",
      "0          60705    65  60770\n",
      "1           1981  4093   6074\n",
      "All        62686  4158  66844\n"
     ]
    }
   ],
   "source": [
    "# confusion matrix for random forest with random under-sampling\n",
    "actual_rf = pd.Series(readmit['readmit30'], name = 'Actual')\n",
    "predicted_rus = pd.Series(clf_rus.predict(readmit[features]), name = 'Predicted')\n",
    "cm_rus = pd.crosstab(actual_rf, predicted_rus, margins = True)\n",
    "print(cm_rus)"
   ]
  },
  {
   "cell_type": "code",
   "execution_count": 63,
   "metadata": {
    "collapsed": false
   },
   "outputs": [
    {
     "name": "stdout",
     "output_type": "stream",
     "text": [
      "Predicted     False      True       All\n",
      "Actual                                 \n",
      "0          0.499465  0.005351  0.454566\n",
      "1          0.016299  0.336928  0.045434\n",
      "All        0.515764  0.342279  0.500000\n"
     ]
    }
   ],
   "source": [
    "# confusion matrix with percentages\n",
    "cm_rus_pct = cm_rus / cm_rus.sum(axis=1)\n",
    "print(cm_rus_pct)"
   ]
  },
  {
   "cell_type": "code",
   "execution_count": 64,
   "metadata": {
    "collapsed": false
   },
   "outputs": [
    {
     "data": {
      "text/plain": [
       "0.67385577872900893"
      ]
     },
     "execution_count": 64,
     "metadata": {},
     "output_type": "execute_result"
    }
   ],
   "source": [
    "# check new model's recall\n",
    "recall_score(actual_rf, predicted_rus)"
   ]
  },
  {
   "cell_type": "code",
   "execution_count": null,
   "metadata": {
    "collapsed": true
   },
   "outputs": [],
   "source": []
  }
 ],
 "metadata": {
  "kernelspec": {
   "display_name": "Python 3",
   "language": "python",
   "name": "python3"
  },
  "language_info": {
   "codemirror_mode": {
    "name": "ipython",
    "version": 3
   },
   "file_extension": ".py",
   "mimetype": "text/x-python",
   "name": "python",
   "nbconvert_exporter": "python",
   "pygments_lexer": "ipython3",
   "version": "3.6.0"
  }
 },
 "nbformat": 4,
 "nbformat_minor": 2
}
