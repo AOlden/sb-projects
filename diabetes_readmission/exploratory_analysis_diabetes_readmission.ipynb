{
 "cells": [
  {
   "cell_type": "code",
   "execution_count": 2,
   "metadata": {
    "collapsed": false
   },
   "outputs": [],
   "source": [
    "%matplotlib inline\n",
    "import pandas as pd\n",
    "import matplotlib.pyplot as plt\n",
    "import numpy as np\n",
    "import seaborn as sns\n",
    "sns.set_context(\"poster\")\n",
    "sns.set(style=\"whitegrid\", color_codes = False)\n",
    "from pandas.tools.plotting import scatter_matrix\n",
    "pd.set_option('display.max_columns', 50)\n",
    "from scipy.stats import chi2_contingency\n",
    "\n",
    "#read in data as csv\n",
    "readmit = pd.read_csv('diabetic_data.csv')"
   ]
  },
  {
   "cell_type": "code",
   "execution_count": 3,
   "metadata": {
    "collapsed": false
   },
   "outputs": [
    {
     "data": {
      "text/plain": [
       "<matplotlib.axes._subplots.AxesSubplot at 0x1158c00b8>"
      ]
     },
     "execution_count": 3,
     "metadata": {},
     "output_type": "execute_result"
    },
    {
     "data": {
      "image/png": "[encoded data removed]",
      "text/plain": [
       "<matplotlib.figure.Figure at 0x11951dba8>"
      ]
     },
     "metadata": {},
     "output_type": "display_data"
    }
   ],
   "source": [
    "#turn readmission variable into binary (readmitted w/in 30 days or not)\n",
    "readmit['readmit30'] = np.where(readmit['readmitted'] == '<30', 1, 0)\n",
    "\n",
    "#Is there an association b/w payer code (52% missing) and readmission?\n",
    "    #Nothing obvious appears, so remove variable from data set below\n",
    "sns.stripplot(x = 'payer_code', y = 'readmit30', data = readmit, jitter = True) "
   ]
  },
  {
   "cell_type": "code",
   "execution_count": 4,
   "metadata": {
    "collapsed": false
   },
   "outputs": [
    {
     "data": {
      "text/html": [
       "<div>\n",
       "<table border=\"1\" class=\"dataframe\">\n",
       "  <thead>\n",
       "    <tr style=\"text-align: right;\">\n",
       "      <th>readmit30</th>\n",
       "      <th>0</th>\n",
       "      <th>1</th>\n",
       "    </tr>\n",
       "    <tr>\n",
       "      <th>medical_specialty</th>\n",
       "      <th></th>\n",
       "      <th></th>\n",
       "    </tr>\n",
       "  </thead>\n",
       "  <tbody>\n",
       "    <tr>\n",
       "      <th>?</th>\n",
       "      <td>44168</td>\n",
       "      <td>5781</td>\n",
       "    </tr>\n",
       "    <tr>\n",
       "      <th>AllergyandImmunology</th>\n",
       "      <td>4</td>\n",
       "      <td>3</td>\n",
       "    </tr>\n",
       "    <tr>\n",
       "      <th>Anesthesiology</th>\n",
       "      <td>11</td>\n",
       "      <td>1</td>\n",
       "    </tr>\n",
       "    <tr>\n",
       "      <th>Anesthesiology-Pediatric</th>\n",
       "      <td>18</td>\n",
       "      <td>1</td>\n",
       "    </tr>\n",
       "    <tr>\n",
       "      <th>Cardiology</th>\n",
       "      <td>4927</td>\n",
       "      <td>425</td>\n",
       "    </tr>\n",
       "    <tr>\n",
       "      <th>Cardiology-Pediatric</th>\n",
       "      <td>6</td>\n",
       "      <td>1</td>\n",
       "    </tr>\n",
       "    <tr>\n",
       "      <th>DCPTEAM</th>\n",
       "      <td>6</td>\n",
       "      <td>0</td>\n",
       "    </tr>\n",
       "    <tr>\n",
       "      <th>Dentistry</th>\n",
       "      <td>4</td>\n",
       "      <td>0</td>\n",
       "    </tr>\n",
       "    <tr>\n",
       "      <th>Dermatology</th>\n",
       "      <td>1</td>\n",
       "      <td>0</td>\n",
       "    </tr>\n",
       "    <tr>\n",
       "      <th>Emergency/Trauma</th>\n",
       "      <td>6719</td>\n",
       "      <td>846</td>\n",
       "    </tr>\n",
       "    <tr>\n",
       "      <th>Endocrinology</th>\n",
       "      <td>114</td>\n",
       "      <td>6</td>\n",
       "    </tr>\n",
       "    <tr>\n",
       "      <th>Endocrinology-Metabolism</th>\n",
       "      <td>7</td>\n",
       "      <td>1</td>\n",
       "    </tr>\n",
       "    <tr>\n",
       "      <th>Family/GeneralPractice</th>\n",
       "      <td>6557</td>\n",
       "      <td>883</td>\n",
       "    </tr>\n",
       "    <tr>\n",
       "      <th>Gastroenterology</th>\n",
       "      <td>502</td>\n",
       "      <td>62</td>\n",
       "    </tr>\n",
       "    <tr>\n",
       "      <th>Gynecology</th>\n",
       "      <td>58</td>\n",
       "      <td>0</td>\n",
       "    </tr>\n",
       "    <tr>\n",
       "      <th>Hematology</th>\n",
       "      <td>56</td>\n",
       "      <td>26</td>\n",
       "    </tr>\n",
       "    <tr>\n",
       "      <th>Hematology/Oncology</th>\n",
       "      <td>167</td>\n",
       "      <td>40</td>\n",
       "    </tr>\n",
       "    <tr>\n",
       "      <th>Hospitalist</th>\n",
       "      <td>53</td>\n",
       "      <td>4</td>\n",
       "    </tr>\n",
       "    <tr>\n",
       "      <th>InfectiousDiseases</th>\n",
       "      <td>29</td>\n",
       "      <td>8</td>\n",
       "    </tr>\n",
       "    <tr>\n",
       "      <th>InternalMedicine</th>\n",
       "      <td>12989</td>\n",
       "      <td>1646</td>\n",
       "    </tr>\n",
       "    <tr>\n",
       "      <th>Nephrology</th>\n",
       "      <td>1365</td>\n",
       "      <td>248</td>\n",
       "    </tr>\n",
       "    <tr>\n",
       "      <th>Neurology</th>\n",
       "      <td>191</td>\n",
       "      <td>12</td>\n",
       "    </tr>\n",
       "    <tr>\n",
       "      <th>Neurophysiology</th>\n",
       "      <td>1</td>\n",
       "      <td>0</td>\n",
       "    </tr>\n",
       "    <tr>\n",
       "      <th>Obsterics&amp;Gynecology-GynecologicOnco</th>\n",
       "      <td>23</td>\n",
       "      <td>2</td>\n",
       "    </tr>\n",
       "    <tr>\n",
       "      <th>Obstetrics</th>\n",
       "      <td>18</td>\n",
       "      <td>1</td>\n",
       "    </tr>\n",
       "    <tr>\n",
       "      <th>ObstetricsandGynecology</th>\n",
       "      <td>639</td>\n",
       "      <td>32</td>\n",
       "    </tr>\n",
       "    <tr>\n",
       "      <th>Oncology</th>\n",
       "      <td>282</td>\n",
       "      <td>66</td>\n",
       "    </tr>\n",
       "    <tr>\n",
       "      <th>Ophthalmology</th>\n",
       "      <td>36</td>\n",
       "      <td>2</td>\n",
       "    </tr>\n",
       "    <tr>\n",
       "      <th>Orthopedics</th>\n",
       "      <td>1249</td>\n",
       "      <td>151</td>\n",
       "    </tr>\n",
       "    <tr>\n",
       "      <th>Orthopedics-Reconstructive</th>\n",
       "      <td>1141</td>\n",
       "      <td>92</td>\n",
       "    </tr>\n",
       "    <tr>\n",
       "      <th>...</th>\n",
       "      <td>...</td>\n",
       "      <td>...</td>\n",
       "    </tr>\n",
       "    <tr>\n",
       "      <th>Perinatology</th>\n",
       "      <td>1</td>\n",
       "      <td>0</td>\n",
       "    </tr>\n",
       "    <tr>\n",
       "      <th>PhysicalMedicineandRehabilitation</th>\n",
       "      <td>331</td>\n",
       "      <td>60</td>\n",
       "    </tr>\n",
       "    <tr>\n",
       "      <th>PhysicianNotFound</th>\n",
       "      <td>9</td>\n",
       "      <td>2</td>\n",
       "    </tr>\n",
       "    <tr>\n",
       "      <th>Podiatry</th>\n",
       "      <td>90</td>\n",
       "      <td>10</td>\n",
       "    </tr>\n",
       "    <tr>\n",
       "      <th>Proctology</th>\n",
       "      <td>1</td>\n",
       "      <td>0</td>\n",
       "    </tr>\n",
       "    <tr>\n",
       "      <th>Psychiatry</th>\n",
       "      <td>750</td>\n",
       "      <td>104</td>\n",
       "    </tr>\n",
       "    <tr>\n",
       "      <th>Psychiatry-Addictive</th>\n",
       "      <td>1</td>\n",
       "      <td>0</td>\n",
       "    </tr>\n",
       "    <tr>\n",
       "      <th>Psychiatry-Child/Adolescent</th>\n",
       "      <td>6</td>\n",
       "      <td>1</td>\n",
       "    </tr>\n",
       "    <tr>\n",
       "      <th>Psychology</th>\n",
       "      <td>93</td>\n",
       "      <td>8</td>\n",
       "    </tr>\n",
       "    <tr>\n",
       "      <th>Pulmonology</th>\n",
       "      <td>775</td>\n",
       "      <td>96</td>\n",
       "    </tr>\n",
       "    <tr>\n",
       "      <th>Radiologist</th>\n",
       "      <td>1037</td>\n",
       "      <td>103</td>\n",
       "    </tr>\n",
       "    <tr>\n",
       "      <th>Radiology</th>\n",
       "      <td>45</td>\n",
       "      <td>8</td>\n",
       "    </tr>\n",
       "    <tr>\n",
       "      <th>Resident</th>\n",
       "      <td>1</td>\n",
       "      <td>1</td>\n",
       "    </tr>\n",
       "    <tr>\n",
       "      <th>Rheumatology</th>\n",
       "      <td>14</td>\n",
       "      <td>3</td>\n",
       "    </tr>\n",
       "    <tr>\n",
       "      <th>Speech</th>\n",
       "      <td>1</td>\n",
       "      <td>0</td>\n",
       "    </tr>\n",
       "    <tr>\n",
       "      <th>SportsMedicine</th>\n",
       "      <td>1</td>\n",
       "      <td>0</td>\n",
       "    </tr>\n",
       "    <tr>\n",
       "      <th>Surgeon</th>\n",
       "      <td>41</td>\n",
       "      <td>4</td>\n",
       "    </tr>\n",
       "    <tr>\n",
       "      <th>Surgery-Cardiovascular</th>\n",
       "      <td>92</td>\n",
       "      <td>6</td>\n",
       "    </tr>\n",
       "    <tr>\n",
       "      <th>Surgery-Cardiovascular/Thoracic</th>\n",
       "      <td>609</td>\n",
       "      <td>43</td>\n",
       "    </tr>\n",
       "    <tr>\n",
       "      <th>Surgery-Colon&amp;Rectal</th>\n",
       "      <td>10</td>\n",
       "      <td>1</td>\n",
       "    </tr>\n",
       "    <tr>\n",
       "      <th>Surgery-General</th>\n",
       "      <td>2757</td>\n",
       "      <td>342</td>\n",
       "    </tr>\n",
       "    <tr>\n",
       "      <th>Surgery-Maxillofacial</th>\n",
       "      <td>10</td>\n",
       "      <td>1</td>\n",
       "    </tr>\n",
       "    <tr>\n",
       "      <th>Surgery-Neuro</th>\n",
       "      <td>436</td>\n",
       "      <td>32</td>\n",
       "    </tr>\n",
       "    <tr>\n",
       "      <th>Surgery-Pediatric</th>\n",
       "      <td>8</td>\n",
       "      <td>0</td>\n",
       "    </tr>\n",
       "    <tr>\n",
       "      <th>Surgery-Plastic</th>\n",
       "      <td>34</td>\n",
       "      <td>7</td>\n",
       "    </tr>\n",
       "    <tr>\n",
       "      <th>Surgery-PlasticwithinHeadandNeck</th>\n",
       "      <td>1</td>\n",
       "      <td>0</td>\n",
       "    </tr>\n",
       "    <tr>\n",
       "      <th>Surgery-Thoracic</th>\n",
       "      <td>98</td>\n",
       "      <td>11</td>\n",
       "    </tr>\n",
       "    <tr>\n",
       "      <th>Surgery-Vascular</th>\n",
       "      <td>459</td>\n",
       "      <td>74</td>\n",
       "    </tr>\n",
       "    <tr>\n",
       "      <th>SurgicalSpecialty</th>\n",
       "      <td>31</td>\n",
       "      <td>2</td>\n",
       "    </tr>\n",
       "    <tr>\n",
       "      <th>Urology</th>\n",
       "      <td>617</td>\n",
       "      <td>68</td>\n",
       "    </tr>\n",
       "  </tbody>\n",
       "</table>\n",
       "<p>73 rows × 2 columns</p>\n",
       "</div>"
      ],
      "text/plain": [
       "readmit30                                 0     1\n",
       "medical_specialty                                \n",
       "?                                     44168  5781\n",
       "AllergyandImmunology                      4     3\n",
       "Anesthesiology                           11     1\n",
       "Anesthesiology-Pediatric                 18     1\n",
       "Cardiology                             4927   425\n",
       "Cardiology-Pediatric                      6     1\n",
       "DCPTEAM                                   6     0\n",
       "Dentistry                                 4     0\n",
       "Dermatology                               1     0\n",
       "Emergency/Trauma                       6719   846\n",
       "Endocrinology                           114     6\n",
       "Endocrinology-Metabolism                  7     1\n",
       "Family/GeneralPractice                 6557   883\n",
       "Gastroenterology                        502    62\n",
       "Gynecology                               58     0\n",
       "Hematology                               56    26\n",
       "Hematology/Oncology                     167    40\n",
       "Hospitalist                              53     4\n",
       "InfectiousDiseases                       29     8\n",
       "InternalMedicine                      12989  1646\n",
       "Nephrology                             1365   248\n",
       "Neurology                               191    12\n",
       "Neurophysiology                           1     0\n",
       "Obsterics&Gynecology-GynecologicOnco     23     2\n",
       "Obstetrics                               18     1\n",
       "ObstetricsandGynecology                 639    32\n",
       "Oncology                                282    66\n",
       "Ophthalmology                            36     2\n",
       "Orthopedics                            1249   151\n",
       "Orthopedics-Reconstructive             1141    92\n",
       "...                                     ...   ...\n",
       "Perinatology                              1     0\n",
       "PhysicalMedicineandRehabilitation       331    60\n",
       "PhysicianNotFound                         9     2\n",
       "Podiatry                                 90    10\n",
       "Proctology                                1     0\n",
       "Psychiatry                              750   104\n",
       "Psychiatry-Addictive                      1     0\n",
       "Psychiatry-Child/Adolescent               6     1\n",
       "Psychology                               93     8\n",
       "Pulmonology                             775    96\n",
       "Radiologist                            1037   103\n",
       "Radiology                                45     8\n",
       "Resident                                  1     1\n",
       "Rheumatology                             14     3\n",
       "Speech                                    1     0\n",
       "SportsMedicine                            1     0\n",
       "Surgeon                                  41     4\n",
       "Surgery-Cardiovascular                   92     6\n",
       "Surgery-Cardiovascular/Thoracic         609    43\n",
       "Surgery-Colon&Rectal                     10     1\n",
       "Surgery-General                        2757   342\n",
       "Surgery-Maxillofacial                    10     1\n",
       "Surgery-Neuro                           436    32\n",
       "Surgery-Pediatric                         8     0\n",
       "Surgery-Plastic                          34     7\n",
       "Surgery-PlasticwithinHeadandNeck          1     0\n",
       "Surgery-Thoracic                         98    11\n",
       "Surgery-Vascular                        459    74\n",
       "SurgicalSpecialty                        31     2\n",
       "Urology                                 617    68\n",
       "\n",
       "[73 rows x 2 columns]"
      ]
     },
     "execution_count": 4,
     "metadata": {},
     "output_type": "execute_result"
    }
   ],
   "source": [
    "#Is there an association b/w physician specialty (53% missing) and readmission? \n",
    "    #sns.stripplot(x = 'medical_specialty', y = 'readmit30', data = readmit, jitter = True) \n",
    "    \n",
    "    #use crosstab and eyeball concordance since above scatterplot is too hard to read\n",
    "        #nothing obvious appears, so remove variable from data set below\n",
    "pd.crosstab(index = readmit['medical_specialty'], columns = readmit['readmit30'])"
   ]
  },
  {
   "cell_type": "code",
   "execution_count": 5,
   "metadata": {
    "collapsed": false
   },
   "outputs": [],
   "source": [
    "#drop readmitted, weight (92% missing), payer code, and specialty of admitting physician \n",
    "    #Weight has too many observations missing to be worth evaluating before dropping.\n",
    "readmit_drop = readmit.drop(['readmitted', 'weight', 'medical_specialty', 'payer_code'], axis = 1)\n"
   ]
  },
  {
   "cell_type": "code",
   "execution_count": 6,
   "metadata": {
    "collapsed": false
   },
   "outputs": [],
   "source": [
    "#reduce df so that there's one (the first) encounter/patient -- use lowest encounter_id by convention\n",
    "    #This removes potential bias that could come from having dependent observations.\n",
    "readmit_sortP = readmit_drop.sort_values(['patient_nbr', 'encounter_id'])\n",
    "readmit_no_dups = readmit_sortP.drop_duplicates(['patient_nbr'])\n",
    "\n",
    "#remove bias in outcome variable by dropping encounters that resulted in death or discharge to hospice \n",
    "readmit_discharge_clean = readmit_no_dups[((readmit_no_dups.discharge_disposition_id != 11) & \n",
    "                                          (readmit_no_dups.discharge_disposition_id != 13) &\n",
    "                                          (readmit_no_dups.discharge_disposition_id != 14) & \n",
    "                                          (readmit_no_dups.discharge_disposition_id != 19) & \n",
    "                                          (readmit_no_dups.discharge_disposition_id != 20) & \n",
    "                                          (readmit_no_dups.discharge_disposition_id != 21))] \n",
    " #check results\n",
    "discharge = readmit_discharge_clean.groupby('discharge_disposition_id').size()"
   ]
  },
  {
   "cell_type": "code",
   "execution_count": 7,
   "metadata": {
    "collapsed": false
   },
   "outputs": [
    {
     "data": {
      "image/png": "[encoded data removed]",
      "text/plain": [
       "<matplotlib.figure.Figure at 0x1157ab0b8>"
      ]
     },
     "metadata": {},
     "output_type": "display_data"
    }
   ],
   "source": [
    "#address missingness in race (3%), diagnosis 3 (<2%), and diagnosis 1 and 2 (both well below 1%)\n",
    "\n",
    "    #Is there an association b/w race and readmission (outcome variable)?\n",
    "        #No -- remove race variable below\n",
    "sns.stripplot(x = 'race', y = 'readmit30', data = readmit_discharge_clean, jitter = True) \n",
    "\n",
    "    #remove observations w/ missing race and diagnoses 1, 2, and 3\n",
    "readmit_full_race = readmit_discharge_clean[((readmit_discharge_clean.race != '?') & \n",
    "                                             (readmit_discharge_clean.diag_1 != '?') &\n",
    "                                             (readmit_discharge_clean.diag_2 != '?') &\n",
    "                                             (readmit_discharge_clean.diag_3 != '?'))]"
   ]
  },
  {
   "cell_type": "code",
   "execution_count": 18,
   "metadata": {
    "collapsed": false
   },
   "outputs": [],
   "source": [
    "#What is the proportion of positive and negative outcomes?\n",
    "    #6074 1's, 60770 0's \n",
    "\n",
    "    #change all remaining ?s to NaN\n",
    "to_NaN = readmit_full_race.replace('?', np.NaN)\n",
    "    \n",
    "    #check for NaN in rows\n",
    "pd.options.display.max_rows = 75\n",
    "checkNA = to_NaN.isnull().sum()\n",
    "\n",
    "    #check for balance in readmission \n",
    "y = to_NaN.groupby('readmit30').size()"
   ]
  },
  {
   "cell_type": "code",
   "execution_count": 19,
   "metadata": {
    "collapsed": false
   },
   "outputs": [
    {
     "data": {
      "text/plain": [
       "<matplotlib.axes._subplots.AxesSubplot at 0x128527da0>"
      ]
     },
     "execution_count": 19,
     "metadata": {},
     "output_type": "execute_result"
    },
    {
     "data": {
      "image/png": "[encoded data removed]",
      "text/plain": [
       "<matplotlib.figure.Figure at 0x11662c358>"
      ]
     },
     "metadata": {},
     "output_type": "display_data"
    }
   ],
   "source": [
    "#check variables for association/multicollinearity among independent variables\n",
    "\n",
    "    #Age is left-skewed. Since we're dealing with patients who skew older, other variables may relate to age. \n",
    "age_grouped = to_NaN.groupby(['age']).size()\n",
    "age_grouped.plot(kind = 'bar')"
   ]
  },
  {
   "cell_type": "code",
   "execution_count": 20,
   "metadata": {
    "collapsed": false
   },
   "outputs": [
    {
     "data": {
      "text/plain": [
       "<matplotlib.axes._subplots.AxesSubplot at 0x116696f28>"
      ]
     },
     "execution_count": 20,
     "metadata": {},
     "output_type": "execute_result"
    },
    {
     "data": {
      "image/png": "[encoded data removed]",
      "text/plain": [
       "<matplotlib.figure.Figure at 0x116071d30>"
      ]
     },
     "metadata": {},
     "output_type": "display_data"
    }
   ],
   "source": [
    "    #Number of medications is right-skewed -- check against age\n",
    "num_meds = to_NaN.groupby(['num_medications']).size()\n",
    "num_meds.plot(kind = 'bar') "
   ]
  },
  {
   "cell_type": "code",
   "execution_count": 21,
   "metadata": {
    "collapsed": false
   },
   "outputs": [
    {
     "data": {
      "text/plain": [
       "<matplotlib.axes._subplots.AxesSubplot at 0x11855cb00>"
      ]
     },
     "execution_count": 21,
     "metadata": {},
     "output_type": "execute_result"
    },
    {
     "data": {
      "image/png": "[encoded data removed]",
      "text/plain": [
       "<matplotlib.figure.Figure at 0x1184f3ef0>"
      ]
     },
     "metadata": {},
     "output_type": "display_data"
    }
   ],
   "source": [
    "#Is there a correlation b/w age and number of medications? \n",
    "    #No, scatter plot below doesn't show any behavior in age.\n",
    "\n",
    "    #check viability of chi square test for independence -- some expected values too small\n",
    "pd.crosstab(index = to_NaN['num_medications'], columns = to_NaN['age'])\n",
    "\n",
    "    #set desired cols to categorical for scatter analysis\n",
    "to_cats = to_NaN.loc[:,('age', 'num_medications')]\n",
    "\n",
    "for col in to_cats:\n",
    "        to_cats[col] = to_cats[col].astype('category')\n",
    "\n",
    "df_num = to_cats.apply(lambda x: x.cat.codes)\n",
    " \n",
    "    #check age vs. number of medications \n",
    "df_num.plot.scatter('age', 'num_medications')"
   ]
  },
  {
   "cell_type": "code",
   "execution_count": 22,
   "metadata": {
    "collapsed": false,
    "scrolled": true
   },
   "outputs": [
    {
     "data": {
      "text/plain": [
       "<matplotlib.axes._subplots.AxesSubplot at 0x128bf0c88>"
      ]
     },
     "execution_count": 22,
     "metadata": {},
     "output_type": "execute_result"
    },
    {
     "data": {
      "image/png": "[encoded data removed]",
      "text/plain": [
       "<matplotlib.figure.Figure at 0x1184aa320>"
      ]
     },
     "metadata": {},
     "output_type": "display_data"
    }
   ],
   "source": [
    "#Is there an association b/w time in hospital vs. number of procedures \n",
    "    #No evidence of dependence in scatter plot\n",
    "\n",
    "sns.stripplot(x = 'time_in_hospital', y = 'num_procedures', data = to_NaN, jitter = True) "
   ]
  },
  {
   "cell_type": "code",
   "execution_count": 23,
   "metadata": {
    "collapsed": false
   },
   "outputs": [
    {
     "data": {
      "text/plain": [
       "<matplotlib.axes._subplots.AxesSubplot at 0x11954a9b0>"
      ]
     },
     "execution_count": 23,
     "metadata": {},
     "output_type": "execute_result"
    },
    {
     "data": {
      "image/png": "[encoded data removed]",
      "text/plain": [
       "<matplotlib.figure.Figure at 0x1160713c8>"
      ]
     },
     "metadata": {},
     "output_type": "display_data"
    }
   ],
   "source": [
    "#Is there a relationship b/w test for HbA1c (indep. variable of primary interest) and readmission?\n",
    "    #No, bar graphs show no evident trends b/w test results and readmission. \n",
    "\n",
    "    #create cross-tab for initial evaluation and make df for later bar plot\n",
    "outcome_ct = pd.crosstab(index = to_NaN['A1Cresult'], columns = to_NaN['readmit30'])\n",
    "ct_df = pd.DataFrame(outcome_ct.reset_index())\n",
    "\n",
    "    #make bar chart w/ ordered HbA1c levels\n",
    "levels = ['Norm', '>7', '>8', 'None']\n",
    "mapping = {level: i for i, level in enumerate(levels)} #assign nos. to levels based on desired ordinality\n",
    "key = ct_df['A1Cresult'].map(mapping) #map level ordinals to df rows    \n",
    "sorting = ct_df.iloc[key.argsort()] #create df w/ desired order from matched ordinals\n",
    "sorting.plot(kind = 'bar', x = 'A1Cresult')"
   ]
  },
  {
   "cell_type": "code",
   "execution_count": 24,
   "metadata": {
    "collapsed": false
   },
   "outputs": [
    {
     "data": {
      "text/html": [
       "<div>\n",
       "<table border=\"1\" class=\"dataframe\">\n",
       "  <thead>\n",
       "    <tr style=\"text-align: right;\">\n",
       "      <th>readmit30</th>\n",
       "      <th>0</th>\n",
       "      <th>1</th>\n",
       "      <th>All</th>\n",
       "    </tr>\n",
       "    <tr>\n",
       "      <th>HbA1c</th>\n",
       "      <th></th>\n",
       "      <th></th>\n",
       "      <th></th>\n",
       "    </tr>\n",
       "  </thead>\n",
       "  <tbody>\n",
       "    <tr>\n",
       "      <th>0</th>\n",
       "      <td>49718</td>\n",
       "      <td>5033</td>\n",
       "      <td>54751</td>\n",
       "    </tr>\n",
       "    <tr>\n",
       "      <th>1</th>\n",
       "      <td>11052</td>\n",
       "      <td>1041</td>\n",
       "      <td>12093</td>\n",
       "    </tr>\n",
       "    <tr>\n",
       "      <th>All</th>\n",
       "      <td>60770</td>\n",
       "      <td>6074</td>\n",
       "      <td>66844</td>\n",
       "    </tr>\n",
       "  </tbody>\n",
       "</table>\n",
       "</div>"
      ],
      "text/plain": [
       "readmit30      0     1    All\n",
       "HbA1c                        \n",
       "0          49718  5033  54751\n",
       "1          11052  1041  12093\n",
       "All        60770  6074  66844"
      ]
     },
     "execution_count": 24,
     "metadata": {},
     "output_type": "execute_result"
    }
   ],
   "source": [
    "#Do trends emerge when HbA1c is split into those who had test and who didn't (what original researchers wanted to see)?\n",
    "    #18.2% of those not readmitted had test done; 17.1% of those readmitted had test done -- pretty balanced  \n",
    "    #18.1% of all patients had test done -- another indicator of balance\n",
    "\n",
    "    #create new, binary column to show whether HbA1c test performed or not\n",
    "to_NaN['HbA1c'] = np.where(to_NaN['A1Cresult'] == 'None', 0, 1)\n",
    "\n",
    "    #cross tab ofHbA1c test and readmission w/in 30 days \n",
    "pd.crosstab(index = to_NaN['HbA1c'], columns = to_NaN['readmit30'], margins = True)"
   ]
  },
  {
   "cell_type": "code",
   "execution_count": 26,
   "metadata": {
    "collapsed": false
   },
   "outputs": [],
   "source": [
    "#drop created HbA1c variable and write csv for tree-based analysis\n",
    "ready = to_NaN.drop('HbA1c', axis=1)\n",
    "ready.to_csv('readmit_for_trees.csv')"
   ]
  },
  {
   "cell_type": "code",
   "execution_count": null,
   "metadata": {
    "collapsed": true
   },
   "outputs": [],
   "source": []
  },
  {
   "cell_type": "code",
   "execution_count": null,
   "metadata": {
    "collapsed": true
   },
   "outputs": [],
   "source": [
    "#scrap code for potential use later\n",
    "\n",
    " #scatter_matrix(to_NaN[['var1', 'var2', 'var3']])"
   ]
  }
 ],
 "metadata": {
  "kernelspec": {
   "display_name": "Python 3",
   "language": "python",
   "name": "python3"
  },
  "language_info": {
   "codemirror_mode": {
    "name": "ipython",
    "version": 3
   },
   "file_extension": ".py",
   "mimetype": "text/x-python",
   "name": "python",
   "nbconvert_exporter": "python",
   "pygments_lexer": "ipython3",
   "version": "3.6.0"
  }
 },
 "nbformat": 4,
 "nbformat_minor": 2
}
