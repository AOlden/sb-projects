{
 "cells": [
  {
   "cell_type": "markdown",
   "metadata": {},
   "source": [
    "# Logistic Regression\n",
    "\n",
    "## Mapping the Features\n",
    "\n",
    "Before performing logistic regression, we need to map variables with text values to series of binary features. For example, suppose there are three admission types: A, B, and C. In the original admission-type column in the data set, each patient encounter would have A, B, or C. But machine-learning algorithms read binaries (and numerical categories, where appropriate) instead of letters and words. The encoding process creates two new columns: A and B. A patient encounter will have 1 in A and 0 in B to indicate admission type A. Converse encoding indicates type B, and a 0 in both columns indicates type C. This process is called one-hot encoding, and it will be helpful in other types of analysis like tree-based analysis as well. "
   ]
  },
  {
   "cell_type": "code",
   "execution_count": 29,
   "metadata": {
    "collapsed": true
   },
   "outputs": [],
   "source": [
    "from sklearn.preprocessing import LabelEncoder\n",
    "from sklearn.model_selection import train_test_split\n",
    "import pandas as pd\n",
    "import numpy as np"
   ]
  },
  {
   "cell_type": "code",
   "execution_count": 45,
   "metadata": {
    "collapsed": false
   },
   "outputs": [],
   "source": [
    "#read in wrangled data set \n",
    "readmit = pd.read_csv('readmit_for_map.csv')\n",
    "\n",
    "# separate df without dependent variable\n",
    "#readmit_noY = readmit.drop('readmit30', axis = 1)"
   ]
  },
  {
   "cell_type": "code",
   "execution_count": 46,
   "metadata": {
    "collapsed": false
   },
   "outputs": [],
   "source": [
    "#split data into training (80%) and test (20%)\n",
    "split = np.random.rand(len(readmit)) < 0.81\n",
    "\n",
    "readmit_train = readmit[split]\n",
    "readmit_test = readmit[~split]"
   ]
  },
  {
   "cell_type": "code",
   "execution_count": 52,
   "metadata": {
    "collapsed": true
   },
   "outputs": [],
   "source": [
    "#map each categorical or object variable to n-1 binary variables, where n = no. of categories/values in variable\n",
    "def oneHotEncode2(df, le_dict = {}): #dictionary to distinguish training and test data\n",
    "    if not le_dict:\n",
    "        columnsToEncode = list(df.select_dtypes(include=['category','object'])) #capture categorical and object data\n",
    "        train = True;\n",
    "    else:\n",
    "        columnsToEncode = le_dict.keys()   \n",
    "        train = False;\n",
    "\n",
    "    for feature in columnsToEncode:\n",
    "        if train:\n",
    "            le_dict[feature] = LabelEncoder() #one-hot encoding for training data\n",
    "        try:\n",
    "            if train: #check for mismatches in variables between test and training data\n",
    "                df[feature] = le_dict[feature].fit_transform(df[feature]) \n",
    "            else:\n",
    "                df[feature] = le_dict[feature].transform(df[feature])\n",
    "\n",
    "            df = pd.concat([df, #build dummy variables into df\n",
    "                              pd.get_dummies(df[feature]).rename(columns=lambda x: feature + '_' + str(x))], axis=1)\n",
    "            df = df.drop(feature, axis=1) #drop original feature\n",
    "        except: \n",
    "            print('Error encoding ' + feature) #produce error warning if feature not found in test data\n",
    "            #df[feature] = df[feature].convert_objects(convert_numeric='force')\n",
    "            df[feature] = df[feature].apply(pd.to_numeric, errors='coerce') #convert feature values to numeric\n",
    "    return (df, le_dict)"
   ]
  },
  {
   "cell_type": "code",
   "execution_count": 53,
   "metadata": {
    "collapsed": false
   },
   "outputs": [],
   "source": [
    "readmit_train, le_dict = oneHotEncode2(readmit_train)"
   ]
  },
  {
   "cell_type": "code",
   "execution_count": 54,
   "metadata": {
    "collapsed": false
   },
   "outputs": [],
   "source": [
    "readmit_test, _ = oneHotEncode2(readmit_test, le_dict)"
   ]
  },
  {
   "cell_type": "code",
   "execution_count": 58,
   "metadata": {
    "collapsed": false
   },
   "outputs": [
    {
     "data": {
      "text/plain": [
       "1      2155\n",
       "43     1796\n",
       "44     1562\n",
       "45     1532\n",
       "38     1451\n",
       "46     1448\n",
       "47     1416\n",
       "40     1404\n",
       "39     1360\n",
       "37     1357\n",
       "41     1356\n",
       "42     1324\n",
       "48     1316\n",
       "49     1303\n",
       "35     1244\n",
       "51     1242\n",
       "50     1240\n",
       "36     1223\n",
       "54     1206\n",
       "55     1184\n",
       "52     1161\n",
       "56     1153\n",
       "53     1153\n",
       "57     1140\n",
       "58     1100\n",
       "59     1069\n",
       "34     1061\n",
       "61     1057\n",
       "60     1010\n",
       "62      994\n",
       "       ... \n",
       "88       72\n",
       "87       63\n",
       "89       49\n",
       "90       46\n",
       "91       45\n",
       "93       38\n",
       "94       36\n",
       "92       34\n",
       "95       33\n",
       "97       21\n",
       "96       19\n",
       "98       18\n",
       "100      11\n",
       "101       7\n",
       "103       6\n",
       "99        6\n",
       "102       4\n",
       "106       4\n",
       "108       4\n",
       "105       3\n",
       "109       2\n",
       "111       2\n",
       "113       2\n",
       "104       2\n",
       "120       1\n",
       "132       1\n",
       "107       1\n",
       "114       1\n",
       "118       1\n",
       "121       1\n",
       "Name: num_lab_procedures, dtype: int64"
      ]
     },
     "execution_count": 58,
     "metadata": {},
     "output_type": "execute_result"
    }
   ],
   "source": [
    "readmit.num_lab_procedures.value_counts()"
   ]
  },
  {
   "cell_type": "code",
   "execution_count": null,
   "metadata": {
    "collapsed": true
   },
   "outputs": [],
   "source": []
  }
 ],
 "metadata": {
  "kernelspec": {
   "display_name": "Python 3",
   "language": "python",
   "name": "python3"
  },
  "language_info": {
   "codemirror_mode": {
    "name": "ipython",
    "version": 3
   },
   "file_extension": ".py",
   "mimetype": "text/x-python",
   "name": "python",
   "nbconvert_exporter": "python",
   "pygments_lexer": "ipython3",
   "version": "3.6.0"
  }
 },
 "nbformat": 4,
 "nbformat_minor": 2
}
