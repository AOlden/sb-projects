{
 "cells": [
  {
   "cell_type": "markdown",
   "metadata": {},
   "source": [
    "## Introduction\n",
    "\n",
    "Image detection is a good entry point for learning about the use of neural networks, which I aim to learn more about in this project. The problem to be solved in my project is image detection (of handwritten digits, in this case) by using the branch of machine learning that deals with image detection. "
   ]
  },
  {
   "cell_type": "markdown",
   "metadata": {},
   "source": [
    "## Data Wrangling\n",
    "\n",
    "I'll first read in the data and then check for any anomalies. Reading in the data entails a series of functions, the first of which loads in raw gzip file and serializes it from a hierarchy to a series of bytes. That adjustment will make the data easier to vectorize and put into arrays afterward."
   ]
  },
  {
   "cell_type": "code",
   "execution_count": null,
   "metadata": {
    "collapsed": true
   },
   "outputs": [],
   "source": [
    "# may need to adjust intro above\n",
    " # cite: http://scikit-learn.org/stable/auto_examples/linear_model/plot_sparse_logistic_regression_mnist.html#sphx-glr-auto-examples-linear-model-plot-sparse-logistic-regression-mnist-py\n",
    "\n",
    "# explain that I'm taking it from Python package and why"
   ]
  },
  {
   "cell_type": "code",
   "execution_count": 24,
   "metadata": {
    "collapsed": true
   },
   "outputs": [],
   "source": [
    "import numpy as np\n",
    "from sklearn.datasets import fetch_mldata\n",
    "from sklearn.model_selection import train_test_split\n",
    "\n",
    "mnist = fetch_mldata('MNIST')\n",
    "X = mnist.data.astype('float64')\n",
    "y = mnist.target"
   ]
  },
  {
   "cell_type": "code",
   "execution_count": 25,
   "metadata": {
    "collapsed": false
   },
   "outputs": [
    {
     "name": "stdout",
     "output_type": "stream",
     "text": [
      "(70000, 780)\n",
      "(70000,)\n",
      "[0 1 2 3 4 5 6 7 8 9]\n"
     ]
    }
   ],
   "source": [
    "print(X.shape)\n",
    "print(y.shape)\n",
    "print(np.unique(y))"
   ]
  },
  {
   "cell_type": "code",
   "execution_count": null,
   "metadata": {
    "collapsed": true
   },
   "outputs": [],
   "source": [
    "# try with and w/o standard scaling? will that resolve issue w/ L1 and solver=saga? #look up default penalty \n",
    "# explain scaling being used (standard normal) and process of making computations more stable \n",
    " # check distribution of data (level of gray) to see if necessary\n",
    "\n",
    "# look into effect of permuting \n",
    "\n",
    "# decrease tolerance (maybe .01, .001, etc.)"
   ]
  },
  {
   "cell_type": "code",
   "execution_count": 26,
   "metadata": {
    "collapsed": false
   },
   "outputs": [],
   "source": [
    "# train, test, split\n",
    "X_train, X_test, y_train, y_test = train_test_split(X, y, test_size=.2)"
   ]
  },
  {
   "cell_type": "code",
   "execution_count": 28,
   "metadata": {
    "collapsed": false
   },
   "outputs": [
    {
     "name": "stdout",
     "output_type": "stream",
     "text": [
      "{'C': 1} 0.918714285714\n"
     ]
    }
   ],
   "source": [
    "# logistic regression on training data\n",
    " # adjusting tolerance expedites convergence of algorithm \n",
    "\n",
    "from sklearn.model_selection import GridSearchCV\n",
    "from sklearn.linear_model import LogisticRegression\n",
    "from sklearn.model_selection import KFold\n",
    "from sklearn.metrics import accuracy_score\n",
    "\n",
    "C_grid = {'C': [0.001, 0.1, 1, 10, 100]}\n",
    "clf_grid = GridSearchCV(LogisticRegression(multi_class='multinomial', solver='sag', tol=0.1), \n",
    "                        C_grid, cv = 5, scoring = 'accuracy')\n",
    "clf_grid.fit(X_train, y_train)\n",
    "print(clf_grid.best_params_, clf_grid.best_score_)"
   ]
  },
  {
   "cell_type": "code",
   "execution_count": 32,
   "metadata": {
    "collapsed": false
   },
   "outputs": [
    {
     "data": {
      "text/plain": [
       "0.92278571428571432"
      ]
     },
     "execution_count": 32,
     "metadata": {},
     "output_type": "execute_result"
    }
   ],
   "source": [
    " #check performance on test set\n",
    "clf_grid_test = LogisticRegression(C = clf_grid.best_params_['C'], multi_class='multinomial', solver='sag', tol=0.1)\n",
    "clf_grid_test.fit(X_train, y_train)\n",
    "accuracy_score(clf_grid_test.predict(X_test), y_test)"
   ]
  },
  {
   "cell_type": "code",
   "execution_count": null,
   "metadata": {
    "collapsed": true
   },
   "outputs": [],
   "source": [
    "# check accuracy per digit -- metrics package may provide directly \n",
    "# heat-map-style confusion matrix for each digit\n",
    "# table with test and training accuracy (and precision/recall) for each digit"
   ]
  },
  {
   "cell_type": "code",
   "execution_count": null,
   "metadata": {
    "collapsed": true
   },
   "outputs": [],
   "source": [
    "# random forest"
   ]
  },
  {
   "cell_type": "code",
   "execution_count": null,
   "metadata": {
    "collapsed": true
   },
   "outputs": [],
   "source": []
  },
  {
   "cell_type": "code",
   "execution_count": 10,
   "metadata": {
    "collapsed": false
   },
   "outputs": [],
   "source": [
    "import numpy as np\n",
    "import gzip\n",
    "import pickle #converts object hierarchy into byte stream\n",
    "\n",
    "def load_mnist():\n",
    "    file = gzip.open('mnist.pkl.gz', 'rb') #read in in binary mode\n",
    "    train, test = pickle.load(file)\n",
    "    file.close()\n",
    "    return (train, test)"
   ]
  },
  {
   "cell_type": "markdown",
   "metadata": {},
   "source": [
    "The next function creates training and test datasets that will be easier to process. The initial training data is a list of 50,000 (x, y) tuples, where x is 784-dimensional (from 28x28 pixels) array of input image and y is a ten-dimensional array capturing the corresponding classification (digit value). The initial test data has the same structure but is a list of 10,000 tuples. "
   ]
  },
  {
   "cell_type": "code",
   "execution_count": 11,
   "metadata": {
    "collapsed": true
   },
   "outputs": [],
   "source": [
    "def data_wrapper():\n",
    "    train, test = load_mnist()\n",
    "     #reshape first value (x) in each training tuple into 784D (28x28 pixels) vector\n",
    "    train_inputs = [np.reshape(x, (784, 1)) for x in train[0]] \n",
    "    train_results = [vectorized_result(y) for y in train[1]]\n",
    "    train_data = zip(train_inputs, train_results)\n",
    "#validation_inputs = [np.reshape(x, (784, 1)) for x in va_d[0]]\n",
    "#validation_data = zip(validation_inputs, va_d[1])\n",
    "    test_inputs = [np.reshape(x, (784, 1)) for x in test[0]]\n",
    "    test_data = zip(test_inputs, test[1])\n",
    "    return (train_data, test_data) #validation_data,"
   ]
  },
  {
   "cell_type": "code",
   "execution_count": null,
   "metadata": {
    "collapsed": true
   },
   "outputs": [],
   "source": [
    "# see to-do list before proceeding -- may not need vectorized_result and beyond"
   ]
  },
  {
   "cell_type": "markdown",
   "metadata": {},
   "source": [
    "The third formula converts a 0-9 digit into a corresponding desired output from the neural network using 1 as a binary marker among zeroes otherwise. It sets up a one-versus-many method of evaluation for the algorithm, in which a yes-or-no decision is made for each potential digit. (For example, in a correct prediction of a 6, the algorithm would choose \"no\" for the other nine digits and \"yes\" for 6. The gestalt is also the reason we have a 10-dimensional unit vector -- one dimension for each digit. "
   ]
  },
  {
   "cell_type": "code",
   "execution_count": 12,
   "metadata": {
    "collapsed": true
   },
   "outputs": [],
   "source": [
    "def vectorized_result(j):\n",
    "    tenD_uv = np.zeros((10, 1)) #create 10D unit vector\n",
    "    tenD_uv[j] = 1.0 #put 1 in jth position\n",
    "    return tenD_uv"
   ]
  },
  {
   "cell_type": "code",
   "execution_count": null,
   "metadata": {
    "collapsed": true
   },
   "outputs": [],
   "source": [
    "# next step: initialize a Network object??"
   ]
  },
  {
   "cell_type": "code",
   "execution_count": null,
   "metadata": {
    "collapsed": true
   },
   "outputs": [],
   "source": []
  }
 ],
 "metadata": {
  "kernelspec": {
   "display_name": "Python 3",
   "language": "python",
   "name": "python3"
  },
  "language_info": {
   "codemirror_mode": {
    "name": "ipython",
    "version": 3
   },
   "file_extension": ".py",
   "mimetype": "text/x-python",
   "name": "python",
   "nbconvert_exporter": "python",
   "pygments_lexer": "ipython3",
   "version": "3.6.0"
  }
 },
 "nbformat": 4,
 "nbformat_minor": 2
}
