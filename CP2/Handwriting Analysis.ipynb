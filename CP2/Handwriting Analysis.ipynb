{
 "cells": [
  {
   "cell_type": "markdown",
   "metadata": {},
   "source": [
    "## Introduction\n",
    "\n",
    "Image detection is a good entry point for learning about the use of neural networks, which I aim to learn more about in this project. The problem to be solved in my project is image detection (of handwritten digits, in this case) by using the branch of machine learning that deals with image detection. "
   ]
  },
  {
   "cell_type": "markdown",
   "metadata": {},
   "source": [
    "## Data Wrangling\n",
    "\n",
    "I'll first read in the data and then check for any anomalies. The data exists, among other places, in a scikit-learn repository through Python, where I'll access it for convenience. I'll follow a sample approach provided on this site: http://scikit-learn.org/stable/auto_examples/linear_model/plot_sparse_logistic_regression_mnist.html#sphx-glr-auto-examples-linear-model-plot-sparse-logistic-regression-mnist-py. "
   ]
  },
  {
   "cell_type": "code",
   "execution_count": 10,
   "metadata": {
    "collapsed": false
   },
   "outputs": [],
   "source": [
    "%matplotlib inline\n",
    "import numpy as np\n",
    "import seaborn as sns\n",
    "import pandas as pd\n",
    "import matplotlib.pyplot as plt\n",
    "\n",
    "from sklearn.datasets import fetch_mldata\n",
    "from sklearn.model_selection import train_test_split\n",
    "from sklearn.metrics import confusion_matrix, classification_report\n",
    "from sklearn.model_selection import cross_val_predict\n",
    "\n",
    "mnist = fetch_mldata('MNIST')\n",
    "X = mnist.data.astype('float64')\n",
    "y = mnist.target"
   ]
  },
  {
   "cell_type": "code",
   "execution_count": 5,
   "metadata": {
    "collapsed": false
   },
   "outputs": [
    {
     "name": "stdout",
     "output_type": "stream",
     "text": [
      "(70000, 780)\n",
      "(70000,)\n",
      "[0 1 2 3 4 5 6 7 8 9]\n"
     ]
    }
   ],
   "source": [
    "print(X.shape)\n",
    "print(y.shape)\n",
    "print(np.unique(y))"
   ]
  },
  {
   "cell_type": "markdown",
   "metadata": {},
   "source": [
    "# Model Building and Analysis: Logistic Regression\n",
    "\n",
    "As a baseline comparison to the coming neural network, I will first run a logistic regression. We can use the results here to compare performance against that of the neural network. Logistic regression is commonly used in binary classification problems but can also be used for multinomial ones like this one, in which we are attempting to classify multiple digits. It works by identifying features that have the greatest predictive value (mathematically) on the outcome of interest. \n",
    "\n",
    "To start, I will split the data into training and test sets. The training set will be used for model building, with the test data set aside in advance to evaluate how well the model then generalizes. I'll also scale the data using standard scaling, which sets a mean of zero and a variance of one unit. This step makes computations more stable. "
   ]
  },
  {
   "cell_type": "code",
   "execution_count": 27,
   "metadata": {
    "collapsed": false
   },
   "outputs": [],
   "source": [
    "from sklearn.preprocessing import StandardScaler\n",
    "\n",
    "# train, test, split\n",
    "X_train, X_test, y_train, y_test = train_test_split(X, y, test_size=.2)\n",
    "\n",
    "# standard scaling (mean of zero; unit variance); use of \n",
    "scaler = StandardScaler(with_mean = False) #with_mean parameter accommodates sparse matrices \n",
    "X_train = scaler.fit_transform(X_train)\n",
    "X_test = scaler.transform(X_test)"
   ]
  },
  {
   "cell_type": "markdown",
   "metadata": {},
   "source": [
    "Next, I will run an initial model with tuned parameters. The L1 penalty sometimes performs better than the L2 with sparse matrices, but frankly, I have not been able to get Python to acknowledge the \"saga\" solved that is supposed to work in conjunction with L1. (An error message appears saying that saga isn't an option for logistic regression, despite the documentation suggesting otherwise.) As a secondary option, I will use the \"sag\" solver with L2 regularization, which is another acceptable pairing for multinomial classifications. \n",
    "\n",
    "I will also tweak the tolerance (tol in the code) in the model, which expedites the convergence of the algorithm with a large amount of data like we have here. The default tolerance is .0001, so we don't want to deviate too far from that, or the model may not generalize well. "
   ]
  },
  {
   "cell_type": "code",
   "execution_count": 39,
   "metadata": {
    "collapsed": false
   },
   "outputs": [
    {
     "name": "stdout",
     "output_type": "stream",
     "text": [
      "{'C': 100} 0.920464285714\n"
     ]
    }
   ],
   "source": [
    "# logistic regression on training data \n",
    "\n",
    "from sklearn.model_selection import GridSearchCV\n",
    "from sklearn.linear_model import LogisticRegression\n",
    "from sklearn.model_selection import KFold\n",
    "from sklearn.metrics import accuracy_score\n",
    "\n",
    "C_grid = {'C': [0.001, 0.1, 1, 10, 100]}\n",
    "clf_grid = GridSearchCV(LogisticRegression(multi_class='multinomial', solver='sag', tol=.01, penalty='l2'), \n",
    "                        C_grid, cv = 5, scoring = 'accuracy')\n",
    "clf_grid.fit(X_train, y_train)\n",
    "print(clf_grid.best_params_, clf_grid.best_score_)"
   ]
  },
  {
   "cell_type": "code",
   "execution_count": 40,
   "metadata": {
    "collapsed": false
   },
   "outputs": [
    {
     "data": {
      "text/plain": [
       "0.89164285714285718"
      ]
     },
     "execution_count": 40,
     "metadata": {},
     "output_type": "execute_result"
    }
   ],
   "source": [
    " #check performance on test set\n",
    "clf_grid_test = LogisticRegression(C = clf_grid.best_params_['C'], multi_class='multinomial', solver='sag', tol=0.1)\n",
    "clf_grid_test.fit(X_train, y_train)\n",
    "accuracy_score(clf_grid_test.predict(X_test), y_test)"
   ]
  },
  {
   "cell_type": "markdown",
   "metadata": {},
   "source": [
    "For a more granular look at the model's performance on the test data, a classification report will show how well it predicted each digit. The aggregate accuracy score above and the metrics below indicate a strong model overall, as precision and recall are both well above .5 (the equivalent of random guessing) for each digit. "
   ]
  },
  {
   "cell_type": "code",
   "execution_count": 44,
   "metadata": {
    "collapsed": false
   },
   "outputs": [
    {
     "name": "stdout",
     "output_type": "stream",
     "text": [
      "             precision    recall  f1-score   support\n",
      "\n",
      "          0       0.96      0.95      0.95      1407\n",
      "          1       0.96      0.93      0.94      1600\n",
      "          2       0.86      0.90      0.88      1402\n",
      "          3       0.86      0.88      0.87      1356\n",
      "          4       0.92      0.90      0.91      1407\n",
      "          5       0.80      0.88      0.83      1174\n",
      "          6       0.94      0.92      0.93      1390\n",
      "          7       0.89      0.92      0.90      1433\n",
      "          8       0.85      0.80      0.83      1384\n",
      "          9       0.87      0.83      0.85      1447\n",
      "\n",
      "avg / total       0.89      0.89      0.89     14000\n",
      "\n"
     ]
    }
   ],
   "source": [
    "print(classification_report(clf_grid_test.predict(X_test), y_test))"
   ]
  },
  {
   "cell_type": "markdown",
   "metadata": {},
   "source": [
    "For comparison, the next table shows digit-level performance for the training data. As expected, the model performs a bit better here, but not so much as to indicate overfitting. "
   ]
  },
  {
   "cell_type": "code",
   "execution_count": 45,
   "metadata": {
    "collapsed": false
   },
   "outputs": [
    {
     "name": "stdout",
     "output_type": "stream",
     "text": [
      "             precision    recall  f1-score   support\n",
      "\n",
      "          0       0.96      0.94      0.95      5628\n",
      "          1       0.97      0.93      0.95      6565\n",
      "          2       0.87      0.90      0.88      5360\n",
      "          3       0.87      0.88      0.87      5691\n",
      "          4       0.91      0.91      0.91      5450\n",
      "          5       0.82      0.87      0.84      4706\n",
      "          6       0.94      0.93      0.93      5557\n",
      "          7       0.90      0.91      0.91      5786\n",
      "          8       0.85      0.83      0.84      5630\n",
      "          9       0.87      0.86      0.87      5627\n",
      "\n",
      "avg / total       0.90      0.90      0.90     56000\n",
      "\n"
     ]
    }
   ],
   "source": [
    "print(classification_report(clf_grid_test.predict(X_train), y_train))"
   ]
  },
  {
   "cell_type": "markdown",
   "metadata": {},
   "source": [
    "Finally, we'll look at a heat map to visualize the performance of the model. The heat map is based on a confusion matrix, which captures the predicted-actual pairings for each digit. Each row/column represents a digit, in order from zero to nine. "
   ]
  },
  {
   "cell_type": "code",
   "execution_count": 52,
   "metadata": {
    "collapsed": false
   },
   "outputs": [
    {
     "name": "stdout",
     "output_type": "stream",
     "text": [
      "[[1294    0    6    4    1    8   12    2   13    0]\n",
      " [   0 1532   12   10    2   12    2    1   20    1]\n",
      " [  24   11 1243   23   23    2   17   24   42    4]\n",
      " [  11    8   33 1280    1   51   14   26   30   14]\n",
      " [   3    5   12    3 1218    4   15    4   13   58]\n",
      " [  16   12    6   56   17 1028   25    9   72   24]\n",
      " [  15    7   17    1    7   18 1303    2   20    1]\n",
      " [  10   14   16   11   16    1    2 1308    3   57]\n",
      " [  13   43   14   44   11   29    2    7 1150   31]\n",
      " [  12    8    7   30   63   15    0   45   15 1219]]\n"
     ]
    }
   ],
   "source": [
    "# confusion matrix for each digit \n",
    "y_pred = clf_grid_test.predict(X_test)\n",
    "cm = confusion_matrix(y_test, y_pred)\n",
    "print(cm)"
   ]
  },
  {
   "cell_type": "code",
   "execution_count": 63,
   "metadata": {
    "collapsed": false
   },
   "outputs": [
    {
     "data": {
      "image/png": "[encoded data removed]",
      "text/plain": [
       "<matplotlib.figure.Figure at 0x11bc93208>"
      ]
     },
     "metadata": {},
     "output_type": "display_data"
    }
   ],
   "source": [
    "# heat map \n",
    "df_cm = pd.DataFrame(cm)\n",
    "plt.figure(figsize = (10,7))\n",
    "sns.set(font_scale=1.4) #set label size\n",
    "sns.heatmap(df_cm, annot=True, annot_kws={\"size\": 13}) #set font size\n",
    "plt.show() "
   ]
  },
  {
   "cell_type": "markdown",
   "metadata": {
    "collapsed": true
   },
   "source": [
    "# Model Building and Analysis: Random Forest\n",
    "\n",
    "For an additional comparison to the coming neural network, I will create a random forest. The structure of this model is notably different from a logistic regression, so its output will be valuable for comparison to the neural network as well. In particular, the random forest makes classification decisions based on a decision trees that rely on series of split points (e.g., where to draw the line between a 2 and a 3) of the different variables. The random forest randomly generates many decision trees to harness the benefits of an ensemble model. "
   ]
  },
  {
   "cell_type": "code",
   "execution_count": 29,
   "metadata": {
    "collapsed": false
   },
   "outputs": [],
   "source": [
    "# build/fit model with random forest \n",
    "from sklearn.ensemble import RandomForestClassifier\n",
    "\n",
    "clf_rf = RandomForestClassifier(random_state = 17) \n",
    "model_rf = clf_rf.fit(X_train, y_train)"
   ]
  },
  {
   "cell_type": "code",
   "execution_count": 30,
   "metadata": {
    "collapsed": false
   },
   "outputs": [
    {
     "name": "stdout",
     "output_type": "stream",
     "text": [
      "0.946428571429\n"
     ]
    }
   ],
   "source": [
    "# model accuracy on test data\n",
    "print(model_rf.score(X_test, y_test))"
   ]
  },
  {
   "cell_type": "code",
   "execution_count": 31,
   "metadata": {
    "collapsed": false
   },
   "outputs": [
    {
     "name": "stdout",
     "output_type": "stream",
     "text": [
      "             precision    recall  f1-score   support\n",
      "\n",
      "          0       0.98      0.97      0.97      1402\n",
      "          1       0.98      0.98      0.98      1628\n",
      "          2       0.96      0.92      0.94      1435\n",
      "          3       0.93      0.92      0.93      1492\n",
      "          4       0.96      0.94      0.95      1398\n",
      "          5       0.93      0.92      0.93      1156\n",
      "          6       0.96      0.97      0.97      1348\n",
      "          7       0.95      0.96      0.95      1405\n",
      "          8       0.90      0.93      0.92      1307\n",
      "          9       0.91      0.94      0.93      1429\n",
      "\n",
      "avg / total       0.95      0.95      0.95     14000\n",
      "\n"
     ]
    }
   ],
   "source": [
    "# classification report\n",
    "print(classification_report(clf_rf.predict(X_test), y_test))"
   ]
  },
  {
   "cell_type": "markdown",
   "metadata": {},
   "source": [
    "To improve the model's stability and ability to generalize, I will work on tuning the parameters of the random forest algorithm. This step will help determine the optimal method for using the maximum number of features without overfitting. The performance metrics may drop some in turn, but it's a worthwhile trade-off to help the model generalize effectively. "
   ]
  },
  {
   "cell_type": "code",
   "execution_count": null,
   "metadata": {
    "collapsed": true
   },
   "outputs": [],
   "source": [
    "# CHECK VALIDITY OF PARAMETER TUNING HERE\n",
    " # ADJUST MARKDOWN, RESULTS, ETC. IF CHANGES MADE "
   ]
  },
  {
   "cell_type": "code",
   "execution_count": 32,
   "metadata": {
    "collapsed": false
   },
   "outputs": [
    {
     "name": "stdout",
     "output_type": "stream",
     "text": [
      "0.84\n",
      "             precision    recall  f1-score   support\n",
      "\n",
      "          0       0.98      0.97      0.97      1402\n",
      "          1       0.98      0.98      0.98      1628\n",
      "          2       0.96      0.92      0.94      1435\n",
      "          3       0.93      0.92      0.93      1492\n",
      "          4       0.96      0.94      0.95      1398\n",
      "          5       0.93      0.92      0.93      1156\n",
      "          6       0.96      0.97      0.97      1348\n",
      "          7       0.95      0.96      0.95      1405\n",
      "          8       0.90      0.93      0.92      1307\n",
      "          9       0.91      0.94      0.93      1429\n",
      "\n",
      "avg / total       0.95      0.95      0.95     14000\n",
      "\n"
     ]
    }
   ],
   "source": [
    "# updated random forest model \n",
    "new_rf = RandomForestClassifier(random_state = 64, n_estimators = 20, max_features = 'sqrt', max_depth = 5)\n",
    "new_clf = new_rf.fit(X_train, y_train)\n",
    "\n",
    "# accuracy score and classification report with respect to test data                               \n",
    "print(new_clf.score(X_test, y_test))\n",
    "print(classification_report(clf_rf.predict(X_test), y_test))"
   ]
  },
  {
   "cell_type": "markdown",
   "metadata": {},
   "source": [
    "Through some quick trial and error, I determined that using both the square root and log2 options for the max_features parameter produce nearly the same results, which makes sense mathematically for 10 features. I'll leave the default of square root in place for this parameter. For the number of estimators (or trees), I tested 10, 20, and 30, which all produced similar results. With a relatively small number of features, 20 seems like a good middle ground to limit error while still having enough randomization in the ensemble. Model performance also held with a depth of 5 levels in the trees, so I will keep this relatively low value to reduce the potential for overfitting. "
   ]
  },
  {
   "cell_type": "code",
   "execution_count": 33,
   "metadata": {
    "collapsed": false
   },
   "outputs": [
    {
     "name": "stdout",
     "output_type": "stream",
     "text": [
      "[[1305    2    5   13    1    4   19    1   31    1]\n",
      " [   0 1591    5    5    1    1    3    2    7    5]\n",
      " [  13   48 1152   35   21   10   34   28   29   10]\n",
      " [  14   48   41 1175   14   53   16   33   29   58]\n",
      " [   4   11    7    4 1080    8   37   24   22  168]\n",
      " [  30   53    4  158   31  767   34   29   23   25]\n",
      " [  26   23   16    2   18   15 1251    4   18    0]\n",
      " [   4   49   17    2   26    0    3 1240   11   67]\n",
      " [   5   85   36   69   19   27   40    5 1016   51]\n",
      " [  11   15   15   25   90   15   12   87   20 1183]]\n"
     ]
    }
   ],
   "source": [
    "# confusion matrix for each digit \n",
    "y_pred_rf = new_clf.predict(X_test)\n",
    "cm_rf = confusion_matrix(y_test, y_pred_rf)\n",
    "print(cm_rf)"
   ]
  },
  {
   "cell_type": "code",
   "execution_count": 34,
   "metadata": {
    "collapsed": false
   },
   "outputs": [
    {
     "data": {
      "image/png": "[encoded data removed]",
      "text/plain": [
       "<matplotlib.figure.Figure at 0x1199a1f28>"
      ]
     },
     "metadata": {},
     "output_type": "display_data"
    }
   ],
   "source": [
    "# heat map \n",
    "df_rf = pd.DataFrame(cm_rf)\n",
    "plt.figure(figsize = (10,7))\n",
    "sns.set(font_scale=1.4) \n",
    "sns.heatmap(df_rf, annot=True, annot_kws={\"size\": 13}) \n",
    "plt.show() "
   ]
  },
  {
   "cell_type": "markdown",
   "metadata": {},
   "source": [
    "The random forest model outperforms the logistic regression based on accuracy scores and the confusion matrix. It will be helpful to have two models with different performances when making comparisons to the neural network, which I'll proceed with now. "
   ]
  },
  {
   "cell_type": "markdown",
   "metadata": {},
   "source": [
    "# Model Building and Analysis: Neural Network\n",
    "\n",
    "For parameters, I'll start with 'adam' as the solver because I understand it to be a good compromise of computational demand and advanced weighting. (It is also the default in scikit-learn.) I will use the logistic activation function as well. It oftern performs better in classification problems because small changes in variable weights and bias cause only a small change in its output. "
   ]
  },
  {
   "cell_type": "code",
   "execution_count": 28,
   "metadata": {
    "collapsed": false
   },
   "outputs": [
    {
     "name": "stdout",
     "output_type": "stream",
     "text": [
      "Training set score: 0.939964\n",
      "Test set score: 0.940071\n"
     ]
    }
   ],
   "source": [
    "# neural network model\n",
    "from sklearn.neural_network import MLPClassifier\n",
    "\n",
    "mlp = MLPClassifier(solver='adam', alpha=1e-5, activation='logistic', random_state=1)\n",
    "mlp.fit(X, y)\n",
    "print(\"Training set score: %f\" % mlp.score(X_train, y_train))\n",
    "print(\"Test set score: %f\" % mlp.score(X_test, y_test))"
   ]
  },
  {
   "cell_type": "code",
   "execution_count": null,
   "metadata": {
    "collapsed": true
   },
   "outputs": [],
   "source": [
    "C_grid = {'C': [0.001, 0.1, 1, 10, 100]}\n",
    "clf_grid = GridSearchCV(LogisticRegression(multi_class='multinomial', solver='sag', tol=.01, penalty='l2'), \n",
    "                        C_grid, cv = 5, scoring = 'accuracy')\n",
    "clf_grid.fit(X_train, y_train)\n",
    "print(clf_grid.best_params_, clf_grid.best_score_)"
   ]
  },
  {
   "cell_type": "code",
   "execution_count": null,
   "metadata": {
    "collapsed": true
   },
   "outputs": [],
   "source": [
    "# cross-validation to choose best alpha -- add comments to markdown above and here\n",
    "# metrics summary like done for LR and RF"
   ]
  },
  {
   "cell_type": "code",
   "execution_count": null,
   "metadata": {
    "collapsed": true
   },
   "outputs": [],
   "source": []
  },
  {
   "cell_type": "code",
   "execution_count": null,
   "metadata": {
    "collapsed": true
   },
   "outputs": [],
   "source": []
  },
  {
   "cell_type": "code",
   "execution_count": 10,
   "metadata": {
    "collapsed": false
   },
   "outputs": [],
   "source": [
    "import numpy as np\n",
    "import gzip\n",
    "import pickle #converts object hierarchy into byte stream\n",
    "\n",
    "def load_mnist():\n",
    "    file = gzip.open('mnist.pkl.gz', 'rb') #read in in binary mode\n",
    "    train, test = pickle.load(file)\n",
    "    file.close()\n",
    "    return (train, test)"
   ]
  },
  {
   "cell_type": "markdown",
   "metadata": {},
   "source": [
    "The next function creates training and test datasets that will be easier to process. The initial training data is a list of 50,000 (x, y) tuples, where x is 784-dimensional (from 28x28 pixels) array of input image and y is a ten-dimensional array capturing the corresponding classification (digit value). The initial test data has the same structure but is a list of 10,000 tuples. "
   ]
  },
  {
   "cell_type": "code",
   "execution_count": 11,
   "metadata": {
    "collapsed": true
   },
   "outputs": [],
   "source": [
    "def data_wrapper():\n",
    "    train, test = load_mnist()\n",
    "     #reshape first value (x) in each training tuple into 784D (28x28 pixels) vector\n",
    "    train_inputs = [np.reshape(x, (784, 1)) for x in train[0]] \n",
    "    train_results = [vectorized_result(y) for y in train[1]]\n",
    "    train_data = zip(train_inputs, train_results)\n",
    "#validation_inputs = [np.reshape(x, (784, 1)) for x in va_d[0]]\n",
    "#validation_data = zip(validation_inputs, va_d[1])\n",
    "    test_inputs = [np.reshape(x, (784, 1)) for x in test[0]]\n",
    "    test_data = zip(test_inputs, test[1])\n",
    "    return (train_data, test_data) #validation_data,"
   ]
  },
  {
   "cell_type": "code",
   "execution_count": null,
   "metadata": {
    "collapsed": true
   },
   "outputs": [],
   "source": [
    "# see to-do list before proceeding -- may not need vectorized_result and beyond"
   ]
  },
  {
   "cell_type": "markdown",
   "metadata": {},
   "source": [
    "The third formula converts a 0-9 digit into a corresponding desired output from the neural network using 1 as a binary marker among zeroes otherwise. It sets up a one-versus-many method of evaluation for the algorithm, in which a yes-or-no decision is made for each potential digit. (For example, in a correct prediction of a 6, the algorithm would choose \"no\" for the other nine digits and \"yes\" for 6. The gestalt is also the reason we have a 10-dimensional unit vector -- one dimension for each digit. "
   ]
  },
  {
   "cell_type": "code",
   "execution_count": 12,
   "metadata": {
    "collapsed": true
   },
   "outputs": [],
   "source": [
    "def vectorized_result(j):\n",
    "    tenD_uv = np.zeros((10, 1)) #create 10D unit vector\n",
    "    tenD_uv[j] = 1.0 #put 1 in jth position\n",
    "    return tenD_uv"
   ]
  },
  {
   "cell_type": "code",
   "execution_count": null,
   "metadata": {
    "collapsed": true
   },
   "outputs": [],
   "source": [
    "# next step: initialize a Network object??"
   ]
  },
  {
   "cell_type": "code",
   "execution_count": null,
   "metadata": {
    "collapsed": true
   },
   "outputs": [],
   "source": []
  }
 ],
 "metadata": {
  "kernelspec": {
   "display_name": "Python 3",
   "language": "python",
   "name": "python3"
  },
  "language_info": {
   "codemirror_mode": {
    "name": "ipython",
    "version": 3
   },
   "file_extension": ".py",
   "mimetype": "text/x-python",
   "name": "python",
   "nbconvert_exporter": "python",
   "pygments_lexer": "ipython3",
   "version": "3.6.0"
  }
 },
 "nbformat": 4,
 "nbformat_minor": 2
}
