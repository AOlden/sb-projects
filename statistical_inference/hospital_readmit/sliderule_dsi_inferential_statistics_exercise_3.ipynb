{
 "cells": [
  {
   "cell_type": "markdown",
   "metadata": {},
   "source": [
    "# Hospital Readmissions Data Analysis and Recommendations for Reduction\n",
    "\n",
    "### Background\n",
    "In October 2012, the US government's Center for Medicare and Medicaid Services (CMS) began reducing Medicare payments for Inpatient Prospective Payment System hospitals with excess readmissions. Excess readmissions are measured by a ratio, by dividing a hospital’s number of “predicted” 30-day readmissions for heart attack, heart failure, and pneumonia by the number that would be “expected,” based on an average hospital with similar patients. A ratio greater than 1 indicates excess readmissions.\n",
    "\n",
    "### Exercise Directions\n",
    "\n",
    "In this exercise, you will:\n",
    "+ critique a preliminary analysis of readmissions data and recommendations (provided below) for reducing the readmissions rate\n",
    "+ construct a statistically sound analysis and make recommendations of your own \n",
    "\n",
    "More instructions provided below. Include your work **in this notebook and submit to your Github account**. \n",
    "\n",
    "### Resources\n",
    "+ Data source: https://data.medicare.gov/Hospital-Compare/Hospital-Readmission-Reduction/9n3s-kdb3\n",
    "+ More information: http://www.cms.gov/Medicare/medicare-fee-for-service-payment/acuteinpatientPPS/readmissions-reduction-program.html\n",
    "+ Markdown syntax: http://nestacms.com/docs/creating-content/markdown-cheat-sheet\n",
    "****"
   ]
  },
  {
   "cell_type": "code",
   "execution_count": 4,
   "metadata": {
    "collapsed": false
   },
   "outputs": [],
   "source": [
    "%matplotlib inline\n",
    "\n",
    "import pandas as pd\n",
    "import numpy as np\n",
    "import matplotlib.pyplot as plt\n",
    "import bokeh.plotting as bkp\n",
    "from scipy.stats.stats import pearsonr\n",
    "from mpl_toolkits.axes_grid1 import make_axes_locatable"
   ]
  },
  {
   "cell_type": "code",
   "execution_count": 27,
   "metadata": {
    "collapsed": false
   },
   "outputs": [
    {
     "data": {
      "text/html": [
       "<div>\n",
       "<table border=\"1\" class=\"dataframe\">\n",
       "  <thead>\n",
       "    <tr style=\"text-align: right;\">\n",
       "      <th></th>\n",
       "      <th>Hospital Name</th>\n",
       "      <th>Provider Number</th>\n",
       "      <th>State</th>\n",
       "      <th>Measure Name</th>\n",
       "      <th>Number of Discharges</th>\n",
       "      <th>Footnote</th>\n",
       "      <th>Excess Readmission Ratio</th>\n",
       "      <th>Predicted Readmission Rate</th>\n",
       "      <th>Expected Readmission Rate</th>\n",
       "      <th>Number of Readmissions</th>\n",
       "      <th>Start Date</th>\n",
       "      <th>End Date</th>\n",
       "    </tr>\n",
       "  </thead>\n",
       "  <tbody>\n",
       "    <tr>\n",
       "      <th>0</th>\n",
       "      <td>FROEDTERT MEMORIAL LUTHERAN HOSPITAL</td>\n",
       "      <td>520177</td>\n",
       "      <td>WI</td>\n",
       "      <td>READM-30-HIP-KNEE-HRRP</td>\n",
       "      <td>242</td>\n",
       "      <td>NaN</td>\n",
       "      <td>1.9095</td>\n",
       "      <td>10.8</td>\n",
       "      <td>5.6</td>\n",
       "      <td>38.0</td>\n",
       "      <td>07/01/2010</td>\n",
       "      <td>06/30/2013</td>\n",
       "    </tr>\n",
       "    <tr>\n",
       "      <th>1</th>\n",
       "      <td>PROVIDENCE HOSPITAL</td>\n",
       "      <td>90006</td>\n",
       "      <td>DC</td>\n",
       "      <td>READM-30-HIP-KNEE-HRRP</td>\n",
       "      <td>247</td>\n",
       "      <td>NaN</td>\n",
       "      <td>1.7521</td>\n",
       "      <td>9.2</td>\n",
       "      <td>5.3</td>\n",
       "      <td>33.0</td>\n",
       "      <td>07/01/2010</td>\n",
       "      <td>06/30/2013</td>\n",
       "    </tr>\n",
       "    <tr>\n",
       "      <th>2</th>\n",
       "      <td>BEAUFORT COUNTY MEMORIAL HOSPITAL</td>\n",
       "      <td>420067</td>\n",
       "      <td>SC</td>\n",
       "      <td>READM-30-HIP-KNEE-HRRP</td>\n",
       "      <td>586</td>\n",
       "      <td>NaN</td>\n",
       "      <td>1.5836</td>\n",
       "      <td>7.6</td>\n",
       "      <td>4.8</td>\n",
       "      <td>53.0</td>\n",
       "      <td>07/01/2010</td>\n",
       "      <td>06/30/2013</td>\n",
       "    </tr>\n",
       "    <tr>\n",
       "      <th>3</th>\n",
       "      <td>ADVOCATE CHRIST HOSPITAL &amp; MEDICAL CENTER</td>\n",
       "      <td>140208</td>\n",
       "      <td>IL</td>\n",
       "      <td>READM-30-HIP-KNEE-HRRP</td>\n",
       "      <td>965</td>\n",
       "      <td>NaN</td>\n",
       "      <td>1.5760</td>\n",
       "      <td>9.0</td>\n",
       "      <td>5.7</td>\n",
       "      <td>95.0</td>\n",
       "      <td>07/01/2010</td>\n",
       "      <td>06/30/2013</td>\n",
       "    </tr>\n",
       "    <tr>\n",
       "      <th>4</th>\n",
       "      <td>BRAZOSPORT REGIONAL HEALTH SYSTEM</td>\n",
       "      <td>450072</td>\n",
       "      <td>TX</td>\n",
       "      <td>READM-30-HIP-KNEE-HRRP</td>\n",
       "      <td>149</td>\n",
       "      <td>NaN</td>\n",
       "      <td>1.5308</td>\n",
       "      <td>8.2</td>\n",
       "      <td>5.4</td>\n",
       "      <td>20.0</td>\n",
       "      <td>07/01/2010</td>\n",
       "      <td>06/30/2013</td>\n",
       "    </tr>\n",
       "  </tbody>\n",
       "</table>\n",
       "</div>"
      ],
      "text/plain": [
       "                               Hospital Name  Provider Number State  \\\n",
       "0       FROEDTERT MEMORIAL LUTHERAN HOSPITAL           520177    WI   \n",
       "1                        PROVIDENCE HOSPITAL            90006    DC   \n",
       "2          BEAUFORT COUNTY MEMORIAL HOSPITAL           420067    SC   \n",
       "3  ADVOCATE CHRIST HOSPITAL & MEDICAL CENTER           140208    IL   \n",
       "4          BRAZOSPORT REGIONAL HEALTH SYSTEM           450072    TX   \n",
       "\n",
       "             Measure Name Number of Discharges  Footnote  \\\n",
       "0  READM-30-HIP-KNEE-HRRP                  242       NaN   \n",
       "1  READM-30-HIP-KNEE-HRRP                  247       NaN   \n",
       "2  READM-30-HIP-KNEE-HRRP                  586       NaN   \n",
       "3  READM-30-HIP-KNEE-HRRP                  965       NaN   \n",
       "4  READM-30-HIP-KNEE-HRRP                  149       NaN   \n",
       "\n",
       "   Excess Readmission Ratio  Predicted Readmission Rate  \\\n",
       "0                    1.9095                        10.8   \n",
       "1                    1.7521                         9.2   \n",
       "2                    1.5836                         7.6   \n",
       "3                    1.5760                         9.0   \n",
       "4                    1.5308                         8.2   \n",
       "\n",
       "   Expected Readmission Rate  Number of Readmissions  Start Date    End Date  \n",
       "0                        5.6                    38.0  07/01/2010  06/30/2013  \n",
       "1                        5.3                    33.0  07/01/2010  06/30/2013  \n",
       "2                        4.8                    53.0  07/01/2010  06/30/2013  \n",
       "3                        5.7                    95.0  07/01/2010  06/30/2013  \n",
       "4                        5.4                    20.0  07/01/2010  06/30/2013  "
      ]
     },
     "execution_count": 27,
     "metadata": {},
     "output_type": "execute_result"
    }
   ],
   "source": [
    "# read in readmissions data provided\n",
    "hospital_read_df = pd.read_csv('data/cms_hospital_readmissions.csv')\n",
    "hospital_read_df.head()"
   ]
  },
  {
   "cell_type": "markdown",
   "metadata": {},
   "source": [
    "****\n",
    "## Preliminary Analysis"
   ]
  },
  {
   "cell_type": "code",
   "execution_count": 6,
   "metadata": {
    "collapsed": false
   },
   "outputs": [],
   "source": [
    "# deal with missing and inconvenient portions of data \n",
    "clean_hospital_read_df = hospital_read_df[hospital_read_df['Number of Discharges'] != 'Not Available']\n",
    "readmit = clean_hospital_read_df.copy()\n",
    "readmit.loc[:, 'Number of Discharges'] = clean_hospital_read_df['Number of Discharges'].astype(int)\n",
    "readmit_sort = readmit.sort_values('Number of Discharges')"
   ]
  },
  {
   "cell_type": "code",
   "execution_count": 7,
   "metadata": {
    "collapsed": false
   },
   "outputs": [
    {
     "data": {
      "text/plain": [
       "0.3132858837485172"
      ]
     },
     "execution_count": 7,
     "metadata": {},
     "output_type": "execute_result"
    }
   ],
   "source": [
    "#AO work: check on removed observations\n",
    "    #more than 30% of data was lost in removal of obs w/ NA in no. of discharges -- not great\n",
    "1 - (len(readmit['Number of Discharges']) / len(hospital_read_df['Number of Discharges']))"
   ]
  },
  {
   "cell_type": "code",
   "execution_count": 8,
   "metadata": {
    "collapsed": false
   },
   "outputs": [
    {
     "data": {
      "text/plain": [
       "Number of Discharges\n",
       "0    81\n",
       "dtype: int64"
      ]
     },
     "execution_count": 8,
     "metadata": {},
     "output_type": "execute_result"
    }
   ],
   "source": [
    "#AO work: check on discharge counts not in scatter plot\n",
    "    #zeroes (81 total) and counts above 3,000 (3 total) weren't plotted \n",
    "readmit.groupby('Number of Discharges').size().head(1)"
   ]
  },
  {
   "cell_type": "code",
   "execution_count": 9,
   "metadata": {
    "collapsed": false
   },
   "outputs": [
    {
     "data": {
      "text/plain": [
       "Number of Discharges\n",
       "2716    1\n",
       "2740    1\n",
       "3570    1\n",
       "3980    1\n",
       "6793    1\n",
       "dtype: int64"
      ]
     },
     "execution_count": 9,
     "metadata": {},
     "output_type": "execute_result"
    }
   ],
   "source": [
    "readmit.groupby('Number of Discharges').size().tail()"
   ]
  },
  {
   "cell_type": "code",
   "execution_count": 10,
   "metadata": {
    "collapsed": false
   },
   "outputs": [
    {
     "data": {
      "image/png": "[encoded data removed]",
      "text/plain": [
       "<matplotlib.figure.Figure at 0x113a17dd8>"
      ]
     },
     "metadata": {},
     "output_type": "display_data"
    }
   ],
   "source": [
    "# generate a scatterplot for number of discharges vs. excess rate of readmissions\n",
    "# lists work better with matplotlib scatterplot function\n",
    "x = [a for a in readmit_sort['Number of Discharges'][81:-3]]\n",
    "y = list(readmit_sort['Excess Readmission Ratio'][81:-3])\n",
    "\n",
    "fig, ax = plt.subplots(figsize=(8,5))\n",
    "ax.scatter(x, y,alpha=0.2)\n",
    "\n",
    "ax.fill_between([0,350], 1.15, 2, facecolor='red', alpha = .15, interpolate=True)\n",
    "ax.fill_between([800,2500], .5, .95, facecolor='green', alpha = .15, interpolate=True)\n",
    "\n",
    "ax.set_xlim([0, max(x)])\n",
    "ax.set_xlabel('Number of discharges', fontsize=12)\n",
    "ax.set_ylabel('Excess rate of readmissions', fontsize=12)\n",
    "ax.set_title('Scatterplot of number of discharges vs. excess rate of readmissions', fontsize=14)\n",
    "\n",
    "ax.grid(True)\n",
    "fig.tight_layout()"
   ]
  },
  {
   "cell_type": "markdown",
   "metadata": {},
   "source": [
    "****\n",
    "\n",
    "## Preliminary Report\n",
    "\n",
    "Read the following results/report. While you are reading it, think about if the conclusions are correct, incorrect, misleading or unfounded. Think about what you would change or what additional analyses you would perform.\n",
    "\n",
    "**A. Initial observations based on the plot above**\n",
    "+ Overall, rate of readmissions is trending down with increasing number of discharges\n",
    "+ With lower number of discharges, there is a greater incidence of excess rate of readmissions (area shaded red)\n",
    "+ With higher number of discharges, there is a greater incidence of lower rates of readmissions (area shaded green) \n",
    "\n",
    "**B. Statistics**\n",
    "+ In hospitals/facilities with number of discharges < 100, mean excess readmission rate is 1.023 and 63% have excess readmission rate greater than 1 \n",
    "+ In hospitals/facilities with number of discharges > 1000, mean excess readmission rate is 0.978 and 44% have excess readmission rate greater than 1 \n",
    "\n",
    "**C. Conclusions**\n",
    "+ There is a significant correlation between hospital capacity (number of discharges) and readmission rates. \n",
    "+ Smaller hospitals/facilities may be lacking necessary resources to ensure quality care and prevent complications that lead to readmissions.\n",
    "\n",
    "**D. Regulatory policy recommendations**\n",
    "+ Hospitals/facilties with small capacity (< 300) should be required to demonstrate upgraded resource allocation for quality care to continue operation.\n",
    "+ Directives and incentives should be provided for consolidation of hospitals and facilities to have a smaller number of them with higher capacity and number of discharges."
   ]
  },
  {
   "cell_type": "markdown",
   "metadata": {},
   "source": [
    "****\n",
    "<div class=\"span5 alert alert-info\">\n",
    "### Exercise\n",
    "\n",
    "Include your work on the following **in this notebook and submit to your Github account**. \n",
    "\n",
    "A. Do you agree with the above analysis and recommendations? Why or why not?\n",
    "   \n",
    "B. Provide support for your arguments and your own recommendations with a statistically sound analysis:\n",
    "\n",
    "   1. Setup an appropriate hypothesis test.\n",
    "   2. Compute and report the observed significance value (or p-value).\n",
    "   3. Report statistical significance for $\\alpha$ = .01. \n",
    "   4. Discuss statistical significance and practical significance. Do they differ here? How does this change your recommendation to the client?\n",
    "   5. Look at the scatterplot above. \n",
    "      - What are the advantages and disadvantages of using this plot to convey information?\n",
    "      - Construct another plot that conveys the same information in a more direct manner.\n",
    "\n",
    "\n",
    "\n",
    "You can compose in notebook cells using Markdown: \n",
    "+ In the control panel at the top, choose Cell > Cell Type > Markdown\n",
    "+ Markdown syntax: http://nestacms.com/docs/creating-content/markdown-cheat-sheet\n",
    "</div>\n",
    "****"
   ]
  },
  {
   "cell_type": "markdown",
   "metadata": {
    "collapsed": true
   },
   "source": [
    "## A. Do you agree with the above analysis and recommendations? Why or why not?\n",
    "\n",
    "To start, I am somewhat uncertain about the above analysis because of its approach to data wrangling. The first step performed removed nearly a third of collected observations. Missing data is of course problematic when analyzing data, but when missingness accounts for a significant amount of the data, simply removing all affected observations can skew results. Additionally the scatter plot above indicates that observations with excess readmission ratios equal to or less than one were used. However, the background information indicates that only ratios greater than one were deemed excessive. This dynamic makes it seem that inappropriate observations were considered in the original analysis. \n",
    "\n",
    "### Response to part A. of preliminary report:\n",
    "\n",
    "I agree that rate of readmissions is trending down with increasing numbers of discharges. However, it should be noted that these trends may not be especially strong because it doesn't look like the slope of a regression line would be very steep. The concluded nature of the relationship between these two variables may seem a bit counterintuitive to some observers, too, so it's quite important to have clear evidence. The colored boxes on the plot don't entirely align with the analysis, though, and should be corrected. The boxes highlight the fact that observed readmission rates become more extreme as the number of discharges drops or increases, not just that their incidences (or frequencies) increase or decrease. \n",
    "\n",
    "### Response to part B.\n",
    "\n",
    "I also found that the mean excess readmission rate is 1.023 in hospitals/facilities with a number of discharges below 100, but I found only 59% to have excess readmission rates greater than 1. And I agree that in hospitals/facilities with number of discharges above 1000, the mean excess readmission rate is 0.978 and 44% have excess readmission rates greater than 1. My calculations are below. "
   ]
  },
  {
   "cell_type": "code",
   "execution_count": 11,
   "metadata": {
    "collapsed": false
   },
   "outputs": [
    {
     "data": {
      "text/plain": [
       "1.0226183501683486"
      ]
     },
     "execution_count": 11,
     "metadata": {},
     "output_type": "execute_result"
    }
   ],
   "source": [
    "#check statistics in part B.\n",
    "less100 = readmit[readmit['Number of Discharges'] < 100]\n",
    "less100['Excess Readmission Ratio'].mean()"
   ]
  },
  {
   "cell_type": "code",
   "execution_count": 12,
   "metadata": {
    "collapsed": false
   },
   "outputs": [
    {
     "data": {
      "text/plain": [
       "0.5918045705279747"
      ]
     },
     "execution_count": 12,
     "metadata": {},
     "output_type": "execute_result"
    }
   ],
   "source": [
    "len(less100[less100['Excess Readmission Ratio'] > 1]) / len(less100['Excess Readmission Ratio']) "
   ]
  },
  {
   "cell_type": "code",
   "execution_count": 13,
   "metadata": {
    "collapsed": false
   },
   "outputs": [
    {
     "data": {
      "text/plain": [
       "0.9783354211663071"
      ]
     },
     "execution_count": 13,
     "metadata": {},
     "output_type": "execute_result"
    }
   ],
   "source": [
    "above1K = readmit[readmit['Number of Discharges'] > 1000]\n",
    "above1K['Excess Readmission Ratio'].mean()"
   ]
  },
  {
   "cell_type": "code",
   "execution_count": 14,
   "metadata": {
    "collapsed": false
   },
   "outputs": [
    {
     "data": {
      "text/plain": [
       "0.4449244060475162"
      ]
     },
     "execution_count": 14,
     "metadata": {},
     "output_type": "execute_result"
    }
   ],
   "source": [
    "len(above1K[above1K['Excess Readmission Ratio'] > 1]) / len(above1K['Excess Readmission Ratio']) "
   ]
  },
  {
   "cell_type": "markdown",
   "metadata": {
    "collapsed": true
   },
   "source": [
    "### Response to part C. \n",
    "\n",
    "The conclusion that there is a significant correlation between number of discharges and readmission rates is supported by a hypothesis test (for Pearson's r). The p-value is well below .01, and the coeffificient is -.0974, aligning with the slight negative slope indicated by the original scatter plot. \n",
    "\n",
    "The report then mentions that smaller facilities may be lacking necessary resources that would ultimately help reduce readmissions. This statement's use of \"may be\" expresses a general lack of certainty to begin with, but, ambivalance aside, there is no established evidence to support this conclusion yet. First, a hypothesis test only indicates that a relationship exists that is not due to chance. To get at causation of readmissions, a controlled experiment would need to be performed at relevant medical facilities. Finally, we don't have any information on the size of facilities in this data set, so we are not in a position to make conclusions based on facility size at this point. "
   ]
  },
  {
   "cell_type": "code",
   "execution_count": 15,
   "metadata": {
    "collapsed": false
   },
   "outputs": [
    {
     "data": {
      "text/plain": [
       "(False, True)"
      ]
     },
     "execution_count": 15,
     "metadata": {},
     "output_type": "execute_result"
    }
   ],
   "source": [
    "#check conclusion in part C. -- Analysis doesn't specificy which readmission rate, so I'm assuming excess, which has \n",
    "# been used throughout. \n",
    "\n",
    "    #check for missing values\n",
    "readmit['Number of Discharges'].isnull().values.any(), readmit['Excess Readmission Ratio'].isnull().values.any()"
   ]
  },
  {
   "cell_type": "code",
   "execution_count": 16,
   "metadata": {
    "collapsed": false
   },
   "outputs": [
    {
     "data": {
      "text/plain": [
       "0.0069960269476593536"
      ]
     },
     "execution_count": 16,
     "metadata": {},
     "output_type": "execute_result"
    }
   ],
   "source": [
    "    #address missingness in excess readmission ratio -- < 1%, so remove obs w/ NA values\n",
    "readmit['Excess Readmission Ratio'].isnull().sum() / len(readmit['Excess Readmission Ratio'])"
   ]
  },
  {
   "cell_type": "code",
   "execution_count": 17,
   "metadata": {
    "collapsed": false
   },
   "outputs": [
    {
     "data": {
      "text/plain": [
       "(11578, 11497, 81)"
      ]
     },
     "execution_count": 17,
     "metadata": {},
     "output_type": "execute_result"
    }
   ],
   "source": [
    "noNA = readmit.dropna(subset = ['Excess Readmission Ratio'])\n",
    "len(readmit), len(noNA), readmit['Excess Readmission Ratio'].isnull().sum() #math checks out"
   ]
  },
  {
   "cell_type": "code",
   "execution_count": 18,
   "metadata": {
    "collapsed": false
   },
   "outputs": [
    {
     "data": {
      "text/plain": [
       "(array([[<matplotlib.axes._subplots.AxesSubplot object at 0x113a17940>]], dtype=object),\n",
       " array([[<matplotlib.axes._subplots.AxesSubplot object at 0x1145113c8>]], dtype=object))"
      ]
     },
     "execution_count": 18,
     "metadata": {},
     "output_type": "execute_result"
    },
    {
     "data": {
      "image/png": "[encoded data removed]",
      "text/plain": [
       "<matplotlib.figure.Figure at 0x113a17470>"
      ]
     },
     "metadata": {},
     "output_type": "display_data"
    },
    {
     "data": {
      "image/png": "[encoded data removed]",
      "text/plain": [
       "<matplotlib.figure.Figure at 0x1144d4f60>"
      ]
     },
     "metadata": {},
     "output_type": "display_data"
    }
   ],
   "source": [
    "    #check for normality -- no. of discharges needs transformation before significance test\n",
    "noNA.hist(column = 'Number of Discharges'), noNA.hist(column = 'Excess Readmission Ratio')"
   ]
  },
  {
   "cell_type": "code",
   "execution_count": 20,
   "metadata": {
    "collapsed": false
   },
   "outputs": [
    {
     "data": {
      "text/plain": [
       "(-0.097397943510793547, 1.222547377680967e-25)"
      ]
     },
     "execution_count": 20,
     "metadata": {},
     "output_type": "execute_result"
    }
   ],
   "source": [
    "pearsonr(noNA['Number of Discharges'], noNA['Excess Readmission Ratio'])"
   ]
  },
  {
   "cell_type": "markdown",
   "metadata": {
    "collapsed": true
   },
   "source": [
    "### Response to part D.\n",
    "\n",
    "For the reasons mentioned in the second part of my response to part C., it is not yet fair to argue that lower-capacity facilities should be required to demonstrate upgraded resource allocation for quality care to continue operation. \n",
    "\n",
    "For the same reasons, one should not yet push to incentivize consolidation of facilities to increase capacities, since there is not yet evidence to show that such changes will reduce readmissions. Additionally, other variables need to be considered in efforts to consolidate hospitals. For example, if three small hospitals were to consolidate, then a larger, new hospital would need to be built. For that to happen, many issues would need to be addressed, not limited to: consulting local, state, and federal governing bodies; making decisions about administration and employment; funding; and location of the new hospital. Communities would need to weigh the costs of those efforts against other approaches to reducing readmssions. "
   ]
  },
  {
   "cell_type": "markdown",
   "metadata": {},
   "source": [
    "## B. Provide support for your arguments and your own recommendations with a statistically sound analysis:\n",
    "\n",
    "- Steps 1-3 (hypothesis test and results) have been completed above.\n",
    "\n",
    "\n",
    "- Step 4: Discuss statistical significance and practical significance. Do they differ here? How does this change your recommendation to the client?\n",
    "    \n",
    "    Statistical significance and practical significance do differ here. As previously mentioned, the fact that the slope of the correlation is significant only means that the correlation is not due to chance. It does not, however, speak to causation, so the practical significance is somewhat diminished here. So before action steps are taken, I would suggest that the client look at other variables and consider more thorough analyses before concluding that certain hospitals upgrade resource allocation. \n",
    "    \n",
    "    Additionally, the hypothesis test showed a rather weak relationship between readmissions rate and number of discharges. Therefore, even though the relationship is not due to chance, it is not a strong one, which indicates that there could be more practically significant changes that would help reduce readmissions. "
   ]
  },
  {
   "cell_type": "markdown",
   "metadata": {
    "collapsed": true
   },
   "source": [
    "- Step 5, Look at the scatterplot above. What are the advantages and disadvantages of using this plot to convey information? Construct another plot that conveys the same information in a more direct manner.\n",
    "\n",
    "    One advantage of the original scatter plot is that it shows correlation fairly well. Although the trend isn't very strong, a gradual decrease in readmissions rate is noticeable as the number of discharges increases. The scatter plot also effectively shows the clustering of observations. It's helpful to see that there are far more observations where readmissions rate and discharge counts are both lower and that data become more sparse going away from these values. \n",
    "    \n",
    "    One disadvantage of the scatter plot is one that I mentioned earlier: the red and green boxes on the plot don't entirely align with the conclusions. Another shortcoming is the scale for excess readmissions (y-axis). The background information indicates that a ratio above 1 constitutes excess readmissions, but the plot's relevant axis starts at zero. Including rates below one is confusing and even misleading. "
   ]
  },
  {
   "cell_type": "code",
   "execution_count": 34,
   "metadata": {
    "collapsed": false
   },
   "outputs": [
    {
     "data": {
      "text/html": [
       "<div>\n",
       "<table border=\"1\" class=\"dataframe\">\n",
       "  <thead>\n",
       "    <tr style=\"text-align: right;\">\n",
       "      <th></th>\n",
       "      <th>Hospital Name</th>\n",
       "      <th>Provider Number</th>\n",
       "      <th>State</th>\n",
       "      <th>Measure Name</th>\n",
       "      <th>Number of Discharges</th>\n",
       "      <th>Footnote</th>\n",
       "      <th>Excess Readmission Ratio</th>\n",
       "      <th>Predicted Readmission Rate</th>\n",
       "      <th>Expected Readmission Rate</th>\n",
       "      <th>Number of Readmissions</th>\n",
       "      <th>Start Date</th>\n",
       "      <th>End Date</th>\n",
       "    </tr>\n",
       "  </thead>\n",
       "  <tbody>\n",
       "    <tr>\n",
       "      <th>6654</th>\n",
       "      <td>PLACENTIA LINDA HOSPITAL</td>\n",
       "      <td>50589</td>\n",
       "      <td>CA</td>\n",
       "      <td>READM-30-PN-HRRP</td>\n",
       "      <td>141</td>\n",
       "      <td>NaN</td>\n",
       "      <td>1.0001</td>\n",
       "      <td>15.6</td>\n",
       "      <td>15.6</td>\n",
       "      <td>22.0</td>\n",
       "      <td>07/01/2010</td>\n",
       "      <td>06/30/2013</td>\n",
       "    </tr>\n",
       "    <tr>\n",
       "      <th>6655</th>\n",
       "      <td>METHODIST HOSPITAL OF SACRAMENTO</td>\n",
       "      <td>50590</td>\n",
       "      <td>CA</td>\n",
       "      <td>READM-30-PN-HRRP</td>\n",
       "      <td>173</td>\n",
       "      <td>NaN</td>\n",
       "      <td>1.0001</td>\n",
       "      <td>16.2</td>\n",
       "      <td>16.2</td>\n",
       "      <td>28.0</td>\n",
       "      <td>07/01/2010</td>\n",
       "      <td>06/30/2013</td>\n",
       "    </tr>\n",
       "    <tr>\n",
       "      <th>6656</th>\n",
       "      <td>MULTICARE AUBURN MEDICAL CENTER</td>\n",
       "      <td>500015</td>\n",
       "      <td>WA</td>\n",
       "      <td>READM-30-COPD-HRRP</td>\n",
       "      <td>227</td>\n",
       "      <td>NaN</td>\n",
       "      <td>1.0001</td>\n",
       "      <td>19.8</td>\n",
       "      <td>19.8</td>\n",
       "      <td>45.0</td>\n",
       "      <td>07/01/2010</td>\n",
       "      <td>06/30/2013</td>\n",
       "    </tr>\n",
       "    <tr>\n",
       "      <th>6657</th>\n",
       "      <td>DANBURY HOSPITAL</td>\n",
       "      <td>70033</td>\n",
       "      <td>CT</td>\n",
       "      <td>READM-30-HF-HRRP</td>\n",
       "      <td>1082</td>\n",
       "      <td>NaN</td>\n",
       "      <td>1.0001</td>\n",
       "      <td>22.2</td>\n",
       "      <td>22.2</td>\n",
       "      <td>240.0</td>\n",
       "      <td>07/01/2010</td>\n",
       "      <td>06/30/2013</td>\n",
       "    </tr>\n",
       "    <tr>\n",
       "      <th>6658</th>\n",
       "      <td>BAY AREA MEDICAL CENTER</td>\n",
       "      <td>520113</td>\n",
       "      <td>WI</td>\n",
       "      <td>READM-30-HF-HRRP</td>\n",
       "      <td>322</td>\n",
       "      <td>NaN</td>\n",
       "      <td>1.0001</td>\n",
       "      <td>22.7</td>\n",
       "      <td>22.7</td>\n",
       "      <td>73.0</td>\n",
       "      <td>07/01/2010</td>\n",
       "      <td>06/30/2013</td>\n",
       "    </tr>\n",
       "  </tbody>\n",
       "</table>\n",
       "</div>"
      ],
      "text/plain": [
       "                         Hospital Name  Provider Number State  \\\n",
       "6654          PLACENTIA LINDA HOSPITAL            50589    CA   \n",
       "6655  METHODIST HOSPITAL OF SACRAMENTO            50590    CA   \n",
       "6656   MULTICARE AUBURN MEDICAL CENTER           500015    WA   \n",
       "6657                  DANBURY HOSPITAL            70033    CT   \n",
       "6658           BAY AREA MEDICAL CENTER           520113    WI   \n",
       "\n",
       "            Measure Name Number of Discharges  Footnote  \\\n",
       "6654    READM-30-PN-HRRP                  141       NaN   \n",
       "6655    READM-30-PN-HRRP                  173       NaN   \n",
       "6656  READM-30-COPD-HRRP                  227       NaN   \n",
       "6657    READM-30-HF-HRRP                 1082       NaN   \n",
       "6658    READM-30-HF-HRRP                  322       NaN   \n",
       "\n",
       "      Excess Readmission Ratio  Predicted Readmission Rate  \\\n",
       "6654                    1.0001                        15.6   \n",
       "6655                    1.0001                        16.2   \n",
       "6656                    1.0001                        19.8   \n",
       "6657                    1.0001                        22.2   \n",
       "6658                    1.0001                        22.7   \n",
       "\n",
       "      Expected Readmission Rate  Number of Readmissions  Start Date  \\\n",
       "6654                       15.6                    22.0  07/01/2010   \n",
       "6655                       16.2                    28.0  07/01/2010   \n",
       "6656                       19.8                    45.0  07/01/2010   \n",
       "6657                       22.2                   240.0  07/01/2010   \n",
       "6658                       22.7                    73.0  07/01/2010   \n",
       "\n",
       "        End Date  \n",
       "6654  06/30/2013  \n",
       "6655  06/30/2013  \n",
       "6656  06/30/2013  \n",
       "6657  06/30/2013  \n",
       "6658  06/30/2013  "
      ]
     },
     "execution_count": 34,
     "metadata": {},
     "output_type": "execute_result"
    }
   ],
   "source": [
    "#new, more effective plot\n",
    "\n",
    "    #reduce df to observations with ratios > 1\n",
    "ratio_1 = hospital_read_df[hospital_read_df['Excess Readmission Ratio'] > 1].sort_values(by = 'Excess Readmission Ratio', ascending = False)\n",
    "ratio_1.tail(5)"
   ]
  },
  {
   "cell_type": "code",
   "execution_count": 56,
   "metadata": {
    "collapsed": false
   },
   "outputs": [],
   "source": [
    "    #change number of discharges to numeric, check NAs\n",
    "pd.to_numeric(ratio_1['Number of Discharges'], errors = 'ignore')\n",
    "ratio_1['Number of Discharges'] = ratio_1['Number of Discharges'].replace('Not Available', np.nan)\n",
    "ratio_1['Number of Discharges'].isnull().sum() / len(ratio_1['Number of Discharges'])\n",
    "\n",
    "    #10% of observations missing -- remove them\n",
    "ratio_1['Number of Discharges'] = ratio_1['Number of Discharges'].dropna()"
   ]
  },
  {
   "cell_type": "code",
   "execution_count": 60,
   "metadata": {
    "collapsed": false
   },
   "outputs": [
    {
     "data": {
      "text/plain": [
       "<matplotlib.collections.PathCollection at 0x1193015c0>"
      ]
     },
     "execution_count": 60,
     "metadata": {},
     "output_type": "execute_result"
    },
    {
     "data": {
      "image/png": "[encoded data removed]",
      "text/plain": [
       "<matplotlib.figure.Figure at 0x119276198>"
      ]
     },
     "metadata": {},
     "output_type": "display_data"
    }
   ],
   "source": [
    "plt.scatter(ratio_1['Number of Discharges'], ratio_1['Excess Readmission Ratio'])\n",
    "\n",
    "#import seaborn as sns\n",
    "#sns.regplot(scatter = True, x = 'Number of Discharges', y = 'Excess Readmission Ratio', data = ratio_1)"
   ]
  },
  {
   "cell_type": "code",
   "execution_count": null,
   "metadata": {
    "collapsed": true
   },
   "outputs": [],
   "source": []
  }
 ],
 "metadata": {
  "anaconda-cloud": {},
  "kernelspec": {
   "display_name": "Python 3",
   "language": "python",
   "name": "python3"
  },
  "language_info": {
   "codemirror_mode": {
    "name": "ipython",
    "version": 3
   },
   "file_extension": ".py",
   "mimetype": "text/x-python",
   "name": "python",
   "nbconvert_exporter": "python",
   "pygments_lexer": "ipython3",
   "version": "3.6.0"
  }
 },
 "nbformat": 4,
 "nbformat_minor": 0
}
