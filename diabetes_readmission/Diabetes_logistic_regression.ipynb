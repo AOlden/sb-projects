{
 "cells": [
  {
   "cell_type": "markdown",
   "metadata": {},
   "source": [
    "# Logistic Regression\n",
    "\n",
    "## Overview\n",
    "\n",
    "A logistic regression is used when the outcome we are interested in is a categorical one. In this case, we are interested in whether or not a patient was readmitted within 30 days -- an outcome with two categories (yes or no). There are a few steps to take before running the regression, though.\n",
    "\n",
    "## Preparing to Map Features\n",
    "Before running a logistic regression, it is important to map categorical features into separate, binary variables for each of their categories (more information on that process soon). But first, we need to prepare a few variables for mapping. First, the number of lab procedures ranges from 1-132, but in some cases there are very few patients who had a given number of procedures. To keep a desirable ratio of new binary variables to actual observations, we'll first bin the number of procedures so that there are only 13 new variables, which will make machine-learning techniques more fruitful. \n",
    "\n",
    "There are also a few ID features (e.g., admission type ID) that are functionally categorical but have numeric values. We'll change their data types so that we can map those variables accordingly, too. "
   ]
  },
  {
   "cell_type": "code",
   "execution_count": 57,
   "metadata": {
    "collapsed": false
   },
   "outputs": [],
   "source": [
    "from sklearn.model_selection import train_test_split\n",
    "from sklearn.model_selection import GridSearchCV\n",
    "from sklearn.linear_model import LogisticRegression\n",
    "from sklearn.metrics import *\n",
    "\n",
    "import pandas as pd\n",
    "import numpy as np\n",
    "import matplotlib as plt\n",
    "%matplotlib inline"
   ]
  },
  {
   "cell_type": "code",
   "execution_count": 3,
   "metadata": {
    "collapsed": false
   },
   "outputs": [
    {
     "data": {
      "text/html": [
       "<div>\n",
       "<table border=\"1\" class=\"dataframe\">\n",
       "  <thead>\n",
       "    <tr style=\"text-align: right;\">\n",
       "      <th></th>\n",
       "      <th>race</th>\n",
       "      <th>gender</th>\n",
       "      <th>age</th>\n",
       "      <th>admission_type_id</th>\n",
       "      <th>discharge_disposition_id</th>\n",
       "      <th>admission_source_id</th>\n",
       "      <th>days_in_hospital</th>\n",
       "      <th>num_lab_procedures</th>\n",
       "      <th>num_procedures</th>\n",
       "      <th>num_medications</th>\n",
       "      <th>...</th>\n",
       "      <th>glimepiride_pioglitazone</th>\n",
       "      <th>metformin_rosiglitazone</th>\n",
       "      <th>metformin_pioglitazone</th>\n",
       "      <th>change</th>\n",
       "      <th>diabetesMed</th>\n",
       "      <th>readmit30</th>\n",
       "      <th>num_visits</th>\n",
       "      <th>first_diag</th>\n",
       "      <th>second_diag</th>\n",
       "      <th>third_diag</th>\n",
       "    </tr>\n",
       "  </thead>\n",
       "  <tbody>\n",
       "    <tr>\n",
       "      <th>0</th>\n",
       "      <td>Caucasian</td>\n",
       "      <td>Female</td>\n",
       "      <td>[50-60)</td>\n",
       "      <td>2</td>\n",
       "      <td>1</td>\n",
       "      <td>1</td>\n",
       "      <td>8</td>\n",
       "      <td>77</td>\n",
       "      <td>6</td>\n",
       "      <td>33</td>\n",
       "      <td>...</td>\n",
       "      <td>No</td>\n",
       "      <td>No</td>\n",
       "      <td>No</td>\n",
       "      <td>Ch</td>\n",
       "      <td>Yes</td>\n",
       "      <td>1</td>\n",
       "      <td>2</td>\n",
       "      <td>circulatory</td>\n",
       "      <td>injury</td>\n",
       "      <td>digestive</td>\n",
       "    </tr>\n",
       "    <tr>\n",
       "      <th>1</th>\n",
       "      <td>Caucasian</td>\n",
       "      <td>Female</td>\n",
       "      <td>[50-60)</td>\n",
       "      <td>3</td>\n",
       "      <td>1</td>\n",
       "      <td>1</td>\n",
       "      <td>2</td>\n",
       "      <td>49</td>\n",
       "      <td>1</td>\n",
       "      <td>11</td>\n",
       "      <td>...</td>\n",
       "      <td>No</td>\n",
       "      <td>No</td>\n",
       "      <td>No</td>\n",
       "      <td>No</td>\n",
       "      <td>No</td>\n",
       "      <td>0</td>\n",
       "      <td>1</td>\n",
       "      <td>musculoskeletal</td>\n",
       "      <td>other</td>\n",
       "      <td>diabetes</td>\n",
       "    </tr>\n",
       "    <tr>\n",
       "      <th>2</th>\n",
       "      <td>Caucasian</td>\n",
       "      <td>Female</td>\n",
       "      <td>[80-90)</td>\n",
       "      <td>1</td>\n",
       "      <td>3</td>\n",
       "      <td>7</td>\n",
       "      <td>4</td>\n",
       "      <td>68</td>\n",
       "      <td>2</td>\n",
       "      <td>23</td>\n",
       "      <td>...</td>\n",
       "      <td>No</td>\n",
       "      <td>No</td>\n",
       "      <td>No</td>\n",
       "      <td>No</td>\n",
       "      <td>Yes</td>\n",
       "      <td>0</td>\n",
       "      <td>1</td>\n",
       "      <td>injury</td>\n",
       "      <td>respiratory</td>\n",
       "      <td>other</td>\n",
       "    </tr>\n",
       "    <tr>\n",
       "      <th>3</th>\n",
       "      <td>Caucasian</td>\n",
       "      <td>Female</td>\n",
       "      <td>[80-90)</td>\n",
       "      <td>1</td>\n",
       "      <td>1</td>\n",
       "      <td>7</td>\n",
       "      <td>3</td>\n",
       "      <td>46</td>\n",
       "      <td>0</td>\n",
       "      <td>20</td>\n",
       "      <td>...</td>\n",
       "      <td>No</td>\n",
       "      <td>No</td>\n",
       "      <td>No</td>\n",
       "      <td>Ch</td>\n",
       "      <td>Yes</td>\n",
       "      <td>0</td>\n",
       "      <td>1</td>\n",
       "      <td>neoplasms</td>\n",
       "      <td>circulatory</td>\n",
       "      <td>circulatory</td>\n",
       "    </tr>\n",
       "    <tr>\n",
       "      <th>4</th>\n",
       "      <td>AfricanAmerican</td>\n",
       "      <td>Female</td>\n",
       "      <td>[30-40)</td>\n",
       "      <td>1</td>\n",
       "      <td>1</td>\n",
       "      <td>7</td>\n",
       "      <td>5</td>\n",
       "      <td>49</td>\n",
       "      <td>0</td>\n",
       "      <td>5</td>\n",
       "      <td>...</td>\n",
       "      <td>No</td>\n",
       "      <td>No</td>\n",
       "      <td>No</td>\n",
       "      <td>No</td>\n",
       "      <td>Yes</td>\n",
       "      <td>0</td>\n",
       "      <td>1</td>\n",
       "      <td>genitourinary</td>\n",
       "      <td>neoplasms</td>\n",
       "      <td>diabetes</td>\n",
       "    </tr>\n",
       "  </tbody>\n",
       "</table>\n",
       "<p>5 rows × 46 columns</p>\n",
       "</div>"
      ],
      "text/plain": [
       "              race  gender      age  admission_type_id  \\\n",
       "0        Caucasian  Female  [50-60)                  2   \n",
       "1        Caucasian  Female  [50-60)                  3   \n",
       "2        Caucasian  Female  [80-90)                  1   \n",
       "3        Caucasian  Female  [80-90)                  1   \n",
       "4  AfricanAmerican  Female  [30-40)                  1   \n",
       "\n",
       "   discharge_disposition_id  admission_source_id  days_in_hospital  \\\n",
       "0                         1                    1                 8   \n",
       "1                         1                    1                 2   \n",
       "2                         3                    7                 4   \n",
       "3                         1                    7                 3   \n",
       "4                         1                    7                 5   \n",
       "\n",
       "   num_lab_procedures  num_procedures  num_medications     ...       \\\n",
       "0                  77               6               33     ...        \n",
       "1                  49               1               11     ...        \n",
       "2                  68               2               23     ...        \n",
       "3                  46               0               20     ...        \n",
       "4                  49               0                5     ...        \n",
       "\n",
       "   glimepiride_pioglitazone  metformin_rosiglitazone  metformin_pioglitazone  \\\n",
       "0                        No                       No                      No   \n",
       "1                        No                       No                      No   \n",
       "2                        No                       No                      No   \n",
       "3                        No                       No                      No   \n",
       "4                        No                       No                      No   \n",
       "\n",
       "   change diabetesMed readmit30 num_visits       first_diag  second_diag  \\\n",
       "0      Ch         Yes         1          2      circulatory       injury   \n",
       "1      No          No         0          1  musculoskeletal        other   \n",
       "2      No         Yes         0          1           injury  respiratory   \n",
       "3      Ch         Yes         0          1        neoplasms  circulatory   \n",
       "4      No         Yes         0          1    genitourinary    neoplasms   \n",
       "\n",
       "    third_diag  \n",
       "0    digestive  \n",
       "1     diabetes  \n",
       "2        other  \n",
       "3  circulatory  \n",
       "4     diabetes  \n",
       "\n",
       "[5 rows x 46 columns]"
      ]
     },
     "execution_count": 3,
     "metadata": {},
     "output_type": "execute_result"
    }
   ],
   "source": [
    "#read in wrangled data set \n",
    "readmit = pd.read_csv('readmit_for_map.csv')\n",
    "readmit.head()"
   ]
  },
  {
   "cell_type": "code",
   "execution_count": 4,
   "metadata": {
    "collapsed": true
   },
   "outputs": [],
   "source": [
    "# bin mumber of lab procedures variable\n",
    " # write function\n",
    "def bin_labs(col):\n",
    "    if (col >= 1) & (col <= 10):\n",
    "        return '[1-10]'\n",
    "    if (col >= 11) & (col <= 20):\n",
    "        return '[11-20]'\n",
    "    if (col >= 21) & (col <= 30):\n",
    "        return '[21-30]'\n",
    "    if (col >= 31) & (col <= 40):\n",
    "        return '[31-40]'\n",
    "    if (col >= 41) & (col <= 50):\n",
    "        return '[41-50]'\n",
    "    if (col >= 51) & (col <= 60):\n",
    "        return '[51-60]'\n",
    "    if (col >= 61) & (col <= 70):\n",
    "        return '[61-70]'\n",
    "    if (col >= 71) & (col <= 80):\n",
    "        return '[71-80]'\n",
    "    if (col >= 81) & (col <= 90):\n",
    "        return '[81-90]'\n",
    "    if (col >= 91) & (col <= 100):\n",
    "        return '[91-100]'\n",
    "    if (col >= 101) & (col <= 110):\n",
    "        return '[101-110]'\n",
    "    if (col >= 111) & (col <= 120):\n",
    "        return '[111-120]'\n",
    "    else:\n",
    "        return '[121-132]' "
   ]
  },
  {
   "cell_type": "code",
   "execution_count": 5,
   "metadata": {
    "collapsed": false
   },
   "outputs": [
    {
     "data": {
      "text/html": [
       "<div>\n",
       "<table border=\"1\" class=\"dataframe\">\n",
       "  <thead>\n",
       "    <tr style=\"text-align: right;\">\n",
       "      <th></th>\n",
       "      <th>race</th>\n",
       "      <th>gender</th>\n",
       "      <th>age</th>\n",
       "      <th>admission_type_id</th>\n",
       "      <th>discharge_disposition_id</th>\n",
       "      <th>admission_source_id</th>\n",
       "      <th>days_in_hospital</th>\n",
       "      <th>num_lab_procedures</th>\n",
       "      <th>num_procedures</th>\n",
       "      <th>num_medications</th>\n",
       "      <th>...</th>\n",
       "      <th>metformin_rosiglitazone</th>\n",
       "      <th>metformin_pioglitazone</th>\n",
       "      <th>change</th>\n",
       "      <th>diabetesMed</th>\n",
       "      <th>readmit30</th>\n",
       "      <th>num_visits</th>\n",
       "      <th>first_diag</th>\n",
       "      <th>second_diag</th>\n",
       "      <th>third_diag</th>\n",
       "      <th>num_lab_procs</th>\n",
       "    </tr>\n",
       "  </thead>\n",
       "  <tbody>\n",
       "    <tr>\n",
       "      <th>0</th>\n",
       "      <td>Caucasian</td>\n",
       "      <td>Female</td>\n",
       "      <td>[50-60)</td>\n",
       "      <td>2</td>\n",
       "      <td>1</td>\n",
       "      <td>1</td>\n",
       "      <td>8</td>\n",
       "      <td>77</td>\n",
       "      <td>6</td>\n",
       "      <td>33</td>\n",
       "      <td>...</td>\n",
       "      <td>No</td>\n",
       "      <td>No</td>\n",
       "      <td>Ch</td>\n",
       "      <td>Yes</td>\n",
       "      <td>1</td>\n",
       "      <td>2</td>\n",
       "      <td>circulatory</td>\n",
       "      <td>injury</td>\n",
       "      <td>digestive</td>\n",
       "      <td>[71-80]</td>\n",
       "    </tr>\n",
       "    <tr>\n",
       "      <th>1</th>\n",
       "      <td>Caucasian</td>\n",
       "      <td>Female</td>\n",
       "      <td>[50-60)</td>\n",
       "      <td>3</td>\n",
       "      <td>1</td>\n",
       "      <td>1</td>\n",
       "      <td>2</td>\n",
       "      <td>49</td>\n",
       "      <td>1</td>\n",
       "      <td>11</td>\n",
       "      <td>...</td>\n",
       "      <td>No</td>\n",
       "      <td>No</td>\n",
       "      <td>No</td>\n",
       "      <td>No</td>\n",
       "      <td>0</td>\n",
       "      <td>1</td>\n",
       "      <td>musculoskeletal</td>\n",
       "      <td>other</td>\n",
       "      <td>diabetes</td>\n",
       "      <td>[41-50]</td>\n",
       "    </tr>\n",
       "    <tr>\n",
       "      <th>2</th>\n",
       "      <td>Caucasian</td>\n",
       "      <td>Female</td>\n",
       "      <td>[80-90)</td>\n",
       "      <td>1</td>\n",
       "      <td>3</td>\n",
       "      <td>7</td>\n",
       "      <td>4</td>\n",
       "      <td>68</td>\n",
       "      <td>2</td>\n",
       "      <td>23</td>\n",
       "      <td>...</td>\n",
       "      <td>No</td>\n",
       "      <td>No</td>\n",
       "      <td>No</td>\n",
       "      <td>Yes</td>\n",
       "      <td>0</td>\n",
       "      <td>1</td>\n",
       "      <td>injury</td>\n",
       "      <td>respiratory</td>\n",
       "      <td>other</td>\n",
       "      <td>[61-70]</td>\n",
       "    </tr>\n",
       "    <tr>\n",
       "      <th>3</th>\n",
       "      <td>Caucasian</td>\n",
       "      <td>Female</td>\n",
       "      <td>[80-90)</td>\n",
       "      <td>1</td>\n",
       "      <td>1</td>\n",
       "      <td>7</td>\n",
       "      <td>3</td>\n",
       "      <td>46</td>\n",
       "      <td>0</td>\n",
       "      <td>20</td>\n",
       "      <td>...</td>\n",
       "      <td>No</td>\n",
       "      <td>No</td>\n",
       "      <td>Ch</td>\n",
       "      <td>Yes</td>\n",
       "      <td>0</td>\n",
       "      <td>1</td>\n",
       "      <td>neoplasms</td>\n",
       "      <td>circulatory</td>\n",
       "      <td>circulatory</td>\n",
       "      <td>[41-50]</td>\n",
       "    </tr>\n",
       "    <tr>\n",
       "      <th>4</th>\n",
       "      <td>AfricanAmerican</td>\n",
       "      <td>Female</td>\n",
       "      <td>[30-40)</td>\n",
       "      <td>1</td>\n",
       "      <td>1</td>\n",
       "      <td>7</td>\n",
       "      <td>5</td>\n",
       "      <td>49</td>\n",
       "      <td>0</td>\n",
       "      <td>5</td>\n",
       "      <td>...</td>\n",
       "      <td>No</td>\n",
       "      <td>No</td>\n",
       "      <td>No</td>\n",
       "      <td>Yes</td>\n",
       "      <td>0</td>\n",
       "      <td>1</td>\n",
       "      <td>genitourinary</td>\n",
       "      <td>neoplasms</td>\n",
       "      <td>diabetes</td>\n",
       "      <td>[41-50]</td>\n",
       "    </tr>\n",
       "  </tbody>\n",
       "</table>\n",
       "<p>5 rows × 47 columns</p>\n",
       "</div>"
      ],
      "text/plain": [
       "              race  gender      age  admission_type_id  \\\n",
       "0        Caucasian  Female  [50-60)                  2   \n",
       "1        Caucasian  Female  [50-60)                  3   \n",
       "2        Caucasian  Female  [80-90)                  1   \n",
       "3        Caucasian  Female  [80-90)                  1   \n",
       "4  AfricanAmerican  Female  [30-40)                  1   \n",
       "\n",
       "   discharge_disposition_id  admission_source_id  days_in_hospital  \\\n",
       "0                         1                    1                 8   \n",
       "1                         1                    1                 2   \n",
       "2                         3                    7                 4   \n",
       "3                         1                    7                 3   \n",
       "4                         1                    7                 5   \n",
       "\n",
       "   num_lab_procedures  num_procedures  num_medications      ...       \\\n",
       "0                  77               6               33      ...        \n",
       "1                  49               1               11      ...        \n",
       "2                  68               2               23      ...        \n",
       "3                  46               0               20      ...        \n",
       "4                  49               0                5      ...        \n",
       "\n",
       "   metformin_rosiglitazone  metformin_pioglitazone  change  diabetesMed  \\\n",
       "0                       No                      No      Ch          Yes   \n",
       "1                       No                      No      No           No   \n",
       "2                       No                      No      No          Yes   \n",
       "3                       No                      No      Ch          Yes   \n",
       "4                       No                      No      No          Yes   \n",
       "\n",
       "  readmit30 num_visits       first_diag  second_diag   third_diag  \\\n",
       "0         1          2      circulatory       injury    digestive   \n",
       "1         0          1  musculoskeletal        other     diabetes   \n",
       "2         0          1           injury  respiratory        other   \n",
       "3         0          1        neoplasms  circulatory  circulatory   \n",
       "4         0          1    genitourinary    neoplasms     diabetes   \n",
       "\n",
       "  num_lab_procs  \n",
       "0       [71-80]  \n",
       "1       [41-50]  \n",
       "2       [61-70]  \n",
       "3       [41-50]  \n",
       "4       [41-50]  \n",
       "\n",
       "[5 rows x 47 columns]"
      ]
     },
     "execution_count": 5,
     "metadata": {},
     "output_type": "execute_result"
    }
   ],
   "source": [
    " # apply function to relevant variable, check df\n",
    "readmit['num_lab_procs'] = readmit.num_lab_procedures.apply(lambda col: bin_labs(col))\n",
    "readmit.head()"
   ]
  },
  {
   "cell_type": "code",
   "execution_count": 6,
   "metadata": {
    "collapsed": true
   },
   "outputs": [],
   "source": [
    " # drop old lab-procedures variable\n",
    "readmit_procs = readmit.drop(['num_lab_procedures'], axis = 1)"
   ]
  },
  {
   "cell_type": "code",
   "execution_count": 7,
   "metadata": {
    "collapsed": false
   },
   "outputs": [],
   "source": [
    "# change categorical variables from numeric to object where necessary\n",
    "cols = readmit_procs[['admission_type_id', 'discharge_disposition_id', 'admission_source_id']] \n",
    "readmit_procs[['admission_type_id', 'discharge_disposition_id', 'admission_source_id']] = cols.astype(object)"
   ]
  },
  {
   "cell_type": "markdown",
   "metadata": {},
   "source": [
    "## Mapping the Features\n",
    "\n",
    "Before performing logistic regression, we need to map variables with text values to series of binary features. For example, suppose there are three admission types: A, B, and C. In the original admission-type column in the data set, each patient encounter would have A, B, or C. But machine-learning algorithms read binaries (and numerical categories, where appropriate) instead of letters and words. The encoding process creates two new columns: A and B. A patient encounter will have 1 in A and 0 in B to indicate admission type A. Converse encoding indicates type B, and a 0 in both columns indicates type C. This process is called one-hot encoding, and it will be helpful in other types of analysis like tree-based analysis as well. "
   ]
  },
  {
   "cell_type": "code",
   "execution_count": 8,
   "metadata": {
    "collapsed": false
   },
   "outputs": [
    {
     "name": "stdout",
     "output_type": "stream",
     "text": [
      "[dtype('O') dtype('int64')]\n"
     ]
    }
   ],
   "source": [
    "# check variable types -- only integer and object\n",
    "print(readmit_procs.dtypes.unique())"
   ]
  },
  {
   "cell_type": "code",
   "execution_count": 9,
   "metadata": {
    "collapsed": false
   },
   "outputs": [
    {
     "data": {
      "text/html": [
       "<div>\n",
       "<table border=\"1\" class=\"dataframe\">\n",
       "  <thead>\n",
       "    <tr style=\"text-align: right;\">\n",
       "      <th></th>\n",
       "      <th>days_in_hospital</th>\n",
       "      <th>num_procedures</th>\n",
       "      <th>num_medications</th>\n",
       "      <th>number_outpatient</th>\n",
       "      <th>number_emergency</th>\n",
       "      <th>number_inpatient</th>\n",
       "      <th>number_diagnoses</th>\n",
       "      <th>readmit30</th>\n",
       "      <th>num_visits</th>\n",
       "      <th>race_Asian</th>\n",
       "      <th>...</th>\n",
       "      <th>num_lab_procs_[111-120]</th>\n",
       "      <th>num_lab_procs_[121-132]</th>\n",
       "      <th>num_lab_procs_[21-30]</th>\n",
       "      <th>num_lab_procs_[31-40]</th>\n",
       "      <th>num_lab_procs_[41-50]</th>\n",
       "      <th>num_lab_procs_[51-60]</th>\n",
       "      <th>num_lab_procs_[61-70]</th>\n",
       "      <th>num_lab_procs_[71-80]</th>\n",
       "      <th>num_lab_procs_[81-90]</th>\n",
       "      <th>num_lab_procs_[91-100]</th>\n",
       "    </tr>\n",
       "  </thead>\n",
       "  <tbody>\n",
       "    <tr>\n",
       "      <th>0</th>\n",
       "      <td>8</td>\n",
       "      <td>6</td>\n",
       "      <td>33</td>\n",
       "      <td>0</td>\n",
       "      <td>0</td>\n",
       "      <td>0</td>\n",
       "      <td>8</td>\n",
       "      <td>1</td>\n",
       "      <td>2</td>\n",
       "      <td>0</td>\n",
       "      <td>...</td>\n",
       "      <td>0</td>\n",
       "      <td>0</td>\n",
       "      <td>0</td>\n",
       "      <td>0</td>\n",
       "      <td>0</td>\n",
       "      <td>0</td>\n",
       "      <td>0</td>\n",
       "      <td>1</td>\n",
       "      <td>0</td>\n",
       "      <td>0</td>\n",
       "    </tr>\n",
       "    <tr>\n",
       "      <th>1</th>\n",
       "      <td>2</td>\n",
       "      <td>1</td>\n",
       "      <td>11</td>\n",
       "      <td>0</td>\n",
       "      <td>0</td>\n",
       "      <td>0</td>\n",
       "      <td>3</td>\n",
       "      <td>0</td>\n",
       "      <td>1</td>\n",
       "      <td>0</td>\n",
       "      <td>...</td>\n",
       "      <td>0</td>\n",
       "      <td>0</td>\n",
       "      <td>0</td>\n",
       "      <td>0</td>\n",
       "      <td>1</td>\n",
       "      <td>0</td>\n",
       "      <td>0</td>\n",
       "      <td>0</td>\n",
       "      <td>0</td>\n",
       "      <td>0</td>\n",
       "    </tr>\n",
       "    <tr>\n",
       "      <th>2</th>\n",
       "      <td>4</td>\n",
       "      <td>2</td>\n",
       "      <td>23</td>\n",
       "      <td>0</td>\n",
       "      <td>0</td>\n",
       "      <td>0</td>\n",
       "      <td>9</td>\n",
       "      <td>0</td>\n",
       "      <td>1</td>\n",
       "      <td>0</td>\n",
       "      <td>...</td>\n",
       "      <td>0</td>\n",
       "      <td>0</td>\n",
       "      <td>0</td>\n",
       "      <td>0</td>\n",
       "      <td>0</td>\n",
       "      <td>0</td>\n",
       "      <td>1</td>\n",
       "      <td>0</td>\n",
       "      <td>0</td>\n",
       "      <td>0</td>\n",
       "    </tr>\n",
       "    <tr>\n",
       "      <th>3</th>\n",
       "      <td>3</td>\n",
       "      <td>0</td>\n",
       "      <td>20</td>\n",
       "      <td>0</td>\n",
       "      <td>0</td>\n",
       "      <td>0</td>\n",
       "      <td>9</td>\n",
       "      <td>0</td>\n",
       "      <td>1</td>\n",
       "      <td>0</td>\n",
       "      <td>...</td>\n",
       "      <td>0</td>\n",
       "      <td>0</td>\n",
       "      <td>0</td>\n",
       "      <td>0</td>\n",
       "      <td>1</td>\n",
       "      <td>0</td>\n",
       "      <td>0</td>\n",
       "      <td>0</td>\n",
       "      <td>0</td>\n",
       "      <td>0</td>\n",
       "    </tr>\n",
       "    <tr>\n",
       "      <th>4</th>\n",
       "      <td>5</td>\n",
       "      <td>0</td>\n",
       "      <td>5</td>\n",
       "      <td>0</td>\n",
       "      <td>0</td>\n",
       "      <td>0</td>\n",
       "      <td>3</td>\n",
       "      <td>0</td>\n",
       "      <td>1</td>\n",
       "      <td>0</td>\n",
       "      <td>...</td>\n",
       "      <td>0</td>\n",
       "      <td>0</td>\n",
       "      <td>0</td>\n",
       "      <td>0</td>\n",
       "      <td>1</td>\n",
       "      <td>0</td>\n",
       "      <td>0</td>\n",
       "      <td>0</td>\n",
       "      <td>0</td>\n",
       "      <td>0</td>\n",
       "    </tr>\n",
       "  </tbody>\n",
       "</table>\n",
       "<p>5 rows × 155 columns</p>\n",
       "</div>"
      ],
      "text/plain": [
       "   days_in_hospital  num_procedures  num_medications  number_outpatient  \\\n",
       "0                 8               6               33                  0   \n",
       "1                 2               1               11                  0   \n",
       "2                 4               2               23                  0   \n",
       "3                 3               0               20                  0   \n",
       "4                 5               0                5                  0   \n",
       "\n",
       "   number_emergency  number_inpatient  number_diagnoses  readmit30  \\\n",
       "0                 0                 0                 8          1   \n",
       "1                 0                 0                 3          0   \n",
       "2                 0                 0                 9          0   \n",
       "3                 0                 0                 9          0   \n",
       "4                 0                 0                 3          0   \n",
       "\n",
       "   num_visits  race_Asian           ...            num_lab_procs_[111-120]  \\\n",
       "0           2           0           ...                                  0   \n",
       "1           1           0           ...                                  0   \n",
       "2           1           0           ...                                  0   \n",
       "3           1           0           ...                                  0   \n",
       "4           1           0           ...                                  0   \n",
       "\n",
       "   num_lab_procs_[121-132]  num_lab_procs_[21-30]  num_lab_procs_[31-40]  \\\n",
       "0                        0                      0                      0   \n",
       "1                        0                      0                      0   \n",
       "2                        0                      0                      0   \n",
       "3                        0                      0                      0   \n",
       "4                        0                      0                      0   \n",
       "\n",
       "   num_lab_procs_[41-50]  num_lab_procs_[51-60]  num_lab_procs_[61-70]  \\\n",
       "0                      0                      0                      0   \n",
       "1                      1                      0                      0   \n",
       "2                      0                      0                      1   \n",
       "3                      1                      0                      0   \n",
       "4                      1                      0                      0   \n",
       "\n",
       "   num_lab_procs_[71-80]  num_lab_procs_[81-90]  num_lab_procs_[91-100]  \n",
       "0                      1                      0                       0  \n",
       "1                      0                      0                       0  \n",
       "2                      0                      0                       0  \n",
       "3                      0                      0                       0  \n",
       "4                      0                      0                       0  \n",
       "\n",
       "[5 rows x 155 columns]"
      ]
     },
     "execution_count": 9,
     "metadata": {},
     "output_type": "execute_result"
    }
   ],
   "source": [
    "# one-hot encoding for each object-column value\n",
    " # columns setting converts object and category dtypes; dropfirst creates n-1 dummies for n categories of a variable\n",
    "one_hot = pd.get_dummies(readmit_procs, columns = None, drop_first = True) \n",
    "one_hot.head()"
   ]
  },
  {
   "cell_type": "code",
   "execution_count": null,
   "metadata": {
    "collapsed": true
   },
   "outputs": [],
   "source": [
    "# write one-hot-encoded dataframe to csv for use in other analyses\n",
    "one_hot.to_csv('diabetes_readmission_onehot.csv')"
   ]
  },
  {
   "cell_type": "markdown",
   "metadata": {},
   "source": [
    "## Running the Logistic Regression\n",
    "\n",
    "Now we are ready to perform the regression. There a few things to note as this process happens. The first step is to split the data into a training and a test set. The training data is used to build the logistic model; it is the data that the model \"learns\" on. Once the model is constructed from the training data, we'll run it on the test data to make sure it generalizes -- or works on other data sets -- well. The test data was set aside before building the model precisely for this purpose. "
   ]
  },
  {
   "cell_type": "code",
   "execution_count": 10,
   "metadata": {
    "collapsed": false
   },
   "outputs": [],
   "source": [
    "# capture independent variables in list\n",
    "features = list(one_hot)\n",
    "features.remove('readmit30')"
   ]
  },
  {
   "cell_type": "code",
   "execution_count": 29,
   "metadata": {
    "collapsed": false
   },
   "outputs": [],
   "source": [
    "# split the data into a training and test set\n",
    "Xtrain, Xtest, Ytrain, Ytest = train_test_split(one_hot[features].values, \n",
    "                                              (one_hot.readmit30 == 1).values, test_size = .2, random_state = 7)"
   ]
  },
  {
   "cell_type": "markdown",
   "metadata": {},
   "source": [
    "Now that the data set is split, we can set up the regression and run it. There are a few important things happening in this process. First is the creation of a grid of possible values for C, which is a tuning parameter used when data cannot be separated into two categories with a clean, straight line in the x-y plane. When a best attempt at such a line is drawn, some observations that belong to one category might still lie on the \"wrong\" side of the separating line. To account for this dynamic, we introduce a tuning parameter into the math of logistic regression. This step ideally creates a value of C that is neither too high nor too low. The former could create a model that is too biased toward the training data to be generalizable, and the latter could create a model with too much variance to have much predictive value (kind of like a jack of all trades being a master of none). \n",
    "\n",
    "The second tool at hand is the GridSearchCV function. The grid search allows us to perform an exhaustive search for the best C in just one line of code. The process also uses cross validation and an l2 penalty, which both help manage variance and in turn keep the model from becoming too general to the point that its predictive value is weakened."
   ]
  },
  {
   "cell_type": "code",
   "execution_count": 27,
   "metadata": {
    "collapsed": false
   },
   "outputs": [
    {
     "name": "stdout",
     "output_type": "stream",
     "text": [
      "{'C': 0.001} 0.907601683029\n"
     ]
    }
   ],
   "source": [
    "# create grid, run grid search w/ logistic regression, find best C and its accuracy score\n",
    "\n",
    "C_grid = {'C': [0.001, 0.1, 1, 10, 100]} #dictionary w/ C as key and possible values\n",
    "clf_grid = GridSearchCV(LogisticRegression(penalty='l2'), C_grid, cv = 5, scoring = 'accuracy') #specs of grid search\n",
    "clf_grid.fit(Xtrain, Ytrain) #fit model on training data\n",
    "\n",
    "print(clf_grid.best_params_, clf_grid.best_score_) #output best C and best accuracy score\n",
    "\n",
    "#clf_grid.cv_results_ #more thorough analysis of grid search results by C"
   ]
  },
  {
   "cell_type": "code",
   "execution_count": 30,
   "metadata": {
    "collapsed": false
   },
   "outputs": [
    {
     "data": {
      "text/plain": [
       "0.90866930959682846"
      ]
     },
     "execution_count": 30,
     "metadata": {},
     "output_type": "execute_result"
    }
   ],
   "source": [
    "# check performance on test set\n",
    "clf_grid_test = LogisticRegression(C = clf_grid.best_params_['C'])\n",
    "clf_grid_test.fit(Xtest, Ytest)\n",
    "accuracy_score(clf_grid_test.predict(Xtest), Ytest)"
   ]
  },
  {
   "cell_type": "markdown",
   "metadata": {},
   "source": [
    "The chosen model (with the best C and accuracy score) has an accuracy score of about .908, which means that 90.8% of the model's predictions made about readmission within 30 days were correct. This number seems pretty good, and while accuracy can be an okay starting point to assess model performance, it isn't necessarily the best one for this case. Accuracy score is usually better when the number of observations is equal for each category within a feature, so let's look at another performance metric -- the area under an ROC curve -- next. \n",
    "\n",
    "An ROC curve reflects how well a model differentiates positive (readmission within 30 days, in our case) and negative outcomes. A model making all predictions correctly has an area of 1. A model that performs no better than random guessing has an area of 0.5. As we'll see in a moment, the curve itself plots the true positive rate against the false positive rate to help observers gauge performance."
   ]
  },
  {
   "cell_type": "code",
   "execution_count": 94,
   "metadata": {
    "collapsed": false
   },
   "outputs": [
    {
     "name": "stdout",
     "output_type": "stream",
     "text": [
      "{'C': 0.1} 0.755954347632\n"
     ]
    }
   ],
   "source": [
    "# logistic regression with area under ROC curve as metric\n",
    "C_grid = {'C': [0.001, 0.1, 1, 10, 100]} \n",
    "clf_grid_ROC = GridSearchCV(LogisticRegression(penalty='l2'), C_grid, cv = 5, scoring = 'roc_auc')\n",
    "clf_grid_ROC.fit(Xtrain, Ytrain) \n",
    "print(clf_grid_ROC.best_params_, clf_grid_ROC.best_score_) "
   ]
  },
  {
   "cell_type": "code",
   "execution_count": 97,
   "metadata": {
    "collapsed": false
   },
   "outputs": [
    {
     "data": {
      "text/plain": [
       "0.78286555218587695"
      ]
     },
     "execution_count": 97,
     "metadata": {},
     "output_type": "execute_result"
    }
   ],
   "source": [
    "# check ROC performance on test set\n",
    "clf_grid_ROC_test = LogisticRegression(C = clf_grid_ROC.best_params_['C'])\n",
    "clf_grid_ROC_test.fit(Xtest, Ytest)\n",
    "\n",
    "probs = clf_grid_ROC_test.predict_proba(Xtest)\n",
    "preds = probs[:,1]\n",
    "roc_auc_score(Ytest, preds)"
   ]
  },
  {
   "cell_type": "code",
   "execution_count": 98,
   "metadata": {
    "collapsed": false
   },
   "outputs": [
    {
     "data": {
      "image/png": "[encoded data removed]",
      "text/plain": [
       "<matplotlib.figure.Figure at 0x119732eb8>"
      ]
     },
     "metadata": {},
     "output_type": "display_data"
    }
   ],
   "source": [
    "# plot ROC curve\n",
    "\n",
    "fpr, tpr, threshold = roc_curve(Ytest, preds) #find true- and false-positive rates for relevant decision thresholds\n",
    "roc_auc = auc(fpr, tpr) #compute area under ROC curve using trapezoidal rule (not a binary classification here)\n",
    "\n",
    "plt.title('Receiver Operating Characteristic')\n",
    "plt.plot(fpr, tpr, 'blue', label = 'AUC = %0.4f' % roc_auc) #create line with AUC value for test data\n",
    "plt.plot([0, 1], [0, 1],'r--', label = 'AUC = .5') #create line with AUC=.5 for comparison\n",
    "plt.legend(loc = 'lower right')\n",
    "plt.xlim([0, 1])\n",
    "plt.ylim([0, 1])\n",
    "plt.ylabel('True Positive Rate')\n",
    "plt.xlabel('False Positive Rate')\n",
    "plt.show() "
   ]
  },
  {
   "cell_type": "markdown",
   "metadata": {},
   "source": [
    "A (theoretically) perfect ROC curve comprises a vertical line along the y-axis joined with a horizontal line at y = 1. The closer our curve is to that ideal one, the better it is. So our curve is looking pretty good. Another line of comparison is the dotted red line, which represents at 50% success rate for binary predictions. If our model's line falls to this point, it is no better than randomly guessing would be. \n",
    "\n",
    "Finally, some users prefer to use another metric called precision-recall instead of ROC curves. Precision-recall analysis reports various percentages for how well a model does at classifying observations accurately for an outcome. I'll talk about this more once we produce the numbers in a classification report below. "
   ]
  },
  {
   "cell_type": "code",
   "execution_count": 100,
   "metadata": {
    "collapsed": false
   },
   "outputs": [
    {
     "name": "stdout",
     "output_type": "stream",
     "text": [
      "             precision    recall  f1-score   support\n",
      "\n",
      "      False       0.91      0.99      0.95     12161\n",
      "       True       0.34      0.03      0.05      1208\n",
      "\n",
      "avg / total       0.86      0.91      0.87     13369\n",
      "\n"
     ]
    }
   ],
   "source": [
    "# classification report\n",
    "\n",
    "predicted = clf_grid_ROC_test.predict(Xtest) #capture predictions for Y based on data in X\n",
    "report = classification_report(Ytest, predicted) #classify actual Y values in test data vs. those predicted in X\n",
    "print(report)"
   ]
  },
  {
   "cell_type": "markdown",
   "metadata": {},
   "source": [
    "Precision reflects the percentage of correct classifications among all observations put into one class (e.g., not readmitted within 30 days) by the model. "
   ]
  }
 ],
 "metadata": {
  "kernelspec": {
   "display_name": "Python 3",
   "language": "python",
   "name": "python3"
  }
 },
 "nbformat": 4,
 "nbformat_minor": 2
}
