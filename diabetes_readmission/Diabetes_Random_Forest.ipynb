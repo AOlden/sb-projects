{
 "cells": [
  {
   "cell_type": "markdown",
   "metadata": {
    "collapsed": true
   },
   "source": [
    "# Decision Trees (Random Forest)\n",
    "\n",
    "Decision trees work kind of like a game of 20 Questions. They consider each variable in a dataset and finding its \"split point.\" Variables with more predictive power will be used earlier in the splitting process. For example, imagine a set of data showing the freshness of various vegetables, and we want to predict whether they have spoiled or not. If one of the features is the farm of origin, and 80% of spoiled vegetables come from one particular farm, then the farm-of-origin feature will have high predictive value and be used early on in the tree-building process. From there, additional features would be considered to determine their value in predicting freshness. \n",
    "\n",
    "When using a simple tree, it is easy to produce a visualization (with a tree shape, of course) that shows splits and features in decreasing order of importance moving down the \"tree.\" However, in this particular instance, I'm using random forest, which offers more powerful predictions but does not offer the same visual output that a tree does. Random forest works as an ensemble approach, combining multiple trees. The idea is that many weak learners combine their \"knowledge\" to create a strong learner."
   ]
  },
  {
   "cell_type": "code",
   "execution_count": 46,
   "metadata": {
    "collapsed": false
   },
   "outputs": [],
   "source": [
    "from sklearn.model_selection import train_test_split\n",
    "from sklearn.ensemble import RandomForestClassifier, ExtraTreesClassifier\n",
    "from sklearn.metrics import recall_score\n",
    "\n",
    "import pandas as pd\n",
    "import seaborn as sns\n",
    "import matplotlib.pyplot as plt\n",
    "%matplotlib inline\n",
    "\n",
    "from collections import Counter, OrderedDict\n",
    "from imblearn.under_sampling import RandomUnderSampler\n",
    "from imblearn.over_sampling import SMOTE \n",
    "\n",
    "#import mapped version of data set \n",
    "readmit = pd.read_csv('diabetes_readmission_onehot.csv') "
   ]
  },
  {
   "cell_type": "code",
   "execution_count": 2,
   "metadata": {
    "collapsed": false
   },
   "outputs": [],
   "source": [
    "# capture independent variables in list\n",
    "features = list(readmit)\n",
    "features = [e for e in features if e not in ('Unnamed: 0', 'readmit30')]"
   ]
  },
  {
   "cell_type": "code",
   "execution_count": 22,
   "metadata": {
    "collapsed": true
   },
   "outputs": [],
   "source": [
    "# split the data into a training and test set\n",
    "X = readmit[features].values\n",
    "y = readmit.readmit30.values\n",
    "Xtrain, Xtest, Ytrain, Ytest = train_test_split(X, y, test_size = .2, \n",
    "                                                random_state = 34, stratify = y)"
   ]
  },
  {
   "cell_type": "code",
   "execution_count": 32,
   "metadata": {
    "collapsed": false
   },
   "outputs": [],
   "source": [
    "# build and fit model with random forest; add weights to address imbalance in dependent variables\n",
    "clf_rf = RandomForestClassifier(random_state = 7, class_weight = {0: .1, 1: .9})\n",
    "model_rf = clf_rf.fit(Xtrain, Ytrain)"
   ]
  },
  {
   "cell_type": "code",
   "execution_count": 24,
   "metadata": {
    "collapsed": false
   },
   "outputs": [
    {
     "name": "stdout",
     "output_type": "stream",
     "text": [
      "0.908444909866\n"
     ]
    }
   ],
   "source": [
    "# model accuracy on test data\n",
    "print(model_rf.score(Xtest, Ytest))"
   ]
  },
  {
   "cell_type": "markdown",
   "metadata": {
    "collapsed": true
   },
   "source": [
    "## Confusion Matrix with Precision and Recall\n",
    "\n",
    "The model accuracy looks pretty good, but we need to dig deeper to make sure that the model is truly performing well. Another way to evaluate model performance is a confustion matrix, which puts our model's predictions into four categories:\n",
    "\n",
    "- In the top-left quadrant is the number of observations classified as not readmitted within 30 days that were in fact not readmitted within 30 days. This is the true negative count. \n",
    "- In the top-right quadrant is the number of observations classified as readmitted within 30 days that were in fact not readmitted within 30 days. This is the false positive count. \n",
    "- In the lower left quadrant is the number of observations classified as not readmitted within 30 days that were in fact readmitted within 30 days. This is the false negative count. \n",
    "- In the lower right quadrant is the number of observations classified as readmitted within 30 days that were in fact readmitted within 30 days. This is the true positive count. "
   ]
  },
  {
   "cell_type": "code",
   "execution_count": 6,
   "metadata": {
    "collapsed": false
   },
   "outputs": [
    {
     "name": "stdout",
     "output_type": "stream",
     "text": [
      "Predicted      0   1    All\n",
      "Actual                     \n",
      "0          12098  56  12154\n",
      "1           1196  19   1215\n",
      "All        13294  75  13369\n"
     ]
    }
   ],
   "source": [
    "# confusion matrix\n",
    "actual = pd.Series(Ytest, name = 'Actual')\n",
    "predicted_rf = pd.Series(clf_rf.predict(Xtest), name = 'Predicted')\n",
    "rf_ct = pd.crosstab(actual, predicted_rf, margins = True)\n",
    "print(rf_ct)"
   ]
  },
  {
   "cell_type": "code",
   "execution_count": 8,
   "metadata": {
    "collapsed": false
   },
   "outputs": [
    {
     "name": "stdout",
     "output_type": "stream",
     "text": [
      "Percent of Non-readmissions Detected: 0.995\n",
      "Percent of Readmissions Detected (Recall): 0.016\n",
      "Accuracy Among Predictions of Readmitted (Precision): 0.253\n"
     ]
    }
   ],
   "source": [
    "# confusion matrix with percentages\n",
    "TN_rf = rf_ct.iloc[0,0] / rf_ct.iloc[0,2]\n",
    "TP_rf = rf_ct.iloc[1,1] / rf_ct.iloc[1,2]\n",
    "Prec_rf = rf_ct.iloc[1,1] / rf_ct.iloc[2,1]\n",
    "\n",
    "print('Percent of Non-readmissions Detected: {}'.format('%0.3f' % TN_rf))\n",
    "print('Percent of Readmissions Detected (Recall): {}'.format('%0.3f' % TP_rf))\n",
    "print('Accuracy Among Predictions of Readmitted (Precision): {}'.format('%0.3f' % Prec_rf))"
   ]
  },
  {
   "cell_type": "markdown",
   "metadata": {},
   "source": [
    "Recall is a (percentage) measure of how many cases were identified correctly -- or detected -- in a given (positive or negative) class. It is also know as the true-positive or true-negative rate. In this case, for patients who were in fact readmitted within 30 days, the recall is .016 (or 1.6%) because 19 out of 1215 relevant cases were classified correctly. \n",
    "\n",
    "Precision is a (percentage) measure of how many predictions were correct for the positive (readmitted within 30 days, here) or negative (not readmitted) class. For the positive class, precision is .253 (or 25.3%), which comes from 19 out of 75 cases. \n",
    "\n",
    "These rates are not good, and the model obviously needs improvement. "
   ]
  },
  {
   "cell_type": "markdown",
   "metadata": {},
   "source": [
    "## Improvement Through Undersampling\n",
    "\n",
    "The initial random forest did not show great results, even with class weights being adjusted. The cause may be the significant imblance in positive and negative outcomes. As we saw earlier, there are about 11 patients who were not readmitted within 30 days for every patient who was. In order to see if our model's performance is due to this imbalance, we can try the undersampling process on observations that did not show readmission within 30 days. Here, we'll use random undersampling to randomly choose fewer observations with the negative outcome in order to create a balance with positive outcomes. "
   ]
  },
  {
   "cell_type": "code",
   "execution_count": 36,
   "metadata": {
    "collapsed": false
   },
   "outputs": [
    {
     "data": {
      "text/plain": [
       "Counter({0: 6074, 1: 6074})"
      ]
     },
     "execution_count": 36,
     "metadata": {},
     "output_type": "execute_result"
    }
   ],
   "source": [
    "X = readmit[features].values #majority class to be undersampled\n",
    "Y = readmit.readmit30.values \n",
    "\n",
    "rus = RandomUnderSampler(random_state = 34)\n",
    "X_res, Y_res = rus.fit_sample(X, Y)\n",
    "Counter(Y_res) "
   ]
  },
  {
   "cell_type": "code",
   "execution_count": 37,
   "metadata": {
    "collapsed": true
   },
   "outputs": [],
   "source": [
    "# train, test, split\n",
    "Xtrain, Xtest, Ytrain, Ytest = train_test_split(X_res, Y_res, test_size = .2, \n",
    "                                                random_state = 34, stratify = Y_res)"
   ]
  },
  {
   "cell_type": "code",
   "execution_count": 38,
   "metadata": {
    "collapsed": false
   },
   "outputs": [
    {
     "name": "stdout",
     "output_type": "stream",
     "text": [
      "0.698353909465\n"
     ]
    }
   ],
   "source": [
    "# run random forest again w/ undersampled dataset\n",
    "rf_rus = RandomForestClassifier(random_state = 7)\n",
    "rf_model_rus = rf_rus.fit(Xtrain, Ytrain)\n",
    "print(rf_model_rus.score(Xtest, Ytest))"
   ]
  },
  {
   "cell_type": "code",
   "execution_count": 39,
   "metadata": {
    "collapsed": false
   },
   "outputs": [
    {
     "name": "stdout",
     "output_type": "stream",
     "text": [
      "Predicted     0     1   All\n",
      "Actual                     \n",
      "0           908   307  1215\n",
      "1           426   789  1215\n",
      "All        1334  1096  2430\n"
     ]
    }
   ],
   "source": [
    "# confusion matrix for random forest with random undersampling\n",
    "actual = pd.Series(Ytest, name = 'Actual')\n",
    "predicted_rf_rus = pd.Series(rf_rus.predict(Xtest), name = 'Predicted')\n",
    "ct_rf_rus = pd.crosstab(actual, predicted_rf_rus, margins = True)\n",
    "print(ct_rf_rus)"
   ]
  },
  {
   "cell_type": "code",
   "execution_count": 40,
   "metadata": {
    "collapsed": false
   },
   "outputs": [
    {
     "name": "stdout",
     "output_type": "stream",
     "text": [
      "Percent of Non-readmissions Detected: 0.747\n",
      "Percent of Readmissions Detected (Recall): 0.649\n",
      "Accuracy Among Predictions of Readmitted (Precision): 0.720\n"
     ]
    }
   ],
   "source": [
    "# confusion matrix with percentages\n",
    "TN_rf_rus = ct_rf_rus.iloc[0,0] / ct_rf_rus.iloc[0,2]\n",
    "TP_rf_rus = ct_rf_rus.iloc[1,1] / ct_rf_rus.iloc[1,2]\n",
    "Prec_rf_rus = ct_rf_rus.iloc[1,1] / ct_rf_rus.iloc[2,1]\n",
    "\n",
    "print('Percent of Non-readmissions Detected: {}'.format('%0.3f' % TN_rf_rus))\n",
    "print('Percent of Readmissions Detected (Recall): {}'.format('%0.3f' % TP_rf_rus))\n",
    "print('Accuracy Among Predictions of Readmitted (Precision): {}'.format('%0.3f' % Prec_rf_rus))"
   ]
  },
  {
   "cell_type": "markdown",
   "metadata": {},
   "source": [
    "The accuracy for non-readmitted patients has dropped, which may be due to the fact that we had less data from that class this time. But the performance in that class is still well above a random guess. More importantly, the precision and recall with respect to positive cases (readmitted within 30 days) is vastly improved. "
   ]
  },
  {
   "cell_type": "markdown",
   "metadata": {},
   "source": [
    "## Oversampling \n",
    "\n",
    "In addition to undersampling the majority class (not readmitted within 30 days), we can also try oversampling the minority class (readmitted within 30 days). Here, we'll use a common oversampling method called SMOTE (Synthetic Minority Oversampling Technique). "
   ]
  },
  {
   "cell_type": "code",
   "execution_count": 41,
   "metadata": {
    "collapsed": false
   },
   "outputs": [
    {
     "data": {
      "text/plain": [
       "Counter({0: 60770, 1: 60770})"
      ]
     },
     "execution_count": 41,
     "metadata": {},
     "output_type": "execute_result"
    }
   ],
   "source": [
    "X = readmit[features].values \n",
    "Y = readmit.readmit30.values #minority class to be oversampled\n",
    "\n",
    "sm = SMOTE(random_state = 137)\n",
    "X_resamp, Y_resamp = sm.fit_sample(X, Y)\n",
    "Counter(Y_resamp) "
   ]
  },
  {
   "cell_type": "code",
   "execution_count": 42,
   "metadata": {
    "collapsed": true
   },
   "outputs": [],
   "source": [
    "# train, test, split\n",
    "Xtrain, Xtest, Ytrain, Ytest = train_test_split(X_resamp, Y_resamp, test_size = .2, \n",
    "                                                random_state = 34, stratify = Y_resamp)"
   ]
  },
  {
   "cell_type": "code",
   "execution_count": 43,
   "metadata": {
    "collapsed": false
   },
   "outputs": [
    {
     "name": "stdout",
     "output_type": "stream",
     "text": [
      "0.951086062202\n"
     ]
    }
   ],
   "source": [
    "# run random forest again w/ oversampled dataset\n",
    "clf_rf_sm = RandomForestClassifier(random_state = 7)\n",
    "model_rf_sm = clf_rf_sm.fit(Xtrain, Ytrain)\n",
    "print(model_rf_sm.score(Xtest, Ytest))"
   ]
  },
  {
   "cell_type": "code",
   "execution_count": 44,
   "metadata": {
    "collapsed": false
   },
   "outputs": [
    {
     "name": "stdout",
     "output_type": "stream",
     "text": [
      "Predicted      0      1    All\n",
      "Actual                        \n",
      "0          12065     89  12154\n",
      "1           1100  11054  12154\n",
      "All        13165  11143  24308\n"
     ]
    }
   ],
   "source": [
    "# confusion matrix for random forest with SMOTE oversampling\n",
    "actual = pd.Series(Ytest, name = 'Actual')\n",
    "predicted_rf_sm = pd.Series(clf_rf_sm.predict(Xtest), name = 'Predicted')\n",
    "ct_rf_sm = pd.crosstab(actual, predicted_rf_sm, margins = True)\n",
    "print(ct_rf_sm)"
   ]
  },
  {
   "cell_type": "code",
   "execution_count": 45,
   "metadata": {
    "collapsed": false
   },
   "outputs": [
    {
     "name": "stdout",
     "output_type": "stream",
     "text": [
      "Percent of Non-readmissions Detected: 0.993\n",
      "Percent of Readmissions Detected (Recall): 0.909\n",
      "Accuracy Among Predictions of Readmitted (Precision): 0.992\n"
     ]
    }
   ],
   "source": [
    "# confusion matrix with percentages\n",
    "TN_rf_sm = ct_rf_sm.iloc[0,0] / ct_rf_sm.iloc[0,2]\n",
    "TP_rf_sm = ct_rf_sm.iloc[1,1] / ct_rf_sm.iloc[1,2]\n",
    "Prec_rf_sm = ct_rf_sm.iloc[1,1] / ct_rf_sm.iloc[2,1] \n",
    "\n",
    "print('Percent of Non-readmissions Detected: {}'.format('%0.3f' % TN_rf_sm))\n",
    "print('Percent of Readmissions Detected (Recall): {}'.format('%0.3f' % TP_rf_sm))\n",
    "print('Accuracy Among Predictions of Readmitted (Precision): {}'.format('%0.3f' % Prec_rf_sm))"
   ]
  },
  {
   "cell_type": "markdown",
   "metadata": {},
   "source": [
    "The accuracy for patients not readmitted is nearly perfect in the SMOTE model, and its accuracy for positive cases is excellent as well. This model seems like our best one. Before finalizing the choice of model, though, it's valuable to explore a few parameters of the random forest algorithm, including number of estimators (number of trees in the forest), maximum depth (of a tree), and maximum number of features to consider when looking for the optimal split.\n",
    "\n",
    "We'll start by looking at the maximum number of features. To find the best one, we'll try a few different methods and see which one yields the lower out-of-bag (OOB) error, which reflects the average error for each classifer calculated using predictions from the trees that do not contain the given classifier in their respective bootstrap sample. OOB error negates the need to run the model on separate training and test data sets. "
   ]
  },
  {
   "cell_type": "code",
   "execution_count": 53,
   "metadata": {
    "collapsed": false
   },
   "outputs": [
    {
     "data": {
      "image/png": "[encoded data removed]",
      "text/plain": [
       "<matplotlib.figure.Figure at 0x1846e3a90>"
      ]
     },
     "metadata": {},
     "output_type": "display_data"
    }
   ],
   "source": [
    "#find optimal method for maximum number of features\n",
    "\n",
    "RANDOM_STATE = 123 \n",
    "\n",
    "# warm_start disables support for parallelized ensembles but is needed to track OOB error\n",
    "ensemble_clfs = [\n",
    "    (\"RandomForestClassifier, max_features='sqrt'\",\n",
    "        RandomForestClassifier(warm_start=True, oob_score=True, max_features=\"sqrt\", random_state=RANDOM_STATE)),\n",
    "    (\"RandomForestClassifier, max_features='log2'\",\n",
    "        RandomForestClassifier(warm_start=True, max_features='log2', oob_score=True, random_state=RANDOM_STATE)),\n",
    "    (\"RandomForestClassifier, max_features=None\",\n",
    "        RandomForestClassifier(warm_start=True, max_features=None, oob_score=True, random_state=RANDOM_STATE))\n",
    "]\n",
    "\n",
    "# Map classifier name to a list of (<n_estimators>, <error rate>) pairs\n",
    "error_rate = OrderedDict((label, []) for label, _ in ensemble_clfs)\n",
    "\n",
    "min_estimators = 40\n",
    "max_estimators = 175\n",
    "\n",
    "for label, clf in ensemble_clfs:\n",
    "    for i in range(min_estimators, max_estimators + 1):\n",
    "        clf.set_params(n_estimators=i)\n",
    "        clf.fit(Xtrain, Ytrain)\n",
    "\n",
    "        # Record the OOB error for each `n_estimators=i` setting.\n",
    "        oob_error = 1 - clf.oob_score_\n",
    "        error_rate[label].append((i, oob_error))\n",
    "\n",
    "# Generate the \"OOB error rate\" vs. \"n_estimators\" plot.\n",
    "for label, clf_err in error_rate.items():\n",
    "    xs, ys = zip(*clf_err)\n",
    "    plt.plot(xs, ys, label=label)\n",
    "\n",
    "plt.xlim(min_estimators, max_estimators)\n",
    "plt.xlabel(\"n_estimators\")\n",
    "plt.ylabel(\"OOB error rate\")\n",
    "plt.legend(loc=\"upper right\")\n",
    "plt.show()"
   ]
  },
  {
   "cell_type": "markdown",
   "metadata": {},
   "source": [
    "The log2 approach appears to be the best choice for the maximum number of features, as it has a low error rate and stabilizes early on. Additionally, that stabilization occurs with a value of 65 for the number of estimators, so I will proceed using 65 for n_estimators. \n",
    "\n",
    "Next, using the number of features, we can calculate the maximum depth by (coincidentally) taking log base 2 (since our outcome is binary) of the number of features. "
   ]
  },
  {
   "cell_type": "code",
   "execution_count": 64,
   "metadata": {
    "collapsed": false
   },
   "outputs": [
    {
     "name": "stdout",
     "output_type": "stream",
     "text": [
      "7.266786540694902\n"
     ]
    }
   ],
   "source": [
    "# find optimal depth\n",
    "import math\n",
    "f = len(list(readmit[features])) # no. of features in data set\n",
    "print(math.log(f, 2)) # log base 2"
   ]
  },
  {
   "cell_type": "markdown",
   "metadata": {},
   "source": [
    "The maximum depth should be about 7. "
   ]
  },
  {
   "cell_type": "markdown",
   "metadata": {},
   "source": [
    "With these parameter choices made, we are ready to run the finalized model on the test data. "
   ]
  },
  {
   "cell_type": "code",
   "execution_count": 67,
   "metadata": {
    "collapsed": false
   },
   "outputs": [
    {
     "name": "stdout",
     "output_type": "stream",
     "text": [
      "0.910564423235\n"
     ]
    }
   ],
   "source": [
    "# run model w/ chosen parameters on test data (keeping SMOTE data)\n",
    "model_fin = RandomForestClassifier(random_state = 7, n_estimators = 65, max_features = 'log2', max_depth = 7)\n",
    "clf_fin = model_fin.fit(Xtrain, Ytrain)\n",
    "print(clf_fin.score(Xtest, Ytest))"
   ]
  },
  {
   "cell_type": "code",
   "execution_count": 69,
   "metadata": {
    "collapsed": false
   },
   "outputs": [
    {
     "name": "stdout",
     "output_type": "stream",
     "text": [
      "Predicted      0      1    All\n",
      "Actual                        \n",
      "0          11116   1038  12154\n",
      "1           1136  11018  12154\n",
      "All        12252  12056  24308\n"
     ]
    }
   ],
   "source": [
    "# confusion matrix \n",
    "actual_fin = pd.Series(Ytest, name = 'Actual')\n",
    "predicted_fin = pd.Series(clf_fin.predict(Xtest), name = 'Predicted')\n",
    "ct_fin = pd.crosstab(actual_fin, predicted_fin, margins = True)\n",
    "print(ct_fin)"
   ]
  },
  {
   "cell_type": "code",
   "execution_count": 70,
   "metadata": {
    "collapsed": false
   },
   "outputs": [
    {
     "name": "stdout",
     "output_type": "stream",
     "text": [
      "Percent of Non-readmissions Detected: 0.915\n",
      "Percent of Readmissions Detected (Recall): 0.907\n",
      "Accuracy Among Predictions of Readmitted (Precision): 0.914\n"
     ]
    }
   ],
   "source": [
    "# confusion matrix with percentages\n",
    "TN_fin = ct_fin.iloc[0,0] / ct_fin.iloc[0,2]\n",
    "TP_fin = ct_fin.iloc[1,1] / ct_fin.iloc[1,2]\n",
    "Prec_fin = ct_fin.iloc[1,1] / ct_fin.iloc[2,1] \n",
    "\n",
    "print('Percent of Non-readmissions Detected: {}'.format('%0.3f' % TN_fin))\n",
    "print('Percent of Readmissions Detected (Recall): {}'.format('%0.3f' % TP_fin))\n",
    "print('Accuracy Among Predictions of Readmitted (Precision): {}'.format('%0.3f' % Prec_fin))"
   ]
  },
  {
   "cell_type": "markdown",
   "metadata": {},
   "source": [
    "Overall accuracy is still strong at 91%, and precision and recall look good, too. "
   ]
  },
  {
   "cell_type": "markdown",
   "metadata": {},
   "source": [
    "Next, we'll investigate the most important features. In the table produced below, importance indicates Gini importance, which reflects the average gain in purity by splitting on a given feature, with respect to active status. That is, Gini importance measures how well a feature minimizes the probability of misclassification. (For reference, its maximal value approaches 1, and its minimal value is 0.)"
   ]
  },
  {
   "cell_type": "code",
   "execution_count": 68,
   "metadata": {
    "collapsed": false
   },
   "outputs": [
    {
     "data": {
      "text/html": [
       "<div>\n",
       "<table border=\"1\" class=\"dataframe\">\n",
       "  <thead>\n",
       "    <tr style=\"text-align: right;\">\n",
       "      <th></th>\n",
       "      <th>feature</th>\n",
       "      <th>importance</th>\n",
       "    </tr>\n",
       "  </thead>\n",
       "  <tbody>\n",
       "    <tr>\n",
       "      <th>7</th>\n",
       "      <td>num_visits</td>\n",
       "      <td>0.243816</td>\n",
       "    </tr>\n",
       "    <tr>\n",
       "      <th>9</th>\n",
       "      <td>race_Caucasian</td>\n",
       "      <td>0.045181</td>\n",
       "    </tr>\n",
       "    <tr>\n",
       "      <th>55</th>\n",
       "      <td>admission_source_id_7</td>\n",
       "      <td>0.044384</td>\n",
       "    </tr>\n",
       "    <tr>\n",
       "      <th>5</th>\n",
       "      <td>number_inpatient</td>\n",
       "      <td>0.037881</td>\n",
       "    </tr>\n",
       "    <tr>\n",
       "      <th>140</th>\n",
       "      <td>third_diag_other</td>\n",
       "      <td>0.033856</td>\n",
       "    </tr>\n",
       "    <tr>\n",
       "      <th>31</th>\n",
       "      <td>discharge_disposition_id_3</td>\n",
       "      <td>0.030539</td>\n",
       "    </tr>\n",
       "    <tr>\n",
       "      <th>44</th>\n",
       "      <td>discharge_disposition_id_22</td>\n",
       "      <td>0.027439</td>\n",
       "    </tr>\n",
       "    <tr>\n",
       "      <th>18</th>\n",
       "      <td>age_[50-60)</td>\n",
       "      <td>0.027044</td>\n",
       "    </tr>\n",
       "    <tr>\n",
       "      <th>20</th>\n",
       "      <td>age_[70-80)</td>\n",
       "      <td>0.023573</td>\n",
       "    </tr>\n",
       "    <tr>\n",
       "      <th>123</th>\n",
       "      <td>first_diag_neoplasms</td>\n",
       "      <td>0.021057</td>\n",
       "    </tr>\n",
       "  </tbody>\n",
       "</table>\n",
       "</div>"
      ],
      "text/plain": [
       "                         feature  importance\n",
       "7                     num_visits    0.243816\n",
       "9                 race_Caucasian    0.045181\n",
       "55         admission_source_id_7    0.044384\n",
       "5               number_inpatient    0.037881\n",
       "140             third_diag_other    0.033856\n",
       "31    discharge_disposition_id_3    0.030539\n",
       "44   discharge_disposition_id_22    0.027439\n",
       "18                   age_[50-60)    0.027044\n",
       "20                   age_[70-80)    0.023573\n",
       "123         first_diag_neoplasms    0.021057"
      ]
     },
     "execution_count": 68,
     "metadata": {},
     "output_type": "execute_result"
    }
   ],
   "source": [
    "# gini importances of 10 most important features\n",
    "importances = clf_fin.feature_importances_\n",
    "importance_df = pd.DataFrame({'feature': features, 'importance': importances})\n",
    "imp = importance_df.sort_values('importance', ascending = False)\n",
    "imp.head(10)"
   ]
  },
  {
   "cell_type": "markdown",
   "metadata": {},
   "source": [
    "Number of visits emerged as the most important predictor. HbA1c is not present in any form among the top ten. Howevewr, it does have some predictive value since it's not in the features with no importance, captured below.  "
   ]
  },
  {
   "cell_type": "code",
   "execution_count": 71,
   "metadata": {
    "collapsed": false
   },
   "outputs": [
    {
     "name": "stdout",
     "output_type": "stream",
     "text": [
      "                           feature  importance\n",
      "41     discharge_disposition_id_16         0.0\n",
      "48     discharge_disposition_id_27         0.0\n",
      "28             admission_type_id_7         0.0\n",
      "107              tolazamide_Steady         0.0\n",
      "13          gender_Unknown/Invalid         0.0\n",
      "103                    miglitol_No         0.0\n",
      "39     discharge_disposition_id_12         0.0\n",
      "38     discharge_disposition_id_10         0.0\n",
      "144        num_lab_procs_[111-120]         0.0\n",
      "114     glipizide_metformin_Steady         0.0\n",
      "115  metformin_pioglitazone_Steady         0.0\n",
      "80                  nateglinide_Up         0.0\n",
      "94              tolbutamide_Steady         0.0\n",
      "113         glyburide_metformin_Up         0.0\n",
      "87            acetohexamide_Steady         0.0\n",
      "83               chlorpropamide_Up         0.0\n",
      "82           chlorpropamide_Steady         0.0\n",
      "81               chlorpropamide_No         0.0\n",
      "102                    acarbose_Up         0.0\n",
      "58          admission_source_id_10         0.0\n",
      "65          admission_source_id_25         0.0\n",
      "64          admission_source_id_22         0.0\n",
      "105                    miglitol_Up         0.0\n",
      "61          admission_source_id_14         0.0\n",
      "60          admission_source_id_13         0.0\n",
      "59          admission_source_id_11         0.0\n",
      "104                miglitol_Steady         0.0\n"
     ]
    }
   ],
   "source": [
    "# features with no importance\n",
    "print(imp[(imp.importance == 0)])"
   ]
  },
  {
   "cell_type": "markdown",
   "metadata": {},
   "source": [
    "## Looping Processes to Validate Corrections for Imbalanced Data\n",
    "\n",
    "Since apparently successful corrections for the imbalanced dependent variable have been made, we should repeat those processes a few times to ensure that we didn't \"just get lucky\" with the one-off uses of random undersampling and SMOTE. "
   ]
  },
  {
   "cell_type": "code",
   "execution_count": 13,
   "metadata": {
    "collapsed": true
   },
   "outputs": [],
   "source": [
    "# capture independent variables in list\n",
    "features = list(readmit) \n",
    "features = [e for e in features if e not in ('Unnamed: 0', 'readmit30')]"
   ]
  },
  {
   "cell_type": "code",
   "execution_count": 14,
   "metadata": {
    "collapsed": true
   },
   "outputs": [],
   "source": [
    "from collections import Counter\n",
    "from imblearn.under_sampling import RandomUnderSampler\n",
    "\n",
    "X = readmit[features].values #majority class to be undersampled\n",
    "Y = readmit.readmit30.values "
   ]
  },
  {
   "cell_type": "code",
   "execution_count": 72,
   "metadata": {
    "collapsed": false
   },
   "outputs": [
    {
     "name": "stdout",
     "output_type": "stream",
     "text": [
      "0.751440329218\n",
      "Predicted     0     1   All\n",
      "Actual                     \n",
      "0           912   303  1215\n",
      "1           301   914  1215\n",
      "All        1213  1217  2430\n",
      "Accuracy for not readmitted: 0.751\n",
      "Accuracy for readmitted (Recall): 0.752\n",
      "Random Forest trial count: 1\n",
      "\n",
      "0.73621399177\n",
      "Predicted     0     1   All\n",
      "Actual                     \n",
      "0           914   301  1215\n",
      "1           340   875  1215\n",
      "All        1254  1176  2430\n",
      "Accuracy for not readmitted: 0.752\n",
      "Accuracy for readmitted (Recall): 0.720\n",
      "Random Forest trial count: 2\n",
      "\n",
      "0.749382716049\n",
      "Predicted     0     1   All\n",
      "Actual                     \n",
      "0           923   292  1215\n",
      "1           317   898  1215\n",
      "All        1240  1190  2430\n",
      "Accuracy for not readmitted: 0.760\n",
      "Accuracy for readmitted (Recall): 0.739\n",
      "Random Forest trial count: 3\n",
      "\n",
      "0.741975308642\n",
      "Predicted     0     1   All\n",
      "Actual                     \n",
      "0           926   289  1215\n",
      "1           338   877  1215\n",
      "All        1264  1166  2430\n",
      "Accuracy for not readmitted: 0.762\n",
      "Accuracy for readmitted (Recall): 0.722\n",
      "Random Forest trial count: 4\n",
      "\n",
      "0.731687242798\n",
      "Predicted     0     1   All\n",
      "Actual                     \n",
      "0           886   329  1215\n",
      "1           323   892  1215\n",
      "All        1209  1221  2430\n",
      "Accuracy for not readmitted: 0.729\n",
      "Accuracy for readmitted (Recall): 0.734\n",
      "Random Forest trial count: 5\n",
      "\n",
      "0.753086419753\n",
      "Predicted     0     1   All\n",
      "Actual                     \n",
      "0           882   333  1215\n",
      "1           267   948  1215\n",
      "All        1149  1281  2430\n",
      "Accuracy for not readmitted: 0.726\n",
      "Accuracy for readmitted (Recall): 0.780\n",
      "Random Forest trial count: 6\n",
      "\n",
      "0.754320987654\n",
      "Predicted     0     1   All\n",
      "Actual                     \n",
      "0           901   314  1215\n",
      "1           283   932  1215\n",
      "All        1184  1246  2430\n",
      "Accuracy for not readmitted: 0.742\n",
      "Accuracy for readmitted (Recall): 0.767\n",
      "Random Forest trial count: 7\n",
      "\n",
      "0.740740740741\n",
      "Predicted     0     1   All\n",
      "Actual                     \n",
      "0           893   322  1215\n",
      "1           308   907  1215\n",
      "All        1201  1229  2430\n",
      "Accuracy for not readmitted: 0.735\n",
      "Accuracy for readmitted (Recall): 0.747\n",
      "Random Forest trial count: 8\n",
      "\n",
      "0.747325102881\n",
      "Predicted     0     1   All\n",
      "Actual                     \n",
      "0           902   313  1215\n",
      "1           301   914  1215\n",
      "All        1203  1227  2430\n",
      "Accuracy for not readmitted: 0.742\n",
      "Accuracy for readmitted (Recall): 0.752\n",
      "Random Forest trial count: 9\n",
      "\n",
      "0.751851851852\n",
      "Predicted     0     1   All\n",
      "Actual                     \n",
      "0           942   273  1215\n",
      "1           330   885  1215\n",
      "All        1272  1158  2430\n",
      "Accuracy for not readmitted: 0.775\n",
      "Accuracy for readmitted (Recall): 0.728\n",
      "Random Forest trial count: 10\n",
      "\n"
     ]
    }
   ],
   "source": [
    "# multiple calls of RandomUnderSampler\n",
    "\n",
    "n_trials = 10 # number of trials\n",
    "\n",
    "# Declare empty lists for true-positive and true-negative rates\n",
    "TNR = []\n",
    "TPR = [] \n",
    "\n",
    "# for loop such that variable \"trial\" varies from 0 to n_trials-1 \n",
    " # which means the loop executes n_trials times\n",
    "for trial in range(n_trials):\n",
    "    \n",
    "    # set up random undersampling\n",
    "    rus = RandomUnderSampler(random_state = 11*trial) #randomize seed\n",
    "    X_res, Y_res = rus.fit_sample(X, Y)\n",
    "    Counter(Y_res) \n",
    "    \n",
    "    # train, test, split\n",
    "    Xtrain, Xtest, Ytrain, Ytest = train_test_split(X_res, Y_res, test_size = .2, \n",
    "                                                random_state = 3*trial, stratify = Y_res)\n",
    "    \n",
    "    # run random forest with chosen parameters\n",
    "    rf_rus = RandomForestClassifier(random_state = 7, n_estimators = 65, max_features = 'log2', max_depth = 7)\n",
    "    rf_model_rus = rf_rus.fit(Xtrain, Ytrain)\n",
    "    print(rf_model_rus.score(Xtest, Ytest))\n",
    "    \n",
    "    # confusion matrix for random forest with random undersampling\n",
    "    actual = pd.Series(Ytest, name = 'Actual')\n",
    "    predicted_rf_rus = pd.Series(rf_rus.predict(Xtest), name = 'Predicted')\n",
    "    ct_rf_rus = pd.crosstab(actual, predicted_rf_rus, margins = True)\n",
    "    print(ct_rf_rus)\n",
    "    \n",
    "    # capture given trial's true negative rate, add to array\n",
    "    tnr = ct_rf_rus.iloc[0,0] / ct_rf_rus.iloc[0,2]\n",
    "    TNR.append(tnr)\n",
    "    \n",
    "    # same process for true positive rate\n",
    "    tpr = ct_rf_rus.iloc[1,1] / ct_rf_rus.iloc[1,2]\n",
    "    TPR.append(tpr)\n",
    "    \n",
    "    # output: TNR, TPR, and trial no. \n",
    "    print('Accuracy for not readmitted: {}'.format('%0.3f' % tnr))\n",
    "    print('Accuracy for readmitted (Recall): {}'.format('%0.3f' % tpr))\n",
    "    print('Random Forest trial count: {}'.format(trial + 1)) \n",
    "    print()"
   ]
  },
  {
   "cell_type": "code",
   "execution_count": 73,
   "metadata": {
    "collapsed": false
   },
   "outputs": [
    {
     "data": {
      "image/png": "[encoded data removed]",
      "text/plain": [
       "<matplotlib.figure.Figure at 0x12afbcb38>"
      ]
     },
     "metadata": {},
     "output_type": "display_data"
    }
   ],
   "source": [
    "# plot TNR and TPR as box plots\n",
    "plots = pd.DataFrame({'TPR': TPR, 'TNR': TNR})\n",
    "\n",
    "sns.boxplot(data = plots)  \n",
    "plt.title('Box Plots for TPR and TNR in Random Undersampling \\n (Random Forest)')\n",
    "plt.ylabel('Percent')\n",
    "plt.show()"
   ]
  },
  {
   "cell_type": "code",
   "execution_count": 77,
   "metadata": {
    "collapsed": false
   },
   "outputs": [
    {
     "data": {
      "image/png": "[encoded data removed]",
      "text/plain": [
       "<matplotlib.figure.Figure at 0x1185ee4e0>"
      ]
     },
     "metadata": {},
     "output_type": "display_data"
    }
   ],
   "source": [
    "# line plot\n",
    "plots.plot.line()\n",
    "plt.xlabel('Sample Number')\n",
    "plt.ylabel('percentage')\n",
    "plt.title('Positive and Negative Accuracy Rates: Random Forest \\n with Random Undersampling')\n",
    "plt.show()"
   ]
  },
  {
   "cell_type": "code",
   "execution_count": 74,
   "metadata": {
    "collapsed": false
   },
   "outputs": [
    {
     "name": "stdout",
     "output_type": "stream",
     "text": [
      "0.911880862268\n",
      "Predicted      0      1    All\n",
      "Actual                        \n",
      "0          11200    954  12154\n",
      "1           1188  10966  12154\n",
      "All        12388  11920  24308\n",
      "Accuracy for not readmitted: 0.922\n",
      "Accuracy for readmitted (Recall): 0.902\n",
      "Random Forest trial count: 1\n",
      "\n",
      "0.897688003949\n",
      "Predicted      0      1    All\n",
      "Actual                        \n",
      "0          10890   1264  12154\n",
      "1           1223  10931  12154\n",
      "All        12113  12195  24308\n",
      "Accuracy for not readmitted: 0.896\n",
      "Accuracy for readmitted (Recall): 0.899\n",
      "Random Forest trial count: 2\n",
      "\n",
      "0.909247984203\n",
      "Predicted      0      1    All\n",
      "Actual                        \n",
      "0          11086   1068  12154\n",
      "1           1138  11016  12154\n",
      "All        12224  12084  24308\n",
      "Accuracy for not readmitted: 0.912\n",
      "Accuracy for readmitted (Recall): 0.906\n",
      "Random Forest trial count: 3\n",
      "\n",
      "0.913896659536\n",
      "Predicted      0      1    All\n",
      "Actual                        \n",
      "0          11218    936  12154\n",
      "1           1157  10997  12154\n",
      "All        12375  11933  24308\n",
      "Accuracy for not readmitted: 0.923\n",
      "Accuracy for readmitted (Recall): 0.905\n",
      "Random Forest trial count: 4\n",
      "\n",
      "0.90102024025\n",
      "Predicted      0      1    All\n",
      "Actual                        \n",
      "0          11003   1151  12154\n",
      "1           1255  10899  12154\n",
      "All        12258  12050  24308\n",
      "Accuracy for not readmitted: 0.905\n",
      "Accuracy for readmitted (Recall): 0.897\n",
      "Random Forest trial count: 5\n",
      "\n",
      "0.903406285996\n",
      "Predicted      0      1    All\n",
      "Actual                        \n",
      "0          11034   1120  12154\n",
      "1           1228  10926  12154\n",
      "All        12262  12046  24308\n",
      "Accuracy for not readmitted: 0.908\n",
      "Accuracy for readmitted (Recall): 0.899\n",
      "Random Forest trial count: 6\n",
      "\n",
      "0.90624485766\n",
      "Predicted      0      1    All\n",
      "Actual                        \n",
      "0          11143   1011  12154\n",
      "1           1268  10886  12154\n",
      "All        12411  11897  24308\n",
      "Accuracy for not readmitted: 0.917\n",
      "Accuracy for readmitted (Recall): 0.896\n",
      "Random Forest trial count: 7\n",
      "\n",
      "0.903570840875\n",
      "Predicted      0      1    All\n",
      "Actual                        \n",
      "0          11045   1109  12154\n",
      "1           1235  10919  12154\n",
      "All        12280  12028  24308\n",
      "Accuracy for not readmitted: 0.909\n",
      "Accuracy for readmitted (Recall): 0.898\n",
      "Random Forest trial count: 8\n",
      "\n",
      "0.900156327135\n",
      "Predicted      0      1    All\n",
      "Actual                        \n",
      "0          10909   1245  12154\n",
      "1           1182  10972  12154\n",
      "All        12091  12217  24308\n",
      "Accuracy for not readmitted: 0.898\n",
      "Accuracy for readmitted (Recall): 0.903\n",
      "Random Forest trial count: 9\n",
      "\n",
      "0.900526575613\n",
      "Predicted      0      1    All\n",
      "Actual                        \n",
      "0          10935   1219  12154\n",
      "1           1199  10955  12154\n",
      "All        12134  12174  24308\n",
      "Accuracy for not readmitted: 0.900\n",
      "Accuracy for readmitted (Recall): 0.901\n",
      "Random Forest trial count: 10\n",
      "\n"
     ]
    }
   ],
   "source": [
    "# multiple calls of SMOTE\n",
    "from imblearn.over_sampling import SMOTE \n",
    "\n",
    "n_trials = 10 # number of trials\n",
    "\n",
    "# Declare empty lists for true-positive and true-negative rates\n",
    "TNR_sm = []\n",
    "TPR_sm = [] \n",
    "\n",
    "# for loop such that variable \"trial\" varies from 0 to n_trials-1 \n",
    " # which means the loop executes n_trials times\n",
    "for trial in range(n_trials):\n",
    "\n",
    "    # set up SMOTE procedure\n",
    "    sm = SMOTE(random_state = 13*trial)\n",
    "    X_resamp, Y_resamp = sm.fit_sample(X, Y)\n",
    "    Counter(Y_resamp) \n",
    "    \n",
    "    # train, test, split\n",
    "    Xtrain, Xtest, Ytrain, Ytest = train_test_split(X_resamp, Y_resamp, test_size = .2, \n",
    "                                                random_state = 3*trial, stratify = Y_resamp)\n",
    "    \n",
    "    # run random forest again w/ oversampled dataset and chosen parameters\n",
    "    clf_rf_sm = RandomForestClassifier(random_state = 7, n_estimators = 65, max_features = 'log2', max_depth = 7)\n",
    "    model_rf_sm = clf_rf_sm.fit(Xtrain, Ytrain)\n",
    "    print(model_rf_sm.score(Xtest, Ytest))\n",
    "    \n",
    "    # confusion matrix for random forest with SMOTE oversampling\n",
    "    actual = pd.Series(Ytest, name = 'Actual')\n",
    "    predicted_rf_sm = pd.Series(clf_rf_sm.predict(Xtest), name = 'Predicted')\n",
    "    ct_rf_sm = pd.crosstab(actual, predicted_rf_sm, margins = True)\n",
    "    print(ct_rf_sm)\n",
    "    \n",
    "    # capture given trial's true negative rate, add to array\n",
    "    tnr_sm = ct_rf_sm.iloc[0,0] / ct_rf_sm.iloc[0,2]\n",
    "    TNR_sm.append(tnr_sm)\n",
    "    \n",
    "    # same process for true positive rate\n",
    "    tpr_sm = ct_rf_sm.iloc[1,1] / ct_rf_sm.iloc[1,2]\n",
    "    TPR_sm.append(tpr_sm)\n",
    "    \n",
    "    # output: TNR, TPR, and trial no. \n",
    "    print('Accuracy for not readmitted: {}'.format('%0.3f' % tnr_sm))\n",
    "    print('Accuracy for readmitted (Recall): {}'.format('%0.3f' % tpr_sm))\n",
    "    print('Random Forest trial count: {}'.format(trial + 1)) \n",
    "    print()"
   ]
  },
  {
   "cell_type": "code",
   "execution_count": 79,
   "metadata": {
    "collapsed": false
   },
   "outputs": [
    {
     "data": {
      "image/png": "[encoded data removed]",
      "text/plain": [
       "<matplotlib.figure.Figure at 0x1180976d8>"
      ]
     },
     "metadata": {},
     "output_type": "display_data"
    }
   ],
   "source": [
    "# plot TNR and TPR as box plots\n",
    "plots_sm = pd.DataFrame({'TPR': TPR_sm, 'TNR': TNR_sm})\n",
    "\n",
    "sns.boxplot(data = plots_sm)  \n",
    "plt.title('Box Plots for TPR and TNR in SMOTE (Random Forest)')\n",
    "plt.ylabel('Percent')\n",
    "plt.show()"
   ]
  },
  {
   "cell_type": "code",
   "execution_count": 80,
   "metadata": {
    "collapsed": false
   },
   "outputs": [
    {
     "data": {
      "image/png": "[encoded data removed]",
      "text/plain": [
       "<matplotlib.figure.Figure at 0x11813c4a8>"
      ]
     },
     "metadata": {},
     "output_type": "display_data"
    }
   ],
   "source": [
    "# line plot\n",
    "plots_sm.plot.line()\n",
    "plt.xlabel('Sample Number')\n",
    "plt.ylabel('percentage')\n",
    "plt.title('Positive and Negative Accuracy Rates: Random Forest with SMOTE')\n",
    "plt.show()"
   ]
  },
  {
   "cell_type": "code",
   "execution_count": null,
   "metadata": {
    "collapsed": true
   },
   "outputs": [],
   "source": []
  }
 ],
 "metadata": {
  "kernelspec": {
   "display_name": "Python 3",
   "language": "python",
   "name": "python3"
  },
  "language_info": {
   "codemirror_mode": {
    "name": "ipython",
    "version": 3
   },
   "file_extension": ".py",
   "mimetype": "text/x-python",
   "name": "python",
   "nbconvert_exporter": "python",
   "pygments_lexer": "ipython3",
   "version": "3.6.0"
  }
 },
 "nbformat": 4,
 "nbformat_minor": 2
}
